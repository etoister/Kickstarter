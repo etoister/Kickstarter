{
 "cells": [
  {
   "cell_type": "code",
   "execution_count": null,
   "metadata": {
    "scrolled": true
   },
   "outputs": [],
   "source": [
    "import pandas as pd\n",
    "import numpy as np\n",
    "import datetime as dt\n",
    "import os, json\n",
    "import matplotlib.pyplot as plt \n",
    "import matplotlib as mpl\n",
    "%matplotlib inline \n",
    "import seaborn as sns\n",
    "import scipy.stats as stats\n",
    "from scipy.stats import norm\n",
    "from sklearn.preprocessing import OneHotEncoder\n",
    "from sklearn.preprocessing import StandardScaler\n",
    "from sklearn.model_selection import train_test_split\n",
    "from sklearn.tree import DecisionTreeClassifier\n",
    "\n",
    "from sklearn.tree import export_graphviz \n",
    "import graphviz\n",
    "import pydotplus\n",
    "from sklearn.datasets import load_iris\n",
    "from sklearn import tree\n",
    "import collections\n",
    "from sklearn.metrics import confusion_matrix\n",
    "from os import path\n",
    "from PIL import Image\n",
    "from wordcloud import WordCloud, STOPWORDS, ImageColorGenerator\n"
   ]
  },
  {
   "cell_type": "code",
   "execution_count": null,
   "metadata": {
    "scrolled": true
   },
   "outputs": [],
   "source": [
    "Filetype=input('Load big file (1) or small file (2)? ')\n",
    "if Filetype=='2' :\n",
    "    data=pd.read_csv('data/Sdata_for_ML.csv',header=0)\n",
    "else:\n",
    "    data=pd.read_csv('data/Bdata_for_ML.csv',header=0)\n",
    "data=data.drop(['Unnamed: 0',],axis=1)    "
   ]
  },
  {
   "cell_type": "code",
   "execution_count": null,
   "metadata": {
    "scrolled": true
   },
   "outputs": [],
   "source": [
    "data.info(10)"
   ]
  },
  {
   "cell_type": "markdown",
   "metadata": {},
   "source": [
    "##  Small Tree ML"
   ]
  },
  {
   "cell_type": "code",
   "execution_count": null,
   "metadata": {
    "scrolled": false
   },
   "outputs": [],
   "source": [
    "mod1=data.drop(['is_starred','usd_pledged','pledge_perc', 'staff_pick',],axis=1)\n"
   ]
  },
  {
   "cell_type": "code",
   "execution_count": null,
   "metadata": {
    "scrolled": true
   },
   "outputs": [],
   "source": [
    "print(len(mod1))\n",
    "corr_df=mod1.corr()\n",
    "#corr_df[corr_df['state_num']==1]\n",
    "#corr_df[(corr_df<1) & ((corr_df >= 0.3) | (corr_df <= -0.3)) ]"
   ]
  },
  {
   "cell_type": "code",
   "execution_count": null,
   "metadata": {
    "scrolled": false
   },
   "outputs": [],
   "source": [
    "cor_st=corr_df.loc['state_num']\n",
    "print([cor_st.nsmallest(50)])\n",
    "print([cor_st.nlargest(50)])\n"
   ]
  },
  {
   "cell_type": "code",
   "execution_count": null,
   "metadata": {
    "scrolled": true
   },
   "outputs": [],
   "source": [
    "print(cor_st.nsmallest(50).index)\n",
    "print('')\n",
    "print(cor_st.nlargest(50).index)"
   ]
  },
  {
   "cell_type": "code",
   "execution_count": null,
   "metadata": {
    "scrolled": true
   },
   "outputs": [],
   "source": [
    "mod1_params= ['goal','launched-created','median_pladgePerc_in_category_last_year','category.slug_technology']"
   ]
  },
  {
   "cell_type": "code",
   "execution_count": null,
   "metadata": {
    "scrolled": true
   },
   "outputs": [],
   "source": [
    "Dtree_Params=mod1_params\n",
    "train_df, test_df= train_test_split (mod1, test_size = 0.2, random_state=6)\n",
    "Y_train = train_df[\"state_num\"]\n",
    "X_train = train_df[Dtree_Params]\n",
    "Y_test=test_df[\"state_num\"]\n",
    "X_test=test_df[Dtree_Params]\n",
    "tree_clf = DecisionTreeClassifier (max_depth = 3)\n",
    "tree_clf.fit (X_train, Y_train)"
   ]
  },
  {
   "cell_type": "markdown",
   "metadata": {},
   "source": [
    "Decision Tree visualization"
   ]
  },
  {
   "cell_type": "code",
   "execution_count": null,
   "metadata": {
    "scrolled": true
   },
   "outputs": [],
   "source": [
    "\n",
    "\n",
    "dot_data = export_graphviz(tree_clf, out_file = None, \n",
    "                           feature_names = Dtree_Params, \n",
    "                           class_names = [\"Succeed\", \"Fail\" ],\n",
    "                           rounded = True, filled=True, special_characters=True,precision=2)\n",
    "graph = graphviz.Source(dot_data) \n",
    "graph.format='png'\n",
    "graph.render()\n",
    "graph"
   ]
  },
  {
   "cell_type": "code",
   "execution_count": null,
   "metadata": {
    "scrolled": true
   },
   "outputs": [],
   "source": [
    "# Run the test set through the decision tree\n",
    "Y2_test_Tree_predict = tree_clf.predict (X_test)  \n",
    "\n",
    "#Test set conf matrix\n",
    "conf_matrix_Testdata = confusion_matrix(Y_test, Y2_test_Tree_predict) \n",
    "print('Test set conf matrix is',conf_matrix_Testdata)\n",
    "\n",
    "#Train set conf. matrix\n",
    "conf_matrix_Traindata = confusion_matrix(Y_train, tree_clf.predict (X_train)) \n",
    "print('Train set conf matrix is',conf_matrix_Traindata)\n",
    "\n",
    "from sklearn.metrics import precision_score, recall_score\n",
    "\n",
    "print(\"The recall for the train set is \",recall_score(Y_train, tree_clf.predict (X_train)))\n",
    "print(\"The recall for the test set tree is \",recall_score(Y_test, Y2_test_Tree_predict))\n",
    "print(\"The precision for the train set tree is \",precision_score(Y_train, tree_clf.predict (X_train)))\n",
    "print(\"The precision for the test tree is \",precision_score(Y_test, Y2_test_Tree_predict))\n",
    "\n",
    "Y_test_proba = tree_clf.predict_proba(X_test)\n",
    "print('Y_test_proba[:,1] is',Y_test_proba[:,1])\n",
    "\n",
    "from sklearn.metrics import precision_recall_curve\n",
    "\n",
    "precisions, recalls, thresholds = precision_recall_curve(y_true = Y_test, probas_pred = Y_test_proba[:,1])\n",
    "print(\" Precision = \", precisions, \"\\n\", \"Recalls = \", recalls, \"\\n\", \"Thresholds = \", thresholds)"
   ]
  },
  {
   "cell_type": "markdown",
   "metadata": {},
   "source": [
    "##  Large Tree ML"
   ]
  },
  {
   "cell_type": "code",
   "execution_count": null,
   "metadata": {
    "scrolled": true
   },
   "outputs": [],
   "source": [
    "para=mod1.drop(['state_num'],axis=1)\n",
    "para.columns"
   ]
  },
  {
   "cell_type": "code",
   "execution_count": null,
   "metadata": {
    "scrolled": true
   },
   "outputs": [],
   "source": [
    "Dtree_Params=para.columns\n",
    "train_df, test_df= train_test_split (mod1, test_size = 0.2, random_state=6)\n",
    "Y_train = train_df[\"state_num\"]\n",
    "X_train = train_df[Dtree_Params]\n",
    "Y_test=test_df[\"state_num\"]\n",
    "X_test=test_df[Dtree_Params]\n",
    "tree_clf = DecisionTreeClassifier (max_depth = 3)\n",
    "tree_clf.fit (X_train, Y_train)\n",
    "\n",
    "# Run the test set through the decision tree\n",
    "Y2_test_Tree_predict = tree_clf.predict (X_test)  \n",
    "\n",
    "#Test set conf matrix\n",
    "conf_matrix_Testdata = confusion_matrix(Y_test, Y2_test_Tree_predict) \n",
    "print('Test set conf matrix is',conf_matrix_Testdata)\n",
    "\n",
    "#Train set conf. matrix\n",
    "conf_matrix_Traindata = confusion_matrix(Y_train, tree_clf.predict (X_train)) \n",
    "print('Train set conf matrix is',conf_matrix_Traindata)\n",
    "\n",
    "from sklearn.metrics import precision_score, recall_score\n",
    "\n",
    "print(\"The recall for the train set is \",recall_score(Y_train, tree_clf.predict (X_train)))\n",
    "print(\"The recall for the test set tree is \",recall_score(Y_test, Y2_test_Tree_predict))\n",
    "print(\"The precision for the train set tree is \",precision_score(Y_train, tree_clf.predict (X_train)))\n",
    "print(\"The precision for the test tree is \",precision_score(Y_test, Y2_test_Tree_predict))\n",
    "\n",
    "Y_test_proba = tree_clf.predict_proba(X_test)\n",
    "print('Y_test_proba[:,1] is',Y_test_proba[:,1])\n",
    "\n",
    "from sklearn.metrics import precision_recall_curve\n",
    "\n",
    "precisions, recalls, thresholds = precision_recall_curve(y_true = Y_test, probas_pred = Y_test_proba[:,1])\n",
    "print(\" Precision = \", precisions, \"\\n\", \"Recalls = \", recalls, \"\\n\", \"Thresholds = \", thresholds)"
   ]
  },
  {
   "cell_type": "markdown",
   "metadata": {},
   "source": [
    "## Precision plot graph "
   ]
  },
  {
   "cell_type": "code",
   "execution_count": null,
   "metadata": {
    "scrolled": true
   },
   "outputs": [],
   "source": [
    "def plot_precision_recall_vs_threshold (precisions, recalls, thresholds, color = \"k\", label = None):\n",
    "    plt.plot (thresholds, precisions[:-1], color+\"--\", label=\"Precision \"+label)\n",
    "    plt.plot (thresholds, recalls[:-1], color+\"-\", label=\"Recall \"+label)\n",
    "    plt.xlabel(\"Threshold\")\n",
    "    plt.legend(loc=\"upper right\")\n",
    "    plt.ylim([0,1])"
   ]
  },
  {
   "cell_type": "code",
   "execution_count": null,
   "metadata": {
    "scrolled": true
   },
   "outputs": [],
   "source": [
    "plot_precision_recall_vs_threshold( precisions, recalls, thresholds, color = \"b\", label=\"Full tree\")\n",
    "plt.legend(loc = \"best\")"
   ]
  },
  {
   "cell_type": "markdown",
   "metadata": {},
   "source": [
    "## Roc Curve Plotting"
   ]
  },
  {
   "cell_type": "code",
   "execution_count": null,
   "metadata": {
    "scrolled": true
   },
   "outputs": [],
   "source": [
    "from sklearn.metrics import roc_curve"
   ]
  },
  {
   "cell_type": "code",
   "execution_count": null,
   "metadata": {
    "scrolled": true
   },
   "outputs": [],
   "source": [
    "fpr, tpr, thresholds = roc_curve(Y_test, Y_test_proba[:,1])"
   ]
  },
  {
   "cell_type": "code",
   "execution_count": null,
   "metadata": {
    "scrolled": true
   },
   "outputs": [],
   "source": [
    "def plot_roc_curve (fpr, tpr, label = None):\n",
    "    plt.plot(fpr, tpr, linewidth = 2, label = label)\n",
    "    plt.plot([0,1], [0,1], \"k--\")\n",
    "    plt.axis([0,1,0,1])\n",
    "    plt.xlabel(\"False positive rate\")\n",
    "    plt.ylabel(\"True positive rate\")\n",
    "    \n",
    "plot_roc_curve (fpr, tpr, \"Full tree\")\n",
    "plt.show()"
   ]
  },
  {
   "cell_type": "code",
   "execution_count": null,
   "metadata": {
    "scrolled": true
   },
   "outputs": [],
   "source": [
    "from sklearn.metrics import roc_auc_score\n",
    "print(\"AUC for random guess is:   \", 0.5 )\n",
    "print(\"AUC for the Full tree is: \", roc_auc_score(Y_test, Y_test_proba[:,1]) )"
   ]
  },
  {
   "cell_type": "markdown",
   "metadata": {},
   "source": [
    "## Random forest (RF)"
   ]
  },
  {
   "cell_type": "code",
   "execution_count": null,
   "metadata": {
    "scrolled": true
   },
   "outputs": [],
   "source": [
    "from sklearn.ensemble import RandomForestClassifier\n",
    "\n",
    "rnd_clf = RandomForestClassifier(n_estimators = 1000, max_depth = 2, n_jobs= -1)\n",
    "rnd_clf.fit (X_train, Y_train)\n",
    "y_pred_rf = rnd_clf.predict(X_test)"
   ]
  },
  {
   "cell_type": "code",
   "execution_count": null,
   "metadata": {
    "scrolled": true
   },
   "outputs": [],
   "source": [
    "confusion_matrix(Y_test, y_pred_rf)"
   ]
  },
  {
   "cell_type": "code",
   "execution_count": null,
   "metadata": {
    "scrolled": true
   },
   "outputs": [],
   "source": [
    "recall_score(Y_test, y_pred_rf)"
   ]
  },
  {
   "cell_type": "code",
   "execution_count": null,
   "metadata": {
    "scrolled": true
   },
   "outputs": [],
   "source": [
    "precision_score(Y_test, y_pred_rf)"
   ]
  },
  {
   "cell_type": "code",
   "execution_count": null,
   "metadata": {
    "scrolled": true
   },
   "outputs": [],
   "source": [
    "y_rf_proba = rnd_clf.predict_proba(X_test)\n",
    "fpr_rf, tpr_rf, thresholds_rf = roc_curve(Y_test, y_rf_proba[:,1])\n",
    "plot_roc_curve (fpr, tpr, \"Full tree\")\n",
    "plot_roc_curve (fpr_rf, tpr_rf, \"Random Forest\")\n",
    "plt.legend(loc = \"best\")\n",
    "plt.show()"
   ]
  },
  {
   "cell_type": "code",
   "execution_count": null,
   "metadata": {
    "scrolled": true
   },
   "outputs": [],
   "source": [
    "roc_auc_score(Y_test, y_rf_proba[:,1])"
   ]
  },
  {
   "cell_type": "code",
   "execution_count": null,
   "metadata": {
    "scrolled": false
   },
   "outputs": [],
   "source": [
    "feature_score = rnd_clf.feature_importances_\n",
    "feature_score"
   ]
  },
  {
   "cell_type": "code",
   "execution_count": null,
   "metadata": {
    "scrolled": true
   },
   "outputs": [],
   "source": [
    "feature_names = list(X_train)\n",
    "df_feature_score = pd.DataFrame(data=feature_names, columns=[\"feature\"])\n",
    "df_feature_score[\"score\"]= feature_score\n",
    "df_feature_score = df_feature_score.sort_values(by=['score'], ascending=False)\n",
    "#df_feature_score.head()\n",
    "df_feature_score_short=df_feature_score.drop(df_feature_score.index[12:])\n",
    "df_feature_score_short"
   ]
  },
  {
   "cell_type": "code",
   "execution_count": null,
   "metadata": {
    "scrolled": true
   },
   "outputs": [],
   "source": [
    "sns.barplot(y=\"feature\", x=\"score\", data=df_feature_score_short)"
   ]
  },
  {
   "cell_type": "markdown",
   "metadata": {},
   "source": [
    "## GBM"
   ]
  },
  {
   "cell_type": "code",
   "execution_count": null,
   "metadata": {
    "scrolled": true
   },
   "outputs": [],
   "source": [
    "from sklearn import ensemble\n",
    "\n",
    "clf_gb = ensemble.GradientBoostingClassifier()\n",
    "clf_gb.fit(X_train, Y_train)"
   ]
  },
  {
   "cell_type": "code",
   "execution_count": null,
   "metadata": {
    "scrolled": true
   },
   "outputs": [],
   "source": [
    "y_pred_gb = clf_gb.predict(X_test)"
   ]
  },
  {
   "cell_type": "code",
   "execution_count": null,
   "metadata": {
    "scrolled": true
   },
   "outputs": [],
   "source": [
    "confusion_matrix(Y_test, y_pred_gb)"
   ]
  },
  {
   "cell_type": "code",
   "execution_count": null,
   "metadata": {
    "scrolled": true
   },
   "outputs": [],
   "source": [
    "recall_score(Y_test, y_pred_gb)"
   ]
  },
  {
   "cell_type": "code",
   "execution_count": null,
   "metadata": {
    "scrolled": true
   },
   "outputs": [],
   "source": [
    "precision_score(Y_test, y_pred_gb)"
   ]
  },
  {
   "cell_type": "code",
   "execution_count": null,
   "metadata": {
    "scrolled": true
   },
   "outputs": [],
   "source": [
    "y_gb_proba = clf_gb.predict_proba(X_test)\n",
    "fpr_gb, tpr_gb, thresholds_gb = roc_curve(Y_test, y_gb_proba[:,1])\n",
    "\n",
    "y_rf_proba = rnd_clf.predict_proba(X_test)\n",
    "fpr_rf, tpr_rf, thresholds_rf = roc_curve(Y_test, y_rf_proba[:,1])\n",
    "plot_roc_curve (fpr, tpr, \"Full tree\")\n",
    "plot_roc_curve (fpr_rf, tpr_rf, \"Random Forest\")\n",
    "plot_roc_curve (fpr_gb, tpr_gb, \"gradient boosting\")\n",
    "plt.legend(loc = \"best\")\n",
    "plt.show()"
   ]
  },
  {
   "cell_type": "markdown",
   "metadata": {},
   "source": [
    "## Precision graph plots for all methods"
   ]
  },
  {
   "cell_type": "code",
   "execution_count": null,
   "metadata": {
    "scrolled": true
   },
   "outputs": [],
   "source": [
    "precisions_GB, recalls_GB, thresholds_GB = precision_recall_curve(y_true = Y_test, probas_pred = y_gb_proba[:,1])\n",
    "precisions_RF, recalls_RF, thresholds_RF = precision_recall_curve(y_true = Y_test, probas_pred = y_rf_proba[:,1])\n",
    "precisions, recalls, thresholds = precision_recall_curve(y_true = Y_test, probas_pred = Y_test_proba[:,1])\n",
    "\n",
    "plt.plot (thresholds, precisions[:-1], \"r\"+\"--\", label=\"Precision Full Tree\")\n",
    "plt.plot (thresholds, recalls[:-1], \"r\"+\"-\", label=\"Recall Full Tree \")\n",
    "plt.plot (thresholds_GB, precisions_GB[:-1], \"b\"+\"--\", label=\"Precision GB\")\n",
    "plt.plot (thresholds_GB, recalls_GB[:-1], \"b\"+\"-\", label=\"Recall GB\")\n",
    "plt.plot (thresholds_RF, precisions_RF[:-1], \"c\"+\"--\", label=\"Precision RF\")\n",
    "plt.plot (thresholds_RF, recalls_RF[:-1], \"c\"+\"-\", label=\"Recall RF\")\n",
    "\n",
    "plt.xlabel(\"Threshold\")\n",
    "plt.legend(frameon=False)\n",
    "plt.ylim([0,1])\n"
   ]
  },
  {
   "cell_type": "markdown",
   "metadata": {},
   "source": [
    "## Prepare data for Regression"
   ]
  },
  {
   "cell_type": "code",
   "execution_count": null,
   "metadata": {
    "scrolled": true
   },
   "outputs": [],
   "source": [
    "# Linear Regression imports\n",
    "from sklearn.linear_model import LinearRegression\n",
    "from sklearn.preprocessing import PolynomialFeatures\n",
    "\n",
    "from sklearn.metrics import r2_score\n",
    "lin_reg = LinearRegression()\n",
    "from sklearn.metrics import mean_squared_error"
   ]
  },
  {
   "cell_type": "code",
   "execution_count": null,
   "metadata": {
    "scrolled": true
   },
   "outputs": [],
   "source": [
    "Filetype=input('Load big file (1) or small file (2)? ')\n",
    "if Filetype=='2' :\n",
    "    data=pd.read_csv('data/Sdata_for_ML.csv',header=0)\n",
    "else:\n",
    "    data=pd.read_csv('data/Bdata_for_ML.csv',header=0)\n",
    "data=data.drop(['Unnamed: 0',],axis=1)   "
   ]
  },
  {
   "cell_type": "code",
   "execution_count": null,
   "metadata": {
    "scrolled": true
   },
   "outputs": [],
   "source": [
    "#define range of data\n",
    "data_r=data[data['pledge_perc']<400]\n",
    "data_r=data_r[data_r['pledge_perc']>100]\n",
    "data_r=data_r[data_r['usd_pledged']>=8000]\n",
    "data_r=data_r[data_r['usd_pledged']<=100000]"
   ]
  },
  {
   "cell_type": "code",
   "execution_count": null,
   "metadata": {
    "scrolled": true
   },
   "outputs": [],
   "source": [
    "data_r.info()"
   ]
  },
  {
   "cell_type": "markdown",
   "metadata": {},
   "source": [
    "## Linear Regression"
   ]
  },
  {
   "cell_type": "code",
   "execution_count": null,
   "metadata": {
    "scrolled": true
   },
   "outputs": [],
   "source": [
    "mask = data_r.columns.str.contains('category.name')\n",
    "mask[1]=True #add goal to parameters\n",
    "mask[4]=True #add staff pick to parameters\n",
    "mask[34]=True \n",
    "mask[18]=True \n",
    "#mask[27]=True \n",
    "#mask[28]=True \n",
    "#mask[29]=True \n",
    "#mask[30]=True \n",
    "#mask[31]=True \n",
    "#mask[32]=True \n",
    "\n",
    "lin_reg_params=data_r.columns[mask]\n",
    "lin_reg_params"
   ]
  },
  {
   "cell_type": "code",
   "execution_count": null,
   "metadata": {
    "scrolled": true
   },
   "outputs": [],
   "source": [
    "#define parameters for regression\n",
    "y = data_r [['usd_pledged']]\n",
    "X = data_r[lin_reg_params]"
   ]
  },
  {
   "cell_type": "code",
   "execution_count": null,
   "metadata": {
    "scrolled": true
   },
   "outputs": [],
   "source": [
    "#split to train and test\n",
    "X_train, X_test, y_train, y_test = train_test_split (X, y, test_size = 0.4, random_state=8)"
   ]
  },
  {
   "cell_type": "code",
   "execution_count": null,
   "metadata": {
    "scrolled": true
   },
   "outputs": [],
   "source": [
    "#perform regression\n",
    "lin_reg.fit(X_train, y_train)"
   ]
  },
  {
   "cell_type": "code",
   "execution_count": null,
   "metadata": {
    "scrolled": false
   },
   "outputs": [],
   "source": [
    "print(\"predicted y = \", lin_reg.coef_, \" * X + \", lin_reg.intercept_)"
   ]
  },
  {
   "cell_type": "code",
   "execution_count": null,
   "metadata": {
    "scrolled": true
   },
   "outputs": [],
   "source": [
    "y_test_pred_numeric = lin_reg.predict(X_test)"
   ]
  },
  {
   "cell_type": "code",
   "execution_count": null,
   "metadata": {
    "scrolled": true
   },
   "outputs": [],
   "source": [
    "lin_reg.score(X_test, y_test)\n",
    "#R square score"
   ]
  },
  {
   "cell_type": "code",
   "execution_count": null,
   "metadata": {
    "scrolled": true
   },
   "outputs": [],
   "source": [
    "r2_score(y_test, y_test_pred_numeric) #another method for r^2"
   ]
  },
  {
   "cell_type": "code",
   "execution_count": null,
   "metadata": {
    "scrolled": true
   },
   "outputs": [],
   "source": [
    "mean_squared_error(y_test, y_test_pred_numeric)"
   ]
  },
  {
   "cell_type": "code",
   "execution_count": null,
   "metadata": {
    "scrolled": true
   },
   "outputs": [],
   "source": [
    "plt.subplots(figsize=(25,20))\n",
    "ax= sns.residplot(y_test, y_test-y_test_pred_numeric, color=\"g\")\n",
    "sns.set_context(\"paper\", rc={\"font.size\":15,\"axes.titlesize\":25,\"axes.labelsize\":20,'xtick.labelsize': 16.0})\n",
    "ax.set(xlabel='Y-test', ylabel='Residual = Y-predicted - Y-test',title=\"Linear Regression\")"
   ]
  },
  {
   "cell_type": "markdown",
   "metadata": {},
   "source": [
    "# Polynomial Regression"
   ]
  },
  {
   "cell_type": "markdown",
   "metadata": {},
   "source": [
    "corr_r=data_r.corr()\n",
    "corr_r=corr_r.loc['state_num']\n",
    "print([corr_r.nsmallest(50)])\n",
    "print([corr_r.nlargest(50)])\n",
    "\n",
    "\n",
    "print(corr_r.nsmallest(50).index)\n",
    "print('')\n",
    "print(corr_r.nlargest(50).index)"
   ]
  },
  {
   "attachments": {},
   "cell_type": "markdown",
   "metadata": {},
   "source": [
    "# model 1-Conservative prediction \n"
   ]
  },
  {
   "cell_type": "code",
   "execution_count": null,
   "metadata": {},
   "outputs": [],
   "source": [
    "#define range of data\n",
    "data_r=data[data['pledge_perc']>100]\n",
    "data_r=data_r[data_r['pledge_perc']<250]\n",
    "data_r=data_r[data_r['usd_pledged']>=1000]\n",
    "data_r=data_r[data_r['usd_pledged']<=80000]\n",
    "print(len(data_r))\n",
    "corr_df=data_r.corr()\n",
    "cor_st=corr_df.loc['usd_pledged']\n",
    "print(cor_st.nsmallest(15).index)\n",
    "print('')\n",
    "print(cor_st.nlargest(25).index)"
   ]
  },
  {
   "cell_type": "code",
   "execution_count": null,
   "metadata": {
    "scrolled": false
   },
   "outputs": [],
   "source": [
    "#define parameters for regression\n",
    "y = data_r [['usd_pledged']]\n",
    "X = data_r[['country_GB',\n",
    "       'Last_Week','Last_Month',\n",
    "       'Last_Year','Last_6_Month',\n",
    "       'mean_goal_in_category_last_year',\n",
    "       'median_goal_in_category_last_year',\n",
    "       'mean_pladge_in_category_last_year',\n",
    "       'median_pladge_in_category_last_year',\n",
    "       'mean_pladgePerc_in_category_last_year',\n",
    "       'median_pladgePerc_in_category_last_year',\n",
    "       'goal_ratio',\n",
    "       'name_len','deadline_yr', 'launched_at_yr',\n",
    "       'name_non_character', 'goal',\n",
    "       'deadline_hr', 'goal_1000','country_US', 'launched-created',\n",
    "       'category.slug_music','category.slug_design','category.slug_technology','category.name_Science Fiction', \n",
    "       'category.slug_publishing', 'blurb_number_of_word', 'blurb_vowel_ratio']]\n",
    "#split to train and test\n",
    "X_train, X_test, y_train, y_test = train_test_split (X, y, test_size = 0.2, random_state=8)\n",
    "\n",
    "# PolynomialFeatures (prepreprocessing)\n",
    "poly = PolynomialFeatures(degree=2)\n",
    "X_train_p = poly.fit_transform(X_train)\n",
    "X_test_p = poly.fit_transform(X_test)\n",
    "\n",
    "# Instantiate\n",
    "lg = LinearRegression()\n",
    "\n",
    "# Fit\n",
    "lg.fit(X_train_p, y_train)\n",
    "\n",
    "# Obtain coefficients\n",
    "#lg.coef_\n",
    "\n",
    "# Predict\n",
    "y_test_pred_numeric_p=lg.predict(X_test_p)\n",
    "\n",
    "print(r2_score(y_test, y_test_pred_numeric_p))\n",
    "\n",
    "plt.subplots(figsize=(25,20))\n",
    "ax= sns.residplot(y_test, (y_test-y_test_pred_numeric_p)/y_test, color=\"g\")\n",
    "sns.set_context(\"poster\", rc={\"font.size\":50,\"axes.titlesize\":50,\"axes.labelsize\":50,'xtick.labelsize': 30.0})\n",
    "#ax.set(xlabel='Y-test', ylabel='Residual% = (Y-predicted - Y-test)/Y-Test',title=\"Pledge prediction\")\n",
    "plt.tick_params(axis='both', labelsize=30)"
   ]
  },
  {
   "attachments": {},
   "cell_type": "markdown",
   "metadata": {},
   "source": [
    "# model 2- Risky prediction \n"
   ]
  },
  {
   "cell_type": "code",
   "execution_count": null,
   "metadata": {},
   "outputs": [],
   "source": [
    "#define range of data\n",
    "data_r=data[data['pledge_perc']>100]\n",
    "data_r=data_r[data_r['pledge_perc']<500]\n",
    "data_r=data_r[data_r['usd_pledged']>=1000]\n",
    "data_r=data_r[data_r['usd_pledged']<=100000]\n",
    "print(len(data_r))\n",
    "corr_df=data_r.corr()\n",
    "cor_st=corr_df.loc['usd_pledged']\n",
    "print(cor_st.nsmallest(15).index)\n",
    "print('')\n",
    "print(cor_st.nlargest(25).index)\n",
    "\n",
    "#define parameters for regression\n",
    "y = data_r [['usd_pledged']]\n",
    "X = data_r[['country_GB',\n",
    "       'Last_Week','Last_Month',\n",
    "       'Last_Year','Last_6_Month',\n",
    "       'mean_goal_in_category_last_year',\n",
    "       'median_goal_in_category_last_year',\n",
    "       'mean_pladge_in_category_last_year',\n",
    "       'median_pladge_in_category_last_year',\n",
    "       'mean_pladgePerc_in_category_last_year',\n",
    "       'median_pladgePerc_in_category_last_year',\n",
    "       'goal_ratio',\n",
    "       'name_len','deadline_yr', 'launched_at_yr',\n",
    "       'name_non_character', 'goal',\n",
    "       'deadline_hr', 'goal_1000','country_US', 'launched-created',\n",
    "       'category.slug_music','category.slug_design','category.slug_technology','category.name_Science Fiction', \n",
    "       'category.slug_publishing', 'blurb_number_of_word', 'blurb_vowel_ratio']]\n",
    "#split to train and test\n",
    "X_train, X_test, y_train, y_test = train_test_split (X, y, test_size = 0.2, random_state=8)\n",
    "\n",
    "# PolynomialFeatures (prepreprocessing)\n",
    "poly = PolynomialFeatures(degree=2)\n",
    "X_train_p = poly.fit_transform(X_train)\n",
    "X_test_p = poly.fit_transform(X_test)\n",
    "\n",
    "# Instantiate\n",
    "lg = LinearRegression()\n",
    "\n",
    "# Fit\n",
    "lg.fit(X_train_p, y_train)\n",
    "\n",
    "# Obtain coefficients\n",
    "#lg.coef_\n",
    "\n",
    "# Predict\n",
    "y_test_pred_numeric_p=lg.predict(X_test_p)\n",
    "\n",
    "print(r2_score(y_test, y_test_pred_numeric_p))\n",
    "\n",
    "plt.subplots(figsize=(25,20))\n",
    "ax= sns.residplot(y_test, (y_test-y_test_pred_numeric_p)/y_test, color=\"b\")\n",
    "sns.set_context(\"poster\", rc={\"font.size\":30,\"axes.titlesize\":30,\"axes.labelsize\":40,'xtick.labelsize': 16.0})\n",
    "ax.set(xlabel='Y-test', ylabel='Residual% = (Y-predicted - Y-test)/Y-Test',title=\"Polynomial Regression\")"
   ]
  },
  {
   "cell_type": "code",
   "execution_count": null,
   "metadata": {},
   "outputs": [],
   "source": []
  }
 ],
 "metadata": {
  "kernelspec": {
   "display_name": "Python 3",
   "language": "python",
   "name": "python3"
  },
  "language_info": {
   "codemirror_mode": {
    "name": "ipython",
    "version": 3
   },
   "file_extension": ".py",
   "mimetype": "text/x-python",
   "name": "python",
   "nbconvert_exporter": "python",
   "pygments_lexer": "ipython3",
   "version": "3.6.5"
  }
 },
 "nbformat": 4,
 "nbformat_minor": 2
}
