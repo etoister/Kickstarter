{
 "cells": [
  {
   "cell_type": "code",
   "execution_count": 1,
   "metadata": {},
   "outputs": [],
   "source": [
    "import pandas as pd\n",
    "import numpy as np\n",
    "import datetime as dt\n",
    "import os, json\n",
    "import matplotlib.pyplot as plt \n",
    "import matplotlib as mpl\n",
    "%matplotlib inline \n",
    "import seaborn as sns\n",
    "import scipy.stats as stats\n",
    "from scipy.stats import norm\n",
    "from sklearn.preprocessing import OneHotEncoder\n",
    "from sklearn.preprocessing import StandardScaler\n",
    "from sklearn.model_selection import train_test_split\n",
    "from sklearn.tree import DecisionTreeClassifier\n",
    "\n",
    "from sklearn.tree import export_graphviz \n",
    "import graphviz\n",
    "import pydotplus\n",
    "from sklearn.datasets import load_iris\n",
    "from sklearn import tree\n",
    "import collections\n",
    "from sklearn.metrics import confusion_matrix\n",
    "from os import path\n",
    "from PIL import Image\n",
    "from wordcloud import WordCloud, STOPWORDS, ImageColorGenerator\n",
    "\n",
    "#data=pd.read_csv('data/Bdata_for_ML.csv',header=0) #for 54 files\n",
    "data=pd.read_csv('data/Sdata_for_ML.csv',header=0)\n",
    "data=data.drop(['Unnamed: 0',],axis=1)\n"
   ]
  },
  {
   "cell_type": "code",
   "execution_count": 2,
   "metadata": {},
   "outputs": [
    {
     "name": "stdout",
     "output_type": "stream",
     "text": [
      "<class 'pandas.core.frame.DataFrame'>\n",
      "RangeIndex: 15950 entries, 0 to 15949\n",
      "Data columns (total 248 columns):\n",
      "is_starred                          bool\n",
      "goal                                float64\n",
      "usd_pledged                         float64\n",
      "pledge_perc                         float64\n",
      "staff_pick                          bool\n",
      "launched_at_hr                      int64\n",
      "launched_at_day_in_month            int64\n",
      "launched_at_mo                      int64\n",
      "launched_at_yr                      int64\n",
      "deadline_hr                         int64\n",
      "deadline_day_in_month               int64\n",
      "deadline_mo                         int64\n",
      "deadline_yr                         int64\n",
      "created_at_hr                       int64\n",
      "created_at_day_in_week              int64\n",
      "created_at_day_in_month             int64\n",
      "created_at_mo                       int64\n",
      "created_at_yr                       int64\n",
      "launched-created                    int64\n",
      "goal_1000                           float64\n",
      "goal_500                            float64\n",
      "goal_10                             float64\n",
      "Last_Week                           int64\n",
      "Last_Month                          int64\n",
      "Last_Year                           int64\n",
      "Last_3_Month                        int64\n",
      "Last_6_Month                        int64\n",
      "deadline-launched                   float64\n",
      "state_num                           int64\n",
      "name_len                            int64\n",
      "name_is_question                    int64\n",
      "name_is_exclamation                 int64\n",
      "name_is_upper                       float64\n",
      "name_non_character                  int64\n",
      "name_number_of_word                 int64\n",
      "name_vowel_ratio                    float64\n",
      "blurb_number_of_word                int64\n",
      "blurb_vowel_ratio                   int64\n",
      "blurb_non_character                 int64\n",
      "category.name_3D Printing           int64\n",
      "category.name_Academic              int64\n",
      "category.name_Accessories           int64\n",
      "category.name_Action                int64\n",
      "category.name_Animals               int64\n",
      "category.name_Animation             int64\n",
      "category.name_Anthologies           int64\n",
      "category.name_Apparel               int64\n",
      "category.name_Apps                  int64\n",
      "category.name_Architecture          int64\n",
      "category.name_Art Books             int64\n",
      "category.name_Audio                 int64\n",
      "category.name_Bacon                 int64\n",
      "category.name_Blues                 int64\n",
      "category.name_Calendars             int64\n",
      "category.name_Camera Equipment      int64\n",
      "category.name_Candles               int64\n",
      "category.name_Ceramics              int64\n",
      "category.name_Children's Books      int64\n",
      "category.name_Childrenswear         int64\n",
      "category.name_Chiptune              int64\n",
      "category.name_Civic Design          int64\n",
      "category.name_Classical Music       int64\n",
      "category.name_Comedy                int64\n",
      "category.name_Comic Books           int64\n",
      "category.name_Community Gardens     int64\n",
      "category.name_Conceptual Art        int64\n",
      "category.name_Cookbooks             int64\n",
      "category.name_Country & Folk        int64\n",
      "category.name_Couture               int64\n",
      "category.name_Crochet               int64\n",
      "category.name_DIY                   int64\n",
      "category.name_DIY Electronics       int64\n",
      "category.name_Digital Art           int64\n",
      "category.name_Documentary           int64\n",
      "category.name_Drama                 int64\n",
      "category.name_Drinks                int64\n",
      "category.name_Electronic Music      int64\n",
      "category.name_Embroidery            int64\n",
      "category.name_Events                int64\n",
      "category.name_Experimental          int64\n",
      "category.name_Fabrication Tools     int64\n",
      "category.name_Faith                 int64\n",
      "category.name_Family                int64\n",
      "category.name_Fantasy               int64\n",
      "category.name_Farmer's Markets      int64\n",
      "category.name_Farms                 int64\n",
      "category.name_Festivals             int64\n",
      "category.name_Fiction               int64\n",
      "category.name_Fine Art              int64\n",
      "category.name_Flight                int64\n",
      "category.name_Food Trucks           int64\n",
      "category.name_Footwear              int64\n",
      "category.name_Gadgets               int64\n",
      "category.name_Gaming Hardware       int64\n",
      "category.name_Glass                 int64\n",
      "category.name_Graphic Design        int64\n",
      "category.name_Graphic Novels        int64\n",
      "category.name_Hardware              int64\n",
      "category.name_Hip-Hop               int64\n",
      "category.name_Horror                int64\n",
      "category.name_Illustration          int64\n",
      "category.name_Immersive             int64\n",
      "category.name_Indie Rock            int64\n",
      "category.name_Installations         int64\n",
      "category.name_Interactive Design    int64\n",
      "category.name_Jazz                  int64\n",
      "category.name_Jewelry               int64\n",
      "category.name_Kids                  int64\n",
      "category.name_Knitting              int64\n",
      "category.name_Latin                 int64\n",
      "category.name_Letterpress           int64\n",
      "category.name_Literary Journals     int64\n",
      "category.name_Literary Spaces       int64\n",
      "category.name_Live Games            int64\n",
      "category.name_Makerspaces           int64\n",
      "category.name_Metal                 int64\n",
      "category.name_Mixed Media           int64\n",
      "category.name_Mobile Games          int64\n",
      "category.name_Movie Theaters        int64\n",
      "category.name_Music Videos          int64\n",
      "category.name_Musical               int64\n",
      "category.name_Narrative Film        int64\n",
      "category.name_Nature                int64\n",
      "category.name_Nonfiction            int64\n",
      "category.name_Painting              int64\n",
      "category.name_People                int64\n",
      "category.name_Performance Art       int64\n",
      "category.name_Performances          int64\n",
      "category.name_Periodicals           int64\n",
      "category.name_Pet Fashion           int64\n",
      "category.name_Photo                 int64\n",
      "category.name_Photobooks            int64\n",
      "category.name_Places                int64\n",
      "category.name_Playing Cards         int64\n",
      "category.name_Plays                 int64\n",
      "category.name_Poetry                int64\n",
      "category.name_Pop                   int64\n",
      "category.name_Pottery               int64\n",
      "category.name_Print                 int64\n",
      "category.name_Printing              int64\n",
      "category.name_Product Design        int64\n",
      "category.name_Public Art            int64\n",
      "category.name_Punk                  int64\n",
      "category.name_Puzzles               int64\n",
      "category.name_Quilts                int64\n",
      "category.name_R&B                   int64\n",
      "category.name_Radio & Podcasts      int64\n",
      "category.name_Ready-to-wear         int64\n",
      "category.name_Residencies           int64\n",
      "category.name_Restaurants           int64\n",
      "category.name_Robots                int64\n",
      "category.name_Rock                  int64\n",
      "category.name_Romance               int64\n",
      "category.name_Science Fiction       int64\n",
      "category.name_Sculpture             int64\n",
      "category.name_Shorts                int64\n",
      "category.name_Small Batch           int64\n",
      "category.name_Software              int64\n",
      "category.name_Sound                 int64\n",
      "category.name_Space Exploration     int64\n",
      "category.name_Spaces                int64\n",
      "category.name_Stationery            int64\n",
      "category.name_Tabletop Games        int64\n",
      "category.name_Taxidermy             int64\n",
      "category.name_Television            int64\n",
      "category.name_Textiles              int64\n",
      "category.name_Thrillers             int64\n",
      "category.name_Translations          int64\n",
      "category.name_Typography            int64\n",
      "category.name_Vegan                 int64\n",
      "category.name_Video                 int64\n",
      "category.name_Video Art             int64\n",
      "category.name_Video Games           int64\n",
      "category.name_Wearables             int64\n",
      "category.name_Weaving               int64\n",
      "category.name_Web                   int64\n",
      "category.name_Webcomics             int64\n",
      "category.name_Webseries             int64\n",
      "category.name_Woodworking           int64\n",
      "category.name_Workshops             int64\n",
      "category.name_World Music           int64\n",
      "category.name_Young Adult           int64\n",
      "category.name_Zines                 int64\n",
      "category.slug_art                   int64\n",
      "category.slug_comics                int64\n",
      "category.slug_crafts                int64\n",
      "category.slug_dance                 int64\n",
      "category.slug_design                int64\n",
      "category.slug_fashion               int64\n",
      "category.slug_film & video          int64\n",
      "category.slug_food                  int64\n",
      "category.slug_games                 int64\n",
      "category.slug_journalism            int64\n",
      "category.slug_music                 int64\n",
      "category.slug_photography           int64\n",
      "category.slug_publishing            int64\n",
      "category.slug_technology            int64\n",
      "category.slug_theater               int64\n",
      "country_AT                          int64\n",
      "country_AU                          int64\n",
      "country_BE                          int64\n",
      "country_CA                          int64\n",
      "country_CH                          int64\n",
      "country_DE                          int64\n",
      "country_DK                          int64\n",
      "country_ES                          int64\n",
      "country_FR                          int64\n",
      "country_GB                          int64\n",
      "country_HK                          int64\n",
      "country_IE                          int64\n",
      "country_IT                          int64\n",
      "country_JP                          int64\n",
      "country_LU                          int64\n",
      "country_MX                          int64\n",
      "country_NL                          int64\n",
      "country_NO                          int64\n",
      "country_NZ                          int64\n",
      "country_SE                          int64\n",
      "country_SG                          int64\n",
      "country_US                          int64\n",
      "currency_AUD                        int64\n",
      "currency_CAD                        int64\n",
      "currency_CHF                        int64\n",
      "currency_DKK                        int64\n",
      "currency_EUR                        int64\n",
      "currency_GBP                        int64\n",
      "currency_HKD                        int64\n",
      "currency_JPY                        int64\n",
      "currency_MXN                        int64\n",
      "currency_NOK                        int64\n",
      "currency_NZD                        int64\n",
      "currency_SEK                        int64\n",
      "currency_SGD                        int64\n",
      "currency_USD                        int64\n",
      "launched_at_day_in_week_1           int64\n",
      "launched_at_day_in_week_2           int64\n",
      "launched_at_day_in_week_3           int64\n",
      "launched_at_day_in_week_4           int64\n",
      "launched_at_day_in_week_5           int64\n",
      "launched_at_day_in_week_6           int64\n",
      "launched_at_day_in_week_7           int64\n",
      "deadline_day_in_week_1              int64\n",
      "deadline_day_in_week_2              int64\n",
      "deadline_day_in_week_3              int64\n",
      "deadline_day_in_week_4              int64\n",
      "deadline_day_in_week_5              int64\n",
      "deadline_day_in_week_6              int64\n",
      "deadline_day_in_week_7              int64\n",
      "dtypes: bool(2), float64(9), int64(237)\n",
      "memory usage: 30.0 MB\n"
     ]
    }
   ],
   "source": [
    "data.info(10)"
   ]
  },
  {
   "cell_type": "markdown",
   "metadata": {},
   "source": [
    "##  Small Tree ML"
   ]
  },
  {
   "cell_type": "code",
   "execution_count": 3,
   "metadata": {
    "scrolled": true
   },
   "outputs": [],
   "source": [
    "data=data.drop(['is_starred','usd_pledged','pledge_perc', 'staff_pick',],axis=1)\n",
    "mod1=data"
   ]
  },
  {
   "cell_type": "code",
   "execution_count": 4,
   "metadata": {},
   "outputs": [
    {
     "name": "stdout",
     "output_type": "stream",
     "text": [
      "15950\n"
     ]
    }
   ],
   "source": [
    "print(len(mod1))\n",
    "corr_df=mod1.corr()\n",
    "#corr_df[corr_df['state_num']==1]\n",
    "#corr_df[(corr_df<1) & ((corr_df >= 0.3) | (corr_df <= -0.3)) ]"
   ]
  },
  {
   "cell_type": "code",
   "execution_count": 5,
   "metadata": {},
   "outputs": [
    {
     "name": "stdout",
     "output_type": "stream",
     "text": [
      "goal                             -0.214177\n",
      "deadline_yr                      -0.201259\n",
      "created_at_yr                    -0.199914\n",
      "launched_at_yr                   -0.198035\n",
      "category.slug_food               -0.165347\n",
      "category.slug_technology         -0.126809\n",
      "category.name_Web                -0.120768\n",
      "category.name_Mobile Games       -0.099420\n",
      "category.name_Apps               -0.098724\n",
      "category.slug_crafts             -0.093688\n",
      "category.name_Food Trucks        -0.090487\n",
      "category.name_Software           -0.082177\n",
      "deadline-launched                -0.082168\n",
      "goal_1000                        -0.082135\n",
      "goal_500                         -0.082034\n",
      "goal_10                          -0.081988\n",
      "category.name_Restaurants        -0.074828\n",
      "category.slug_journalism         -0.072481\n",
      "currency_EUR                     -0.070721\n",
      "category.name_Animation          -0.068526\n",
      "category.slug_photography        -0.066567\n",
      "category.name_Hip-Hop            -0.064780\n",
      "deadline_hr                      -0.062170\n",
      "category.name_DIY                -0.061928\n",
      "country_CA                       -0.059476\n",
      "currency_CAD                     -0.059476\n",
      "category.name_Places             -0.056398\n",
      "category.name_Drinks             -0.055893\n",
      "category.name_Ready-to-wear      -0.053103\n",
      "country_AU                       -0.051609\n",
      "currency_AUD                     -0.051609\n",
      "category.name_Live Games         -0.051402\n",
      "category.name_Action             -0.049717\n",
      "category.name_People             -0.047463\n",
      "category.name_Academic           -0.046788\n",
      "category.name_Small Batch        -0.046419\n",
      "country_IT                       -0.044867\n",
      "category.name_Farms              -0.044480\n",
      "category.name_Events             -0.043879\n",
      "category.name_Farmer's Markets   -0.042901\n",
      "category.name_Architecture       -0.042639\n",
      "category.name_Young Adult        -0.042464\n",
      "Last_Year                        -0.042446\n",
      "category.name_Childrenswear      -0.042055\n",
      "category.name_Jewelry            -0.040913\n",
      "category.name_Electronic Music   -0.040303\n",
      "category.name_Candles            -0.039658\n",
      "category.name_Digital Art        -0.039455\n",
      "category.name_Music Videos       -0.039128\n",
      "category.name_Television         -0.039053\n",
      "Name: state_num, dtype: float64\n",
      "state_num                         1.000000\n",
      "name_non_character                0.148786\n",
      "name_number_of_word               0.144489\n",
      "name_len                          0.124042\n",
      "category.name_Shorts              0.122697\n",
      "category.name_Tabletop Games      0.120213\n",
      "category.name_Documentary         0.119164\n",
      "category.name_Video Games         0.116610\n",
      "country_US                        0.116108\n",
      "currency_USD                      0.116108\n",
      "category.name_Product Design      0.115747\n",
      "category.name_Indie Rock          0.114660\n",
      "category.name_Children's Books    0.110664\n",
      "category.name_Nonfiction          0.110438\n",
      "category.name_Rock                0.103204\n",
      "category.name_Fiction             0.101503\n",
      "category.slug_publishing          0.100148\n",
      "category.name_Country & Folk      0.096487\n",
      "category.slug_music               0.094474\n",
      "category.name_Narrative Film      0.084932\n",
      "category.name_Illustration        0.080283\n",
      "category.name_Comic Books         0.075169\n",
      "category.slug_comics              0.063400\n",
      "category.name_Apparel             0.059686\n",
      "category.slug_games               0.056699\n",
      "category.name_Accessories         0.054930\n",
      "category.name_Performances        0.052055\n",
      "category.name_Webseries           0.049478\n",
      "name_is_exclamation               0.049287\n",
      "category.slug_dance               0.045383\n",
      "category.slug_design              0.043077\n",
      "category.name_Classical Music     0.042936\n",
      "category.name_Public Art          0.042873\n",
      "category.slug_film & video        0.040521\n",
      "blurb_non_character               0.040224\n",
      "category.name_Pop                 0.038280\n",
      "category.name_Hardware            0.032604\n",
      "category.name_Jazz                0.029764\n",
      "created_at_hr                     0.026227\n",
      "category.name_Anthologies         0.022473\n",
      "category.name_Graphic Novels      0.022435\n",
      "deadline_day_in_week_1            0.022366\n",
      "category.name_Festivals           0.018521\n",
      "launched-created                  0.018485\n",
      "launched_at_day_in_week_4         0.017680\n",
      "category.slug_theater             0.015935\n",
      "category.name_Plays               0.013560\n",
      "country_LU                        0.012053\n",
      "category.name_Chiptune            0.012053\n",
      "launched_at_day_in_week_2         0.011987\n",
      "Name: state_num, dtype: float64\n"
     ]
    }
   ],
   "source": [
    "cor_st=corr_df.loc['state_num']\n",
    "print(cor_st.nsmallest(50))\n",
    "print(cor_st.nlargest(50))\n"
   ]
  },
  {
   "cell_type": "code",
   "execution_count": 6,
   "metadata": {},
   "outputs": [],
   "source": [
    "mod1_params= ['goal','launched-created','category.slug_food','category.slug_technology']\n"
   ]
  },
  {
   "cell_type": "code",
   "execution_count": 7,
   "metadata": {},
   "outputs": [
    {
     "data": {
      "text/plain": [
       "DecisionTreeClassifier(class_weight=None, criterion='gini', max_depth=3,\n",
       "            max_features=None, max_leaf_nodes=None,\n",
       "            min_impurity_decrease=0.0, min_impurity_split=None,\n",
       "            min_samples_leaf=1, min_samples_split=2,\n",
       "            min_weight_fraction_leaf=0.0, presort=False, random_state=None,\n",
       "            splitter='best')"
      ]
     },
     "execution_count": 7,
     "metadata": {},
     "output_type": "execute_result"
    }
   ],
   "source": [
    "Dtree_Params=mod1_params\n",
    "train_df, test_df= train_test_split (mod1, test_size = 0.2, random_state=6)\n",
    "Y_train = train_df[\"state_num\"]\n",
    "X_train = train_df[Dtree_Params]\n",
    "Y_test=test_df[\"state_num\"]\n",
    "X_test=test_df[Dtree_Params]\n",
    "tree_clf = DecisionTreeClassifier (max_depth = 3)\n",
    "tree_clf.fit (X_train, Y_train)"
   ]
  },
  {
   "cell_type": "markdown",
   "metadata": {},
   "source": [
    "Decision Tree visualization"
   ]
  },
  {
   "cell_type": "code",
   "execution_count": 8,
   "metadata": {},
   "outputs": [
    {
     "data": {
      "image/svg+xml": [
       "<?xml version=\"1.0\" encoding=\"UTF-8\" standalone=\"no\"?>\r\n",
       "<!DOCTYPE svg PUBLIC \"-//W3C//DTD SVG 1.1//EN\"\r\n",
       " \"http://www.w3.org/Graphics/SVG/1.1/DTD/svg11.dtd\">\r\n",
       "<!-- Generated by graphviz version 2.38.0 (20140413.2041)\r\n",
       " -->\r\n",
       "<!-- Title: Tree Pages: 1 -->\r\n",
       "<svg width=\"1190pt\" height=\"433pt\"\r\n",
       " viewBox=\"0.00 0.00 1190.00 433.00\" xmlns=\"http://www.w3.org/2000/svg\" xmlns:xlink=\"http://www.w3.org/1999/xlink\">\r\n",
       "<g id=\"graph0\" class=\"graph\" transform=\"scale(1 1) rotate(0) translate(4 429)\">\r\n",
       "<title>Tree</title>\r\n",
       "<polygon fill=\"white\" stroke=\"none\" points=\"-4,4 -4,-429 1186,-429 1186,4 -4,4\"/>\r\n",
       "<!-- 0 -->\r\n",
       "<g id=\"node1\" class=\"node\"><title>0</title>\r\n",
       "<path fill=\"#399de5\" fill-opacity=\"0.235294\" stroke=\"black\" d=\"M674,-425C674,-425 552,-425 552,-425 546,-425 540,-419 540,-413 540,-413 540,-354 540,-354 540,-348 546,-342 552,-342 552,-342 674,-342 674,-342 680,-342 686,-348 686,-354 686,-354 686,-413 686,-413 686,-419 680,-425 674,-425\"/>\r\n",
       "<text text-anchor=\"start\" x=\"573.5\" y=\"-409.8\" font-family=\"Helvetica,sans-Serif\" font-size=\"14.00\">goal ≤ 10.12</text>\r\n",
       "<text text-anchor=\"start\" x=\"579.5\" y=\"-394.8\" font-family=\"Helvetica,sans-Serif\" font-size=\"14.00\">gini = 0.49</text>\r\n",
       "<text text-anchor=\"start\" x=\"557\" y=\"-379.8\" font-family=\"Helvetica,sans-Serif\" font-size=\"14.00\">samples = 12760</text>\r\n",
       "<text text-anchor=\"start\" x=\"548\" y=\"-364.8\" font-family=\"Helvetica,sans-Serif\" font-size=\"14.00\">value = [5532, 7228]</text>\r\n",
       "<text text-anchor=\"start\" x=\"577\" y=\"-349.8\" font-family=\"Helvetica,sans-Serif\" font-size=\"14.00\">class = Fail</text>\r\n",
       "</g>\r\n",
       "<!-- 1 -->\r\n",
       "<g id=\"node2\" class=\"node\"><title>1</title>\r\n",
       "<path fill=\"#399de5\" fill-opacity=\"0.360784\" stroke=\"black\" d=\"M565.5,-306C565.5,-306 428.5,-306 428.5,-306 422.5,-306 416.5,-300 416.5,-294 416.5,-294 416.5,-235 416.5,-235 416.5,-229 422.5,-223 428.5,-223 428.5,-223 565.5,-223 565.5,-223 571.5,-223 577.5,-229 577.5,-235 577.5,-235 577.5,-294 577.5,-294 577.5,-300 571.5,-306 565.5,-306\"/>\r\n",
       "<text text-anchor=\"start\" x=\"424.5\" y=\"-290.8\" font-family=\"Helvetica,sans-Serif\" font-size=\"14.00\">launched&#45;created ≤ 4.5</text>\r\n",
       "<text text-anchor=\"start\" x=\"463.5\" y=\"-275.8\" font-family=\"Helvetica,sans-Serif\" font-size=\"14.00\">gini = 0.48</text>\r\n",
       "<text text-anchor=\"start\" x=\"441\" y=\"-260.8\" font-family=\"Helvetica,sans-Serif\" font-size=\"14.00\">samples = 10688</text>\r\n",
       "<text text-anchor=\"start\" x=\"432\" y=\"-245.8\" font-family=\"Helvetica,sans-Serif\" font-size=\"14.00\">value = [4173, 6515]</text>\r\n",
       "<text text-anchor=\"start\" x=\"461\" y=\"-230.8\" font-family=\"Helvetica,sans-Serif\" font-size=\"14.00\">class = Fail</text>\r\n",
       "</g>\r\n",
       "<!-- 0&#45;&gt;1 -->\r\n",
       "<g id=\"edge1\" class=\"edge\"><title>0&#45;&gt;1</title>\r\n",
       "<path fill=\"none\" stroke=\"black\" d=\"M572.754,-341.907C563.577,-332.651 553.743,-322.732 544.301,-313.209\"/>\r\n",
       "<polygon fill=\"black\" stroke=\"black\" points=\"546.701,-310.658 537.174,-306.021 541.73,-315.586 546.701,-310.658\"/>\r\n",
       "<text text-anchor=\"middle\" x=\"537.067\" y=\"-327.321\" font-family=\"Helvetica,sans-Serif\" font-size=\"14.00\">True</text>\r\n",
       "</g>\r\n",
       "<!-- 8 -->\r\n",
       "<g id=\"node9\" class=\"node\"><title>8</title>\r\n",
       "<path fill=\"#e58139\" fill-opacity=\"0.474510\" stroke=\"black\" d=\"M797.5,-306C797.5,-306 660.5,-306 660.5,-306 654.5,-306 648.5,-300 648.5,-294 648.5,-294 648.5,-235 648.5,-235 648.5,-229 654.5,-223 660.5,-223 660.5,-223 797.5,-223 797.5,-223 803.5,-223 809.5,-229 809.5,-235 809.5,-235 809.5,-294 809.5,-294 809.5,-300 803.5,-306 797.5,-306\"/>\r\n",
       "<text text-anchor=\"start\" x=\"656.5\" y=\"-290.8\" font-family=\"Helvetica,sans-Serif\" font-size=\"14.00\">launched&#45;created ≤ 8.5</text>\r\n",
       "<text text-anchor=\"start\" x=\"695.5\" y=\"-275.8\" font-family=\"Helvetica,sans-Serif\" font-size=\"14.00\">gini = 0.45</text>\r\n",
       "<text text-anchor=\"start\" x=\"677.5\" y=\"-260.8\" font-family=\"Helvetica,sans-Serif\" font-size=\"14.00\">samples = 2072</text>\r\n",
       "<text text-anchor=\"start\" x=\"668\" y=\"-245.8\" font-family=\"Helvetica,sans-Serif\" font-size=\"14.00\">value = [1359, 713]</text>\r\n",
       "<text text-anchor=\"start\" x=\"676\" y=\"-230.8\" font-family=\"Helvetica,sans-Serif\" font-size=\"14.00\">class = Succeed</text>\r\n",
       "</g>\r\n",
       "<!-- 0&#45;&gt;8 -->\r\n",
       "<g id=\"edge8\" class=\"edge\"><title>0&#45;&gt;8</title>\r\n",
       "<path fill=\"none\" stroke=\"black\" d=\"M653.246,-341.907C662.423,-332.651 672.257,-322.732 681.699,-313.209\"/>\r\n",
       "<polygon fill=\"black\" stroke=\"black\" points=\"684.27,-315.586 688.826,-306.021 679.299,-310.658 684.27,-315.586\"/>\r\n",
       "<text text-anchor=\"middle\" x=\"688.933\" y=\"-327.321\" font-family=\"Helvetica,sans-Serif\" font-size=\"14.00\">False</text>\r\n",
       "</g>\r\n",
       "<!-- 2 -->\r\n",
       "<g id=\"node3\" class=\"node\"><title>2</title>\r\n",
       "<path fill=\"#399de5\" fill-opacity=\"0.031373\" stroke=\"black\" d=\"M290,-187C290,-187 168,-187 168,-187 162,-187 156,-181 156,-175 156,-175 156,-116 156,-116 156,-110 162,-104 168,-104 168,-104 290,-104 290,-104 296,-104 302,-110 302,-116 302,-116 302,-175 302,-175 302,-181 296,-187 290,-187\"/>\r\n",
       "<text text-anchor=\"start\" x=\"193.5\" y=\"-171.8\" font-family=\"Helvetica,sans-Serif\" font-size=\"14.00\">goal ≤ 8.42</text>\r\n",
       "<text text-anchor=\"start\" x=\"200\" y=\"-156.8\" font-family=\"Helvetica,sans-Serif\" font-size=\"14.00\">gini = 0.5</text>\r\n",
       "<text text-anchor=\"start\" x=\"177.5\" y=\"-141.8\" font-family=\"Helvetica,sans-Serif\" font-size=\"14.00\">samples = 4083</text>\r\n",
       "<text text-anchor=\"start\" x=\"164\" y=\"-126.8\" font-family=\"Helvetica,sans-Serif\" font-size=\"14.00\">value = [2008, 2075]</text>\r\n",
       "<text text-anchor=\"start\" x=\"193\" y=\"-111.8\" font-family=\"Helvetica,sans-Serif\" font-size=\"14.00\">class = Fail</text>\r\n",
       "</g>\r\n",
       "<!-- 1&#45;&gt;2 -->\r\n",
       "<g id=\"edge2\" class=\"edge\"><title>1&#45;&gt;2</title>\r\n",
       "<path fill=\"none\" stroke=\"black\" d=\"M416.228,-228.237C383.122,-213.784 344.839,-197.072 311.551,-182.539\"/>\r\n",
       "<polygon fill=\"black\" stroke=\"black\" points=\"312.869,-179.295 302.303,-178.502 310.068,-185.711 312.869,-179.295\"/>\r\n",
       "</g>\r\n",
       "<!-- 5 -->\r\n",
       "<g id=\"node6\" class=\"node\"><title>5</title>\r\n",
       "<path fill=\"#399de5\" fill-opacity=\"0.513725\" stroke=\"black\" d=\"M572,-187C572,-187 422,-187 422,-187 416,-187 410,-181 410,-175 410,-175 410,-116 410,-116 410,-110 416,-104 422,-104 422,-104 572,-104 572,-104 578,-104 584,-110 584,-116 584,-116 584,-175 584,-175 584,-181 578,-187 572,-187\"/>\r\n",
       "<text text-anchor=\"start\" x=\"418\" y=\"-171.8\" font-family=\"Helvetica,sans-Serif\" font-size=\"14.00\">category.slug_food ≤ 0.5</text>\r\n",
       "<text text-anchor=\"start\" x=\"463.5\" y=\"-156.8\" font-family=\"Helvetica,sans-Serif\" font-size=\"14.00\">gini = 0.44</text>\r\n",
       "<text text-anchor=\"start\" x=\"445.5\" y=\"-141.8\" font-family=\"Helvetica,sans-Serif\" font-size=\"14.00\">samples = 6605</text>\r\n",
       "<text text-anchor=\"start\" x=\"432\" y=\"-126.8\" font-family=\"Helvetica,sans-Serif\" font-size=\"14.00\">value = [2165, 4440]</text>\r\n",
       "<text text-anchor=\"start\" x=\"461\" y=\"-111.8\" font-family=\"Helvetica,sans-Serif\" font-size=\"14.00\">class = Fail</text>\r\n",
       "</g>\r\n",
       "<!-- 1&#45;&gt;5 -->\r\n",
       "<g id=\"edge5\" class=\"edge\"><title>1&#45;&gt;5</title>\r\n",
       "<path fill=\"none\" stroke=\"black\" d=\"M497,-222.907C497,-214.649 497,-205.864 497,-197.302\"/>\r\n",
       "<polygon fill=\"black\" stroke=\"black\" points=\"500.5,-197.021 497,-187.021 493.5,-197.021 500.5,-197.021\"/>\r\n",
       "</g>\r\n",
       "<!-- 3 -->\r\n",
       "<g id=\"node4\" class=\"node\"><title>3</title>\r\n",
       "<path fill=\"#399de5\" fill-opacity=\"0.286275\" stroke=\"black\" d=\"M134,-68C134,-68 12,-68 12,-68 6,-68 0,-62 0,-56 0,-56 0,-12 0,-12 0,-6 6,-0 12,-0 12,-0 134,-0 134,-0 140,-0 146,-6 146,-12 146,-12 146,-56 146,-56 146,-62 140,-68 134,-68\"/>\r\n",
       "<text text-anchor=\"start\" x=\"39.5\" y=\"-52.8\" font-family=\"Helvetica,sans-Serif\" font-size=\"14.00\">gini = 0.49</text>\r\n",
       "<text text-anchor=\"start\" x=\"21.5\" y=\"-37.8\" font-family=\"Helvetica,sans-Serif\" font-size=\"14.00\">samples = 2702</text>\r\n",
       "<text text-anchor=\"start\" x=\"8\" y=\"-22.8\" font-family=\"Helvetica,sans-Serif\" font-size=\"14.00\">value = [1127, 1575]</text>\r\n",
       "<text text-anchor=\"start\" x=\"37\" y=\"-7.8\" font-family=\"Helvetica,sans-Serif\" font-size=\"14.00\">class = Fail</text>\r\n",
       "</g>\r\n",
       "<!-- 2&#45;&gt;3 -->\r\n",
       "<g id=\"edge3\" class=\"edge\"><title>2&#45;&gt;3</title>\r\n",
       "<path fill=\"none\" stroke=\"black\" d=\"M170.911,-103.726C157.138,-94.0582 142.476,-83.767 128.807,-74.172\"/>\r\n",
       "<polygon fill=\"black\" stroke=\"black\" points=\"130.636,-71.1801 120.441,-68.2996 126.615,-76.9096 130.636,-71.1801\"/>\r\n",
       "</g>\r\n",
       "<!-- 4 -->\r\n",
       "<g id=\"node5\" class=\"node\"><title>4</title>\r\n",
       "<path fill=\"#e58139\" fill-opacity=\"0.431373\" stroke=\"black\" d=\"M282,-68C282,-68 176,-68 176,-68 170,-68 164,-62 164,-56 164,-56 164,-12 164,-12 164,-6 170,-0 176,-0 176,-0 282,-0 282,-0 288,-0 294,-6 294,-12 294,-12 294,-56 294,-56 294,-62 288,-68 282,-68\"/>\r\n",
       "<text text-anchor=\"start\" x=\"195.5\" y=\"-52.8\" font-family=\"Helvetica,sans-Serif\" font-size=\"14.00\">gini = 0.46</text>\r\n",
       "<text text-anchor=\"start\" x=\"177.5\" y=\"-37.8\" font-family=\"Helvetica,sans-Serif\" font-size=\"14.00\">samples = 1381</text>\r\n",
       "<text text-anchor=\"start\" x=\"172\" y=\"-22.8\" font-family=\"Helvetica,sans-Serif\" font-size=\"14.00\">value = [881, 500]</text>\r\n",
       "<text text-anchor=\"start\" x=\"176\" y=\"-7.8\" font-family=\"Helvetica,sans-Serif\" font-size=\"14.00\">class = Succeed</text>\r\n",
       "</g>\r\n",
       "<!-- 2&#45;&gt;4 -->\r\n",
       "<g id=\"edge4\" class=\"edge\"><title>2&#45;&gt;4</title>\r\n",
       "<path fill=\"none\" stroke=\"black\" d=\"M229,-103.726C229,-95.5175 229,-86.8595 229,-78.56\"/>\r\n",
       "<polygon fill=\"black\" stroke=\"black\" points=\"232.5,-78.2996 229,-68.2996 225.5,-78.2996 232.5,-78.2996\"/>\r\n",
       "</g>\r\n",
       "<!-- 6 -->\r\n",
       "<g id=\"node7\" class=\"node\"><title>6</title>\r\n",
       "<path fill=\"#399de5\" fill-opacity=\"0.545098\" stroke=\"black\" d=\"M446,-68C446,-68 324,-68 324,-68 318,-68 312,-62 312,-56 312,-56 312,-12 312,-12 312,-6 318,-0 324,-0 324,-0 446,-0 446,-0 452,-0 458,-6 458,-12 458,-12 458,-56 458,-56 458,-62 452,-68 446,-68\"/>\r\n",
       "<text text-anchor=\"start\" x=\"351.5\" y=\"-52.8\" font-family=\"Helvetica,sans-Serif\" font-size=\"14.00\">gini = 0.43</text>\r\n",
       "<text text-anchor=\"start\" x=\"333.5\" y=\"-37.8\" font-family=\"Helvetica,sans-Serif\" font-size=\"14.00\">samples = 6218</text>\r\n",
       "<text text-anchor=\"start\" x=\"320\" y=\"-22.8\" font-family=\"Helvetica,sans-Serif\" font-size=\"14.00\">value = [1943, 4275]</text>\r\n",
       "<text text-anchor=\"start\" x=\"349\" y=\"-7.8\" font-family=\"Helvetica,sans-Serif\" font-size=\"14.00\">class = Fail</text>\r\n",
       "</g>\r\n",
       "<!-- 5&#45;&gt;6 -->\r\n",
       "<g id=\"edge6\" class=\"edge\"><title>5&#45;&gt;6</title>\r\n",
       "<path fill=\"none\" stroke=\"black\" d=\"M455.295,-103.726C445.873,-94.5142 435.872,-84.7364 426.46,-75.5343\"/>\r\n",
       "<polygon fill=\"black\" stroke=\"black\" points=\"428.657,-72.7878 419.06,-68.2996 423.764,-77.7931 428.657,-72.7878\"/>\r\n",
       "</g>\r\n",
       "<!-- 7 -->\r\n",
       "<g id=\"node8\" class=\"node\"><title>7</title>\r\n",
       "<path fill=\"#e58139\" fill-opacity=\"0.254902\" stroke=\"black\" d=\"M594,-68C594,-68 488,-68 488,-68 482,-68 476,-62 476,-56 476,-56 476,-12 476,-12 476,-6 482,-0 488,-0 488,-0 594,-0 594,-0 600,-0 606,-6 606,-12 606,-12 606,-56 606,-56 606,-62 600,-68 594,-68\"/>\r\n",
       "<text text-anchor=\"start\" x=\"507.5\" y=\"-52.8\" font-family=\"Helvetica,sans-Serif\" font-size=\"14.00\">gini = 0.49</text>\r\n",
       "<text text-anchor=\"start\" x=\"493.5\" y=\"-37.8\" font-family=\"Helvetica,sans-Serif\" font-size=\"14.00\">samples = 387</text>\r\n",
       "<text text-anchor=\"start\" x=\"484\" y=\"-22.8\" font-family=\"Helvetica,sans-Serif\" font-size=\"14.00\">value = [222, 165]</text>\r\n",
       "<text text-anchor=\"start\" x=\"488\" y=\"-7.8\" font-family=\"Helvetica,sans-Serif\" font-size=\"14.00\">class = Succeed</text>\r\n",
       "</g>\r\n",
       "<!-- 5&#45;&gt;7 -->\r\n",
       "<g id=\"edge7\" class=\"edge\"><title>5&#45;&gt;7</title>\r\n",
       "<path fill=\"none\" stroke=\"black\" d=\"M513.384,-103.726C516.792,-95.2439 520.394,-86.2819 523.829,-77.7312\"/>\r\n",
       "<polygon fill=\"black\" stroke=\"black\" points=\"527.138,-78.8835 527.619,-68.2996 520.643,-76.2735 527.138,-78.8835\"/>\r\n",
       "</g>\r\n",
       "<!-- 9 -->\r\n",
       "<g id=\"node10\" class=\"node\"><title>9</title>\r\n",
       "<path fill=\"#e58139\" fill-opacity=\"0.835294\" stroke=\"black\" d=\"M797.5,-187C797.5,-187 660.5,-187 660.5,-187 654.5,-187 648.5,-181 648.5,-175 648.5,-175 648.5,-116 648.5,-116 648.5,-110 654.5,-104 660.5,-104 660.5,-104 797.5,-104 797.5,-104 803.5,-104 809.5,-110 809.5,-116 809.5,-116 809.5,-175 809.5,-175 809.5,-181 803.5,-187 797.5,-187\"/>\r\n",
       "<text text-anchor=\"start\" x=\"656.5\" y=\"-171.8\" font-family=\"Helvetica,sans-Serif\" font-size=\"14.00\">launched&#45;created ≤ 4.5</text>\r\n",
       "<text text-anchor=\"start\" x=\"695.5\" y=\"-156.8\" font-family=\"Helvetica,sans-Serif\" font-size=\"14.00\">gini = 0.24</text>\r\n",
       "<text text-anchor=\"start\" x=\"681.5\" y=\"-141.8\" font-family=\"Helvetica,sans-Serif\" font-size=\"14.00\">samples = 765</text>\r\n",
       "<text text-anchor=\"start\" x=\"672\" y=\"-126.8\" font-family=\"Helvetica,sans-Serif\" font-size=\"14.00\">value = [657, 108]</text>\r\n",
       "<text text-anchor=\"start\" x=\"676\" y=\"-111.8\" font-family=\"Helvetica,sans-Serif\" font-size=\"14.00\">class = Succeed</text>\r\n",
       "</g>\r\n",
       "<!-- 8&#45;&gt;9 -->\r\n",
       "<g id=\"edge9\" class=\"edge\"><title>8&#45;&gt;9</title>\r\n",
       "<path fill=\"none\" stroke=\"black\" d=\"M729,-222.907C729,-214.649 729,-205.864 729,-197.302\"/>\r\n",
       "<polygon fill=\"black\" stroke=\"black\" points=\"732.5,-197.021 729,-187.021 725.5,-197.021 732.5,-197.021\"/>\r\n",
       "</g>\r\n",
       "<!-- 12 -->\r\n",
       "<g id=\"node13\" class=\"node\"><title>12</title>\r\n",
       "<path fill=\"#e58139\" fill-opacity=\"0.137255\" stroke=\"black\" d=\"M1022,-187C1022,-187 916,-187 916,-187 910,-187 904,-181 904,-175 904,-175 904,-116 904,-116 904,-110 910,-104 916,-104 916,-104 1022,-104 1022,-104 1028,-104 1034,-110 1034,-116 1034,-116 1034,-175 1034,-175 1034,-181 1028,-187 1022,-187\"/>\r\n",
       "<text text-anchor=\"start\" x=\"929.5\" y=\"-171.8\" font-family=\"Helvetica,sans-Serif\" font-size=\"14.00\">goal ≤ 10.87</text>\r\n",
       "<text text-anchor=\"start\" x=\"940\" y=\"-156.8\" font-family=\"Helvetica,sans-Serif\" font-size=\"14.00\">gini = 0.5</text>\r\n",
       "<text text-anchor=\"start\" x=\"917.5\" y=\"-141.8\" font-family=\"Helvetica,sans-Serif\" font-size=\"14.00\">samples = 1307</text>\r\n",
       "<text text-anchor=\"start\" x=\"912\" y=\"-126.8\" font-family=\"Helvetica,sans-Serif\" font-size=\"14.00\">value = [702, 605]</text>\r\n",
       "<text text-anchor=\"start\" x=\"916\" y=\"-111.8\" font-family=\"Helvetica,sans-Serif\" font-size=\"14.00\">class = Succeed</text>\r\n",
       "</g>\r\n",
       "<!-- 8&#45;&gt;12 -->\r\n",
       "<g id=\"edge12\" class=\"edge\"><title>8&#45;&gt;12</title>\r\n",
       "<path fill=\"none\" stroke=\"black\" d=\"M809.584,-224.215C837.112,-210.795 867.753,-195.858 894.758,-182.693\"/>\r\n",
       "<polygon fill=\"black\" stroke=\"black\" points=\"896.312,-185.829 903.767,-178.301 893.244,-179.537 896.312,-185.829\"/>\r\n",
       "</g>\r\n",
       "<!-- 10 -->\r\n",
       "<g id=\"node11\" class=\"node\"><title>10</title>\r\n",
       "<path fill=\"#e58139\" fill-opacity=\"0.898039\" stroke=\"black\" d=\"M734,-68C734,-68 636,-68 636,-68 630,-68 624,-62 624,-56 624,-56 624,-12 624,-12 624,-6 630,-0 636,-0 636,-0 734,-0 734,-0 740,-0 746,-6 746,-12 746,-12 746,-56 746,-56 746,-62 740,-68 734,-68\"/>\r\n",
       "<text text-anchor=\"start\" x=\"651.5\" y=\"-52.8\" font-family=\"Helvetica,sans-Serif\" font-size=\"14.00\">gini = 0.17</text>\r\n",
       "<text text-anchor=\"start\" x=\"637.5\" y=\"-37.8\" font-family=\"Helvetica,sans-Serif\" font-size=\"14.00\">samples = 566</text>\r\n",
       "<text text-anchor=\"start\" x=\"632\" y=\"-22.8\" font-family=\"Helvetica,sans-Serif\" font-size=\"14.00\">value = [513, 53]</text>\r\n",
       "<text text-anchor=\"start\" x=\"632\" y=\"-7.8\" font-family=\"Helvetica,sans-Serif\" font-size=\"14.00\">class = Succeed</text>\r\n",
       "</g>\r\n",
       "<!-- 9&#45;&gt;10 -->\r\n",
       "<g id=\"edge10\" class=\"edge\"><title>9&#45;&gt;10</title>\r\n",
       "<path fill=\"none\" stroke=\"black\" d=\"M712.616,-103.726C709.208,-95.2439 705.606,-86.2819 702.171,-77.7312\"/>\r\n",
       "<polygon fill=\"black\" stroke=\"black\" points=\"705.357,-76.2735 698.381,-68.2996 698.862,-78.8835 705.357,-76.2735\"/>\r\n",
       "</g>\r\n",
       "<!-- 11 -->\r\n",
       "<g id=\"node12\" class=\"node\"><title>11</title>\r\n",
       "<path fill=\"#e58139\" fill-opacity=\"0.619608\" stroke=\"black\" d=\"M874,-68C874,-68 776,-68 776,-68 770,-68 764,-62 764,-56 764,-56 764,-12 764,-12 764,-6 770,-0 776,-0 776,-0 874,-0 874,-0 880,-0 886,-6 886,-12 886,-12 886,-56 886,-56 886,-62 880,-68 874,-68\"/>\r\n",
       "<text text-anchor=\"start\" x=\"796\" y=\"-52.8\" font-family=\"Helvetica,sans-Serif\" font-size=\"14.00\">gini = 0.4</text>\r\n",
       "<text text-anchor=\"start\" x=\"777.5\" y=\"-37.8\" font-family=\"Helvetica,sans-Serif\" font-size=\"14.00\">samples = 199</text>\r\n",
       "<text text-anchor=\"start\" x=\"772\" y=\"-22.8\" font-family=\"Helvetica,sans-Serif\" font-size=\"14.00\">value = [144, 55]</text>\r\n",
       "<text text-anchor=\"start\" x=\"772\" y=\"-7.8\" font-family=\"Helvetica,sans-Serif\" font-size=\"14.00\">class = Succeed</text>\r\n",
       "</g>\r\n",
       "<!-- 9&#45;&gt;11 -->\r\n",
       "<g id=\"edge11\" class=\"edge\"><title>9&#45;&gt;11</title>\r\n",
       "<path fill=\"none\" stroke=\"black\" d=\"M764.747,-103.726C772.663,-94.6966 781.056,-85.1235 788.983,-76.0816\"/>\r\n",
       "<polygon fill=\"black\" stroke=\"black\" points=\"791.845,-78.1263 795.806,-68.2996 786.582,-73.5117 791.845,-78.1263\"/>\r\n",
       "</g>\r\n",
       "<!-- 13 -->\r\n",
       "<g id=\"node14\" class=\"node\"><title>13</title>\r\n",
       "<path fill=\"#399de5\" fill-opacity=\"0.094118\" stroke=\"black\" d=\"M1022,-68C1022,-68 916,-68 916,-68 910,-68 904,-62 904,-56 904,-56 904,-12 904,-12 904,-6 910,-0 916,-0 916,-0 1022,-0 1022,-0 1028,-0 1034,-6 1034,-12 1034,-12 1034,-56 1034,-56 1034,-62 1028,-68 1022,-68\"/>\r\n",
       "<text text-anchor=\"start\" x=\"940\" y=\"-52.8\" font-family=\"Helvetica,sans-Serif\" font-size=\"14.00\">gini = 0.5</text>\r\n",
       "<text text-anchor=\"start\" x=\"921.5\" y=\"-37.8\" font-family=\"Helvetica,sans-Serif\" font-size=\"14.00\">samples = 831</text>\r\n",
       "<text text-anchor=\"start\" x=\"912\" y=\"-22.8\" font-family=\"Helvetica,sans-Serif\" font-size=\"14.00\">value = [395, 436]</text>\r\n",
       "<text text-anchor=\"start\" x=\"933\" y=\"-7.8\" font-family=\"Helvetica,sans-Serif\" font-size=\"14.00\">class = Fail</text>\r\n",
       "</g>\r\n",
       "<!-- 12&#45;&gt;13 -->\r\n",
       "<g id=\"edge13\" class=\"edge\"><title>12&#45;&gt;13</title>\r\n",
       "<path fill=\"none\" stroke=\"black\" d=\"M969,-103.726C969,-95.5175 969,-86.8595 969,-78.56\"/>\r\n",
       "<polygon fill=\"black\" stroke=\"black\" points=\"972.5,-78.2996 969,-68.2996 965.5,-78.2996 972.5,-78.2996\"/>\r\n",
       "</g>\r\n",
       "<!-- 14 -->\r\n",
       "<g id=\"node15\" class=\"node\"><title>14</title>\r\n",
       "<path fill=\"#e58139\" fill-opacity=\"0.450980\" stroke=\"black\" d=\"M1170,-68C1170,-68 1064,-68 1064,-68 1058,-68 1052,-62 1052,-56 1052,-56 1052,-12 1052,-12 1052,-6 1058,-0 1064,-0 1064,-0 1170,-0 1170,-0 1176,-0 1182,-6 1182,-12 1182,-12 1182,-56 1182,-56 1182,-62 1176,-68 1170,-68\"/>\r\n",
       "<text text-anchor=\"start\" x=\"1083.5\" y=\"-52.8\" font-family=\"Helvetica,sans-Serif\" font-size=\"14.00\">gini = 0.46</text>\r\n",
       "<text text-anchor=\"start\" x=\"1069.5\" y=\"-37.8\" font-family=\"Helvetica,sans-Serif\" font-size=\"14.00\">samples = 476</text>\r\n",
       "<text text-anchor=\"start\" x=\"1060\" y=\"-22.8\" font-family=\"Helvetica,sans-Serif\" font-size=\"14.00\">value = [307, 169]</text>\r\n",
       "<text text-anchor=\"start\" x=\"1064\" y=\"-7.8\" font-family=\"Helvetica,sans-Serif\" font-size=\"14.00\">class = Succeed</text>\r\n",
       "</g>\r\n",
       "<!-- 12&#45;&gt;14 -->\r\n",
       "<g id=\"edge14\" class=\"edge\"><title>12&#45;&gt;14</title>\r\n",
       "<path fill=\"none\" stroke=\"black\" d=\"M1024.11,-103.726C1037.05,-94.1494 1050.82,-83.9611 1063.69,-74.4438\"/>\r\n",
       "<polygon fill=\"black\" stroke=\"black\" points=\"1066.04,-77.061 1071.99,-68.2996 1061.87,-71.4337 1066.04,-77.061\"/>\r\n",
       "</g>\r\n",
       "</g>\r\n",
       "</svg>\r\n"
      ],
      "text/plain": [
       "<graphviz.files.Source at 0x14486c59390>"
      ]
     },
     "execution_count": 8,
     "metadata": {},
     "output_type": "execute_result"
    }
   ],
   "source": [
    "\n",
    "\n",
    "dot_data = export_graphviz(tree_clf, out_file = None, \n",
    "                           feature_names = Dtree_Params, \n",
    "                           class_names = [\"Succeed\", \"Fail\" ],\n",
    "                           rounded = True, filled=True, special_characters=True,precision=2)\n",
    "graph = graphviz.Source(dot_data) \n",
    "graph.format='png'\n",
    "graph.render()\n",
    "graph"
   ]
  },
  {
   "cell_type": "code",
   "execution_count": 9,
   "metadata": {},
   "outputs": [
    {
     "name": "stdout",
     "output_type": "stream",
     "text": [
      "Test set conf matrix is [[ 505  913]\n",
      " [ 221 1551]]\n",
      "Train set conf matrix is [[2067 3465]\n",
      " [ 942 6286]]\n",
      "The recall for the train set is  0.869673491976\n",
      "The recall for the test set tree is  0.875282167043\n",
      "The precision for the train set tree is  0.644651830581\n",
      "The precision for the test tree is  0.629464285714\n",
      "Y_test_proba[:,1] is [ 0.6875201   0.36205648  0.6875201  ...,  0.6875201   0.6875201\n",
      "  0.36205648]\n",
      " Precision =  [ 0.55548589  0.5713355   0.57663025  0.59045313  0.62475595  0.62946429\n",
      "  0.64365256  0.67063244  1.        ] \n",
      " Recalls =  [ 1.          0.98984199  0.98306998  0.96331828  0.90293454  0.87528217\n",
      "  0.81546275  0.60440181  0.        ] \n",
      " Thresholds =  [ 0.09363958  0.27638191  0.35504202  0.36205648  0.42635659  0.52466907\n",
      "  0.58290155  0.6875201 ]\n"
     ]
    }
   ],
   "source": [
    "# Run the test set through the decision tree\n",
    "Y2_test_Tree_predict = tree_clf.predict (X_test)  \n",
    "\n",
    "#Test set conf matrix\n",
    "conf_matrix_Testdata = confusion_matrix(Y_test, Y2_test_Tree_predict) \n",
    "print('Test set conf matrix is',conf_matrix_Testdata)\n",
    "\n",
    "#Train set conf. matrix\n",
    "conf_matrix_Traindata = confusion_matrix(Y_train, tree_clf.predict (X_train)) \n",
    "print('Train set conf matrix is',conf_matrix_Traindata)\n",
    "\n",
    "from sklearn.metrics import precision_score, recall_score\n",
    "\n",
    "print(\"The recall for the train set is \",recall_score(Y_train, tree_clf.predict (X_train)))\n",
    "print(\"The recall for the test set tree is \",recall_score(Y_test, Y2_test_Tree_predict))\n",
    "print(\"The precision for the train set tree is \",precision_score(Y_train, tree_clf.predict (X_train)))\n",
    "print(\"The precision for the test tree is \",precision_score(Y_test, Y2_test_Tree_predict))\n",
    "\n",
    "Y_test_proba = tree_clf.predict_proba(X_test)\n",
    "print('Y_test_proba[:,1] is',Y_test_proba[:,1])\n",
    "\n",
    "from sklearn.metrics import precision_recall_curve\n",
    "\n",
    "precisions, recalls, thresholds = precision_recall_curve(y_true = Y_test, probas_pred = Y_test_proba[:,1])\n",
    "print(\" Precision = \", precisions, \"\\n\", \"Recalls = \", recalls, \"\\n\", \"Thresholds = \", thresholds)"
   ]
  },
  {
   "cell_type": "markdown",
   "metadata": {},
   "source": [
    "##  Large Tree ML"
   ]
  },
  {
   "cell_type": "code",
   "execution_count": 10,
   "metadata": {},
   "outputs": [
    {
     "data": {
      "text/plain": [
       "Index(['goal', 'launched_at_hr', 'launched_at_day_in_month', 'launched_at_mo',\n",
       "       'launched_at_yr', 'deadline_hr', 'deadline_day_in_month', 'deadline_mo',\n",
       "       'deadline_yr', 'created_at_hr',\n",
       "       ...\n",
       "       'launched_at_day_in_week_5', 'launched_at_day_in_week_6',\n",
       "       'launched_at_day_in_week_7', 'deadline_day_in_week_1',\n",
       "       'deadline_day_in_week_2', 'deadline_day_in_week_3',\n",
       "       'deadline_day_in_week_4', 'deadline_day_in_week_5',\n",
       "       'deadline_day_in_week_6', 'deadline_day_in_week_7'],\n",
       "      dtype='object', length=243)"
      ]
     },
     "execution_count": 10,
     "metadata": {},
     "output_type": "execute_result"
    }
   ],
   "source": [
    "para=mod1.drop(['state_num'],axis=1)\n",
    "para.columns"
   ]
  },
  {
   "cell_type": "code",
   "execution_count": 11,
   "metadata": {},
   "outputs": [
    {
     "name": "stdout",
     "output_type": "stream",
     "text": [
      "Test set conf matrix is [[ 771  647]\n",
      " [ 388 1384]]\n",
      "Train set conf matrix is [[3125 2407]\n",
      " [1604 5624]]\n",
      "The recall for the train set is  0.778085224128\n",
      "The recall for the test set tree is  0.781038374718\n",
      "The precision for the train set tree is  0.700286390238\n",
      "The precision for the test tree is  0.681437715411\n",
      "Y_test_proba[:,1] is [ 0.60480549  0.17002688  0.60480549 ...,  0.60480549  0.8142584\n",
      "  0.17002688]\n",
      " Precision =  [ 0.55548589  0.55621859  0.60338744  0.60467588  0.60598504  0.64187551\n",
      "  0.68143772  0.79399142  1.        ] \n",
      " Recalls =  [ 1.          0.99943567  0.96501129  0.96331828  0.95993228  0.89616253\n",
      "  0.78103837  0.41760722  0.        ] \n",
      " Thresholds =  [ 0.          0.17002688  0.28846154  0.29        0.37650845  0.46023039\n",
      "  0.60480549  0.8142584 ]\n"
     ]
    }
   ],
   "source": [
    "Dtree_Params=para.columns\n",
    "train_df, test_df= train_test_split (mod1, test_size = 0.2, random_state=6)\n",
    "Y_train = train_df[\"state_num\"]\n",
    "X_train = train_df[Dtree_Params]\n",
    "Y_test=test_df[\"state_num\"]\n",
    "X_test=test_df[Dtree_Params]\n",
    "tree_clf = DecisionTreeClassifier (max_depth = 3)\n",
    "tree_clf.fit (X_train, Y_train)\n",
    "\n",
    "# Run the test set through the decision tree\n",
    "Y2_test_Tree_predict = tree_clf.predict (X_test)  \n",
    "\n",
    "#Test set conf matrix\n",
    "conf_matrix_Testdata = confusion_matrix(Y_test, Y2_test_Tree_predict) \n",
    "print('Test set conf matrix is',conf_matrix_Testdata)\n",
    "\n",
    "#Train set conf. matrix\n",
    "conf_matrix_Traindata = confusion_matrix(Y_train, tree_clf.predict (X_train)) \n",
    "print('Train set conf matrix is',conf_matrix_Traindata)\n",
    "\n",
    "from sklearn.metrics import precision_score, recall_score\n",
    "\n",
    "print(\"The recall for the train set is \",recall_score(Y_train, tree_clf.predict (X_train)))\n",
    "print(\"The recall for the test set tree is \",recall_score(Y_test, Y2_test_Tree_predict))\n",
    "print(\"The precision for the train set tree is \",precision_score(Y_train, tree_clf.predict (X_train)))\n",
    "print(\"The precision for the test tree is \",precision_score(Y_test, Y2_test_Tree_predict))\n",
    "\n",
    "Y_test_proba = tree_clf.predict_proba(X_test)\n",
    "print('Y_test_proba[:,1] is',Y_test_proba[:,1])\n",
    "\n",
    "from sklearn.metrics import precision_recall_curve\n",
    "\n",
    "precisions, recalls, thresholds = precision_recall_curve(y_true = Y_test, probas_pred = Y_test_proba[:,1])\n",
    "print(\" Precision = \", precisions, \"\\n\", \"Recalls = \", recalls, \"\\n\", \"Thresholds = \", thresholds)"
   ]
  },
  {
   "cell_type": "markdown",
   "metadata": {},
   "source": [
    "## Precision plot graph "
   ]
  },
  {
   "cell_type": "code",
   "execution_count": 12,
   "metadata": {},
   "outputs": [],
   "source": [
    "def plot_precision_recall_vs_threshold (precisions, recalls, thresholds, color = \"k\", label = None):\n",
    "    plt.plot (thresholds, precisions[:-1], color+\"--\", label=\"Precision \"+label)\n",
    "    plt.plot (thresholds, recalls[:-1], color+\"-\", label=\"Recall \"+label)\n",
    "    plt.xlabel(\"Threshold\")\n",
    "    plt.legend(loc=\"upper right\")\n",
    "    plt.ylim([0,1])"
   ]
  },
  {
   "cell_type": "code",
   "execution_count": 13,
   "metadata": {},
   "outputs": [
    {
     "data": {
      "text/plain": [
       "<matplotlib.legend.Legend at 0x1448bac4898>"
      ]
     },
     "execution_count": 13,
     "metadata": {},
     "output_type": "execute_result"
    },
    {
     "data": {
      "image/png": "[encoded data removed]",
      "text/plain": [
       "<Figure size 432x288 with 1 Axes>"
      ]
     },
     "metadata": {},
     "output_type": "display_data"
    }
   ],
   "source": [
    "plot_precision_recall_vs_threshold( precisions, recalls, thresholds, color = \"b\", label=\"Full tree\")\n",
    "plt.legend(loc = \"best\")"
   ]
  },
  {
   "cell_type": "markdown",
   "metadata": {},
   "source": [
    "## Roc Curve Plotting"
   ]
  },
  {
   "cell_type": "code",
   "execution_count": 14,
   "metadata": {},
   "outputs": [],
   "source": [
    "from sklearn.metrics import roc_curve"
   ]
  },
  {
   "cell_type": "code",
   "execution_count": 15,
   "metadata": {},
   "outputs": [],
   "source": [
    "fpr, tpr, thresholds = roc_curve(Y_test, Y_test_proba[:,1])"
   ]
  },
  {
   "cell_type": "code",
   "execution_count": 16,
   "metadata": {},
   "outputs": [
    {
     "data": {
      "image/png": "[encoded data removed]",
      "text/plain": [
       "<Figure size 432x288 with 1 Axes>"
      ]
     },
     "metadata": {},
     "output_type": "display_data"
    }
   ],
   "source": [
    "def plot_roc_curve (fpr, tpr, label = None):\n",
    "    plt.plot(fpr, tpr, linewidth = 2, label = label)\n",
    "    plt.plot([0,1], [0,1], \"k--\")\n",
    "    plt.axis([0,1,0,1])\n",
    "    plt.xlabel(\"False positive rate\")\n",
    "    plt.ylabel(\"True positive rate\")\n",
    "    \n",
    "plot_roc_curve (fpr, tpr, \"Full tree\")\n",
    "plt.show()"
   ]
  },
  {
   "cell_type": "code",
   "execution_count": 17,
   "metadata": {},
   "outputs": [
    {
     "name": "stdout",
     "output_type": "stream",
     "text": [
      "AUC for random guess is:    0.5\n",
      "AUC for the Full tree is:  0.721839808715\n"
     ]
    }
   ],
   "source": [
    "from sklearn.metrics import roc_auc_score\n",
    "print(\"AUC for random guess is:   \", 0.5 )\n",
    "print(\"AUC for the Full tree is: \", roc_auc_score(Y_test, Y_test_proba[:,1]) )"
   ]
  },
  {
   "cell_type": "markdown",
   "metadata": {},
   "source": [
    "## Random forest (RF)"
   ]
  },
  {
   "cell_type": "code",
   "execution_count": 18,
   "metadata": {},
   "outputs": [],
   "source": [
    "from sklearn.ensemble import RandomForestClassifier\n",
    "\n",
    "rnd_clf = RandomForestClassifier(n_estimators = 1000, max_depth = 2, n_jobs= -1)\n",
    "rnd_clf.fit (X_train, Y_train)\n",
    "y_pred_rf = rnd_clf.predict(X_test)"
   ]
  },
  {
   "cell_type": "code",
   "execution_count": 19,
   "metadata": {},
   "outputs": [
    {
     "data": {
      "text/plain": [
       "array([[ 348, 1070],\n",
       "       [ 111, 1661]], dtype=int64)"
      ]
     },
     "execution_count": 19,
     "metadata": {},
     "output_type": "execute_result"
    }
   ],
   "source": [
    "confusion_matrix(Y_test, y_pred_rf)"
   ]
  },
  {
   "cell_type": "code",
   "execution_count": 20,
   "metadata": {},
   "outputs": [
    {
     "data": {
      "text/plain": [
       "0.93735891647855529"
      ]
     },
     "execution_count": 20,
     "metadata": {},
     "output_type": "execute_result"
    }
   ],
   "source": [
    "recall_score(Y_test, y_pred_rf)"
   ]
  },
  {
   "cell_type": "code",
   "execution_count": 21,
   "metadata": {},
   "outputs": [
    {
     "data": {
      "text/plain": [
       "0.60820212376418892"
      ]
     },
     "execution_count": 21,
     "metadata": {},
     "output_type": "execute_result"
    }
   ],
   "source": [
    "precision_score(Y_test, y_pred_rf)"
   ]
  },
  {
   "cell_type": "code",
   "execution_count": 22,
   "metadata": {},
   "outputs": [
    {
     "data": {
      "image/png": "[encoded data removed]",
      "text/plain": [
       "<Figure size 432x288 with 1 Axes>"
      ]
     },
     "metadata": {},
     "output_type": "display_data"
    }
   ],
   "source": [
    "y_rf_proba = rnd_clf.predict_proba(X_test)\n",
    "fpr_rf, tpr_rf, thresholds_rf = roc_curve(Y_test, y_rf_proba[:,1])\n",
    "plot_roc_curve (fpr, tpr, \"Full tree\")\n",
    "plot_roc_curve (fpr_rf, tpr_rf, \"Random Forest\")\n",
    "plt.legend(loc = \"best\")\n",
    "plt.show()"
   ]
  },
  {
   "cell_type": "code",
   "execution_count": 23,
   "metadata": {},
   "outputs": [
    {
     "data": {
      "text/plain": [
       "0.76075756876279499"
      ]
     },
     "execution_count": 23,
     "metadata": {},
     "output_type": "execute_result"
    }
   ],
   "source": [
    "roc_auc_score(Y_test, y_rf_proba[:,1])"
   ]
  },
  {
   "cell_type": "code",
   "execution_count": 24,
   "metadata": {
    "scrolled": true
   },
   "outputs": [
    {
     "data": {
      "text/plain": [
       "array([  5.69087387e-02,   7.67150717e-04,   1.33852200e-04,\n",
       "         9.21319378e-05,   9.12535623e-02,   2.55119433e-03,\n",
       "         6.51855162e-05,   1.27448155e-04,   8.57378658e-02,\n",
       "         4.99870294e-04,   7.37410442e-05,   3.58391907e-05,\n",
       "         3.53055179e-04,   1.02117546e-01,   4.12484155e-02,\n",
       "         5.77769125e-02,   6.89793676e-02,   5.71396344e-02,\n",
       "         8.60484771e-05,   1.05684313e-04,   2.09642751e-03,\n",
       "         4.69255935e-04,   1.25495895e-03,   1.58311589e-02,\n",
       "         2.56312458e-02,   0.00000000e+00,   5.77362577e-04,\n",
       "         0.00000000e+00,   3.09947965e-02,   3.29047984e-02,\n",
       "         3.36822794e-04,   3.81414895e-04,   4.01994088e-04,\n",
       "         9.43679674e-04,   0.00000000e+00,   1.78129068e-05,\n",
       "         3.65609025e-04,   0.00000000e+00,   0.00000000e+00,\n",
       "         2.79878089e-03,   0.00000000e+00,   1.06557719e-03,\n",
       "         7.12581525e-03,   0.00000000e+00,   0.00000000e+00,\n",
       "         3.23170545e-05,   0.00000000e+00,   0.00000000e+00,\n",
       "         0.00000000e+00,   0.00000000e+00,   1.49618191e-04,\n",
       "         0.00000000e+00,   9.01769170e-03,   0.00000000e+00,\n",
       "         0.00000000e+00,   8.04731228e-05,   6.78876594e-04,\n",
       "         2.30159513e-05,   2.21598059e-03,   0.00000000e+00,\n",
       "         0.00000000e+00,   1.28256265e-04,   6.77322259e-03,\n",
       "         0.00000000e+00,   0.00000000e+00,   1.50973153e-03,\n",
       "         0.00000000e+00,   8.51842294e-06,   2.02398234e-02,\n",
       "         0.00000000e+00,   9.23686527e-04,   3.47721565e-05,\n",
       "         7.03433266e-05,   3.63756515e-04,   0.00000000e+00,\n",
       "         0.00000000e+00,   3.41675595e-05,   0.00000000e+00,\n",
       "         0.00000000e+00,   3.52353464e-05,   3.06961168e-05,\n",
       "         0.00000000e+00,   6.67974234e-03,   0.00000000e+00,\n",
       "         0.00000000e+00,   4.38038045e-03,   1.70241064e-05,\n",
       "         3.85426062e-05,   0.00000000e+00,   0.00000000e+00,\n",
       "         3.41042472e-05,   0.00000000e+00,   2.82875623e-04,\n",
       "         1.14910468e-03,   2.64144016e-05,   4.61551679e-03,\n",
       "         0.00000000e+00,   1.18451114e-02,   0.00000000e+00,\n",
       "         0.00000000e+00,   0.00000000e+00,   1.65924560e-05,\n",
       "         0.00000000e+00,   0.00000000e+00,   0.00000000e+00,\n",
       "         0.00000000e+00,   0.00000000e+00,   0.00000000e+00,\n",
       "         2.04834291e-04,   0.00000000e+00,   1.70368130e-04,\n",
       "         2.56614234e-05,   9.03074189e-03,   0.00000000e+00,\n",
       "         0.00000000e+00,   0.00000000e+00,   5.55553293e-03,\n",
       "         0.00000000e+00,   1.16774783e-02,   7.62634528e-05,\n",
       "         4.22199719e-04,   2.28457762e-05,   6.10190846e-04,\n",
       "         5.54526232e-05,   0.00000000e+00,   0.00000000e+00,\n",
       "         0.00000000e+00,   7.50088863e-05,   0.00000000e+00,\n",
       "         0.00000000e+00,   4.44496232e-05,   3.81301840e-05,\n",
       "         0.00000000e+00,   0.00000000e+00,   0.00000000e+00,\n",
       "         1.24564708e-02,   1.16495860e-04,   0.00000000e+00,\n",
       "         0.00000000e+00,   0.00000000e+00,   0.00000000e+00,\n",
       "         6.86926445e-05,   9.11629133e-04,   0.00000000e+00,\n",
       "         1.39811315e-03,   4.05191784e-05,   7.54874991e-03,\n",
       "         0.00000000e+00,   0.00000000e+00,   0.00000000e+00,\n",
       "         1.85985190e-02,   5.12216386e-04,   1.74812469e-03,\n",
       "         0.00000000e+00,   0.00000000e+00,   0.00000000e+00,\n",
       "         0.00000000e+00,   1.60471107e-02,   0.00000000e+00,\n",
       "         0.00000000e+00,   0.00000000e+00,   0.00000000e+00,\n",
       "         0.00000000e+00,   0.00000000e+00,   5.90251914e-06,\n",
       "         0.00000000e+00,   0.00000000e+00,   2.43287947e-02,\n",
       "         3.15189482e-05,   0.00000000e+00,   2.00483196e-02,\n",
       "         0.00000000e+00,   2.47224259e-04,   0.00000000e+00,\n",
       "         0.00000000e+00,   0.00000000e+00,   0.00000000e+00,\n",
       "         0.00000000e+00,   6.87596005e-04,   8.85193000e-04,\n",
       "         4.76796744e-03,   2.70575492e-04,   4.38231436e-04,\n",
       "         0.00000000e+00,   1.81626837e-04,   3.66689921e-02,\n",
       "         6.90462785e-04,   2.49848101e-03,   6.83792476e-03,\n",
       "         1.84410795e-03,   5.69566633e-03,   1.32953502e-02,\n",
       "         9.66641418e-05,   1.31910991e-05,   6.79399877e-05,\n",
       "         0.00000000e+00,   5.41099057e-04,   0.00000000e+00,\n",
       "         0.00000000e+00,   0.00000000e+00,   0.00000000e+00,\n",
       "         0.00000000e+00,   4.96005231e-05,   0.00000000e+00,\n",
       "         0.00000000e+00,   2.19224413e-05,   0.00000000e+00,\n",
       "         0.00000000e+00,   0.00000000e+00,   0.00000000e+00,\n",
       "         0.00000000e+00,   0.00000000e+00,   0.00000000e+00,\n",
       "         0.00000000e+00,   1.47517680e-02,   2.07813039e-04,\n",
       "         4.47878347e-04,   0.00000000e+00,   2.43336557e-05,\n",
       "         1.77777042e-03,   5.74336107e-05,   0.00000000e+00,\n",
       "         0.00000000e+00,   1.49604659e-05,   0.00000000e+00,\n",
       "         0.00000000e+00,   0.00000000e+00,   0.00000000e+00,\n",
       "         1.40572347e-02,   6.48480929e-06,   1.04142290e-04,\n",
       "         0.00000000e+00,   3.26448128e-06,   3.00249423e-05,\n",
       "         0.00000000e+00,   1.10912168e-05,   1.54134881e-05,\n",
       "         0.00000000e+00,   4.24411287e-06,   1.19136926e-05,\n",
       "         1.78907840e-05,   9.98378035e-05,   0.00000000e+00])"
      ]
     },
     "execution_count": 24,
     "metadata": {},
     "output_type": "execute_result"
    }
   ],
   "source": [
    "feature_score = rnd_clf.feature_importances_\n",
    "feature_score"
   ]
  },
  {
   "cell_type": "code",
   "execution_count": 25,
   "metadata": {},
   "outputs": [
    {
     "data": {
      "text/html": [
       "<div>\n",
       "<style scoped>\n",
       "    .dataframe tbody tr th:only-of-type {\n",
       "        vertical-align: middle;\n",
       "    }\n",
       "\n",
       "    .dataframe tbody tr th {\n",
       "        vertical-align: top;\n",
       "    }\n",
       "\n",
       "    .dataframe thead th {\n",
       "        text-align: right;\n",
       "    }\n",
       "</style>\n",
       "<table border=\"1\" class=\"dataframe\">\n",
       "  <thead>\n",
       "    <tr style=\"text-align: right;\">\n",
       "      <th></th>\n",
       "      <th>feature</th>\n",
       "      <th>score</th>\n",
       "    </tr>\n",
       "  </thead>\n",
       "  <tbody>\n",
       "    <tr>\n",
       "      <th>13</th>\n",
       "      <td>created_at_yr</td>\n",
       "      <td>0.102118</td>\n",
       "    </tr>\n",
       "    <tr>\n",
       "      <th>4</th>\n",
       "      <td>launched_at_yr</td>\n",
       "      <td>0.091254</td>\n",
       "    </tr>\n",
       "    <tr>\n",
       "      <th>8</th>\n",
       "      <td>deadline_yr</td>\n",
       "      <td>0.085738</td>\n",
       "    </tr>\n",
       "    <tr>\n",
       "      <th>16</th>\n",
       "      <td>goal_500</td>\n",
       "      <td>0.068979</td>\n",
       "    </tr>\n",
       "    <tr>\n",
       "      <th>15</th>\n",
       "      <td>goal_1000</td>\n",
       "      <td>0.057777</td>\n",
       "    </tr>\n",
       "    <tr>\n",
       "      <th>17</th>\n",
       "      <td>goal_10</td>\n",
       "      <td>0.057140</td>\n",
       "    </tr>\n",
       "    <tr>\n",
       "      <th>0</th>\n",
       "      <td>goal</td>\n",
       "      <td>0.056909</td>\n",
       "    </tr>\n",
       "    <tr>\n",
       "      <th>14</th>\n",
       "      <td>launched-created</td>\n",
       "      <td>0.041248</td>\n",
       "    </tr>\n",
       "    <tr>\n",
       "      <th>185</th>\n",
       "      <td>category.slug_food</td>\n",
       "      <td>0.036669</td>\n",
       "    </tr>\n",
       "    <tr>\n",
       "      <th>29</th>\n",
       "      <td>name_number_of_word</td>\n",
       "      <td>0.032905</td>\n",
       "    </tr>\n",
       "    <tr>\n",
       "      <th>28</th>\n",
       "      <td>name_non_character</td>\n",
       "      <td>0.030995</td>\n",
       "    </tr>\n",
       "    <tr>\n",
       "      <th>24</th>\n",
       "      <td>name_len</td>\n",
       "      <td>0.025631</td>\n",
       "    </tr>\n",
       "  </tbody>\n",
       "</table>\n",
       "</div>"
      ],
      "text/plain": [
       "                 feature     score\n",
       "13         created_at_yr  0.102118\n",
       "4         launched_at_yr  0.091254\n",
       "8            deadline_yr  0.085738\n",
       "16              goal_500  0.068979\n",
       "15             goal_1000  0.057777\n",
       "17               goal_10  0.057140\n",
       "0                   goal  0.056909\n",
       "14      launched-created  0.041248\n",
       "185   category.slug_food  0.036669\n",
       "29   name_number_of_word  0.032905\n",
       "28    name_non_character  0.030995\n",
       "24              name_len  0.025631"
      ]
     },
     "execution_count": 25,
     "metadata": {},
     "output_type": "execute_result"
    }
   ],
   "source": [
    "feature_names = list(X_train)\n",
    "df_feature_score = pd.DataFrame(data=feature_names, columns=[\"feature\"])\n",
    "df_feature_score[\"score\"]= feature_score\n",
    "df_feature_score = df_feature_score.sort_values(by=['score'], ascending=False)\n",
    "#df_feature_score.head()\n",
    "df_feature_score_short=df_feature_score.drop(df_feature_score.index[12:])\n",
    "df_feature_score_short"
   ]
  },
  {
   "cell_type": "code",
   "execution_count": 26,
   "metadata": {},
   "outputs": [
    {
     "data": {
      "text/plain": [
       "<matplotlib.axes._subplots.AxesSubplot at 0x1448e1ffc88>"
      ]
     },
     "execution_count": 26,
     "metadata": {},
     "output_type": "execute_result"
    },
    {
     "data": {
      "image/png": "[encoded data removed]",
      "text/plain": [
       "<Figure size 432x288 with 1 Axes>"
      ]
     },
     "metadata": {},
     "output_type": "display_data"
    }
   ],
   "source": [
    "sns.barplot(y=\"feature\", x=\"score\", data=df_feature_score_short)"
   ]
  },
  {
   "cell_type": "markdown",
   "metadata": {},
   "source": [
    "## GBM"
   ]
  },
  {
   "cell_type": "code",
   "execution_count": 27,
   "metadata": {},
   "outputs": [
    {
     "data": {
      "text/plain": [
       "GradientBoostingClassifier(criterion='friedman_mse', init=None,\n",
       "              learning_rate=0.1, loss='deviance', max_depth=3,\n",
       "              max_features=None, max_leaf_nodes=None,\n",
       "              min_impurity_decrease=0.0, min_impurity_split=None,\n",
       "              min_samples_leaf=1, min_samples_split=2,\n",
       "              min_weight_fraction_leaf=0.0, n_estimators=100,\n",
       "              presort='auto', random_state=None, subsample=1.0, verbose=0,\n",
       "              warm_start=False)"
      ]
     },
     "execution_count": 27,
     "metadata": {},
     "output_type": "execute_result"
    }
   ],
   "source": [
    "from sklearn import ensemble\n",
    "\n",
    "clf_gb = ensemble.GradientBoostingClassifier()\n",
    "clf_gb.fit(X_train, Y_train)"
   ]
  },
  {
   "cell_type": "code",
   "execution_count": 28,
   "metadata": {},
   "outputs": [],
   "source": [
    "y_pred_gb = clf_gb.predict(X_test)"
   ]
  },
  {
   "cell_type": "code",
   "execution_count": 29,
   "metadata": {},
   "outputs": [
    {
     "data": {
      "text/plain": [
       "array([[ 920,  498],\n",
       "       [ 330, 1442]], dtype=int64)"
      ]
     },
     "execution_count": 29,
     "metadata": {},
     "output_type": "execute_result"
    }
   ],
   "source": [
    "confusion_matrix(Y_test, y_pred_gb)"
   ]
  },
  {
   "cell_type": "code",
   "execution_count": 30,
   "metadata": {},
   "outputs": [
    {
     "data": {
      "text/plain": [
       "0.81376975169300225"
      ]
     },
     "execution_count": 30,
     "metadata": {},
     "output_type": "execute_result"
    }
   ],
   "source": [
    "recall_score(Y_test, y_pred_gb)"
   ]
  },
  {
   "cell_type": "code",
   "execution_count": 31,
   "metadata": {},
   "outputs": [
    {
     "data": {
      "text/plain": [
       "0.74329896907216497"
      ]
     },
     "execution_count": 31,
     "metadata": {},
     "output_type": "execute_result"
    }
   ],
   "source": [
    "precision_score(Y_test, y_pred_gb)"
   ]
  },
  {
   "cell_type": "code",
   "execution_count": 32,
   "metadata": {},
   "outputs": [
    {
     "data": {
      "image/png": "[encoded data removed]",
      "text/plain": [
       "<Figure size 432x288 with 1 Axes>"
      ]
     },
     "metadata": {},
     "output_type": "display_data"
    }
   ],
   "source": [
    "y_gb_proba = clf_gb.predict_proba(X_test)\n",
    "fpr_gb, tpr_gb, thresholds_gb = roc_curve(Y_test, y_gb_proba[:,1])\n",
    "\n",
    "y_rf_proba = rnd_clf.predict_proba(X_test)\n",
    "fpr_rf, tpr_rf, thresholds_rf = roc_curve(Y_test, y_rf_proba[:,1])\n",
    "plot_roc_curve (fpr, tpr, \"Full tree\")\n",
    "plot_roc_curve (fpr_rf, tpr_rf, \"Random Forest\")\n",
    "plot_roc_curve (fpr_gb, tpr_gb, \"gradient boosting\")\n",
    "plt.legend(loc = \"best\")\n",
    "plt.show()"
   ]
  },
  {
   "cell_type": "markdown",
   "metadata": {},
   "source": [
    "## Precision graph plots for all methods"
   ]
  },
  {
   "cell_type": "code",
   "execution_count": 33,
   "metadata": {},
   "outputs": [
    {
     "data": {
      "text/plain": [
       "(0, 1)"
      ]
     },
     "execution_count": 33,
     "metadata": {},
     "output_type": "execute_result"
    },
    {
     "data": {
      "image/png": "[encoded data removed]",
      "text/plain": [
       "<Figure size 432x288 with 1 Axes>"
      ]
     },
     "metadata": {},
     "output_type": "display_data"
    }
   ],
   "source": [
    "precisions_GB, recalls_GB, thresholds_GB = precision_recall_curve(y_true = Y_test, probas_pred = y_gb_proba[:,1])\n",
    "precisions_RF, recalls_RF, thresholds_RF = precision_recall_curve(y_true = Y_test, probas_pred = y_rf_proba[:,1])\n",
    "precisions, recalls, thresholds = precision_recall_curve(y_true = Y_test, probas_pred = Y_test_proba[:,1])\n",
    "\n",
    "plt.plot (thresholds, precisions[:-1], \"r\"+\"--\", label=\"Precision Full Tree\")\n",
    "plt.plot (thresholds, recalls[:-1], \"r\"+\"-\", label=\"Recall Full Tree \")\n",
    "plt.plot (thresholds_GB, precisions_GB[:-1], \"b\"+\"--\", label=\"Precision GB\")\n",
    "plt.plot (thresholds_GB, recalls_GB[:-1], \"b\"+\"-\", label=\"Recall GB\")\n",
    "plt.plot (thresholds_RF, precisions_RF[:-1], \"c\"+\"--\", label=\"Precision RF\")\n",
    "plt.plot (thresholds_RF, recalls_RF[:-1], \"c\"+\"-\", label=\"Recall RF\")\n",
    "\n",
    "plt.xlabel(\"Threshold\")\n",
    "plt.legend(frameon=False)\n",
    "plt.ylim([0,1])\n"
   ]
  },
  {
   "cell_type": "markdown",
   "metadata": {},
   "source": [
    "## Linear Regression"
   ]
  },
  {
   "cell_type": "code",
   "execution_count": 34,
   "metadata": {},
   "outputs": [],
   "source": [
    "# Linear Regression imports\n",
    "from sklearn.linear_model import LinearRegression\n",
    "lin_reg = LinearRegression()\n",
    "from sklearn.metrics import mean_squared_error"
   ]
  },
  {
   "cell_type": "code",
   "execution_count": 35,
   "metadata": {},
   "outputs": [],
   "source": [
    "data=pd.read_csv('data/Bdata_for_ML.csv',header=0) #for 54 files\n",
    "data=data.drop(['Unnamed: 0',],axis=1)"
   ]
  },
  {
   "cell_type": "code",
   "execution_count": 36,
   "metadata": {},
   "outputs": [
    {
     "name": "stdout",
     "output_type": "stream",
     "text": [
      "<class 'pandas.core.frame.DataFrame'>\n",
      "RangeIndex: 9576 entries, 0 to 9575\n",
      "Columns: 248 entries, is_starred to deadline_day_in_week_7\n",
      "dtypes: bool(2), float64(9), int64(237)\n",
      "memory usage: 18.0 MB\n"
     ]
    }
   ],
   "source": [
    "data.info()"
   ]
  },
  {
   "cell_type": "code",
   "execution_count": 37,
   "metadata": {},
   "outputs": [],
   "source": [
    "#define range of data\n",
    "data_r=data[data['pledge_perc']<300]\n",
    "data_r=data_r[data_r['pledge_perc']>=100]"
   ]
  },
  {
   "cell_type": "code",
   "execution_count": 38,
   "metadata": {},
   "outputs": [
    {
     "data": {
      "text/plain": [
       "Index(['goal', 'staff_pick', 'launched-created', 'deadline-launched',\n",
       "       'category.name_3D Printing', 'category.name_Academic',\n",
       "       'category.name_Accessories', 'category.name_Action',\n",
       "       'category.name_Animals', 'category.name_Animation',\n",
       "       ...\n",
       "       'category.name_Wearables', 'category.name_Weaving', 'category.name_Web',\n",
       "       'category.name_Webcomics', 'category.name_Webseries',\n",
       "       'category.name_Woodworking', 'category.name_Workshops',\n",
       "       'category.name_World Music', 'category.name_Young Adult',\n",
       "       'category.name_Zines'],\n",
       "      dtype='object', length=148)"
      ]
     },
     "execution_count": 38,
     "metadata": {},
     "output_type": "execute_result"
    }
   ],
   "source": [
    "mask = data_r.columns.str.contains('category.name')\n",
    "mask[1]=True #add goal to parameters\n",
    "mask[4]=True #add staff pick to parameters\n",
    "mask[18]=True #add launched-created\n",
    "mask[27]=True #add deadline-launched\n",
    "lin_reg_params=data_r.columns[mask]\n",
    "lin_reg_params"
   ]
  },
  {
   "cell_type": "code",
   "execution_count": 39,
   "metadata": {},
   "outputs": [],
   "source": [
    "#define parameters for regression\n",
    "y = data_r [['pledge_perc']]\n",
    "#X = data_r[['goal','deadline-launched','launched-created','category.id']]\n",
    "X = data_r[lin_reg_params]"
   ]
  },
  {
   "cell_type": "code",
   "execution_count": 40,
   "metadata": {},
   "outputs": [],
   "source": [
    "#split to train and test\n",
    "X_train, X_test, y_train, y_test = train_test_split (X, y, test_size = 0.4, random_state=8)"
   ]
  },
  {
   "cell_type": "code",
   "execution_count": 41,
   "metadata": {},
   "outputs": [
    {
     "data": {
      "text/plain": [
       "LinearRegression(copy_X=True, fit_intercept=True, n_jobs=1, normalize=False)"
      ]
     },
     "execution_count": 41,
     "metadata": {},
     "output_type": "execute_result"
    }
   ],
   "source": [
    "#perform regression\n",
    "lin_reg.fit(X_train, y_train)"
   ]
  },
  {
   "cell_type": "code",
   "execution_count": 42,
   "metadata": {},
   "outputs": [
    {
     "name": "stdout",
     "output_type": "stream",
     "text": [
      "predicted y =  [[ -7.00387798e+00   1.52894860e+01   1.48681618e-03  -3.25684151e+00\n",
      "   -1.01878687e+10  -1.01878688e+10  -1.01878687e+10  -1.01878688e+10\n",
      "   -1.01878688e+10  -1.01878688e+10  -1.01878688e+10  -1.01878688e+10\n",
      "   -1.01878688e+10  -1.01878688e+10  -1.01878688e+10  -1.01878688e+10\n",
      "   -7.03727323e+11  -1.01878688e+10  -1.01878688e+10  -1.01878688e+10\n",
      "   -1.01878688e+10  -1.01878687e+10  -1.01878688e+10  -1.01878688e+10\n",
      "   -1.01878688e+10  -1.01878688e+10  -1.01878688e+10  -1.01878688e+10\n",
      "   -1.01878688e+10  -1.01878688e+10  -1.01878688e+10  -1.01878688e+10\n",
      "   -1.01878688e+10  -1.01878688e+10  -1.01878688e+10  -1.01878688e+10\n",
      "   -1.01878687e+10  -1.01878688e+10  -1.01878688e+10  -1.01878688e+10\n",
      "   -1.01878688e+10  -1.01878688e+10   1.12225010e+09  -1.01878688e+10\n",
      "   -1.01878688e+10  -1.01878687e+10  -1.01878688e+10  -1.01878688e+10\n",
      "   -1.01878688e+10  -1.01878688e+10  -1.01878688e+10  -1.01878688e+10\n",
      "   -1.01878688e+10  -1.01878688e+10  -1.01878688e+10  -1.01878688e+10\n",
      "   -1.01878688e+10  -1.01878687e+10  -1.01878687e+10  -1.01878688e+10\n",
      "   -1.01878688e+10  -1.01878688e+10  -1.01878687e+10  -1.01878688e+10\n",
      "   -1.01878688e+10  -1.01878688e+10  -1.01878688e+10  -1.01878688e+10\n",
      "   -1.01878688e+10  -1.01878688e+10  -1.01878688e+10  -1.01878687e+10\n",
      "   -1.01878688e+10  -1.01878688e+10  -1.01878687e+10  -4.12739468e+02\n",
      "   -1.01878688e+10  -1.01878688e+10  -1.01878688e+10  -1.01878687e+10\n",
      "   -1.01878688e+10  -1.01878688e+10  -1.01878688e+10  -1.01878688e+10\n",
      "   -1.01878688e+10  -1.01878688e+10  -1.01878688e+10  -1.01878688e+10\n",
      "   -1.01878688e+10  -1.01878688e+10  -1.01878688e+10  -1.01878688e+10\n",
      "   -1.01878688e+10  -1.01878688e+10  -1.01878687e+10  -6.10351562e-05\n",
      "   -1.01878688e+10  -1.01878688e+10  -1.01878687e+10  -1.01878688e+10\n",
      "   -1.01878688e+10  -1.01878688e+10  -1.01878688e+10  -1.01878688e+10\n",
      "   -6.63101673e-07  -1.01878687e+10  -1.01878688e+10  -1.01878688e+10\n",
      "   -1.01878687e+10  -1.01878688e+10  -1.01878688e+10  -1.01878688e+10\n",
      "   -1.01878688e+10  -1.01878688e+10  -1.01878688e+10  -1.01878688e+10\n",
      "   -1.01878688e+10  -1.01878688e+10  -1.01878688e+10  -1.01878688e+10\n",
      "   -1.01878688e+10  -1.01878688e+10  -1.01878687e+10  -1.01878688e+10\n",
      "   -1.01878688e+10  -1.01878688e+10  -1.01878687e+10  -1.01878687e+10\n",
      "    8.24229573e-13  -1.01878688e+10  -1.01878687e+10  -1.01878688e+10\n",
      "   -1.01878688e+10  -1.01878688e+10  -1.01878688e+10  -1.01878688e+10\n",
      "   -1.01878688e+10  -1.01878688e+10  -1.01878687e+10  -1.01878688e+10\n",
      "   -1.01878688e+10  -1.01878687e+10  -1.01878688e+10  -1.01878688e+10\n",
      "   -1.01878688e+10  -1.01878688e+10  -1.01878688e+10  -1.01878688e+10]]  * X +  [  1.01878690e+10]\n"
     ]
    }
   ],
   "source": [
    "print(\"predicted y = \", lin_reg.coef_, \" * X + \", lin_reg.intercept_)"
   ]
  },
  {
   "cell_type": "code",
   "execution_count": 43,
   "metadata": {},
   "outputs": [],
   "source": [
    "y_test_pred_numeric = lin_reg.predict(X_test)"
   ]
  },
  {
   "cell_type": "code",
   "execution_count": 44,
   "metadata": {},
   "outputs": [
    {
     "data": {
      "text/plain": [
       "-97338797098585.813"
      ]
     },
     "execution_count": 44,
     "metadata": {},
     "output_type": "execute_result"
    }
   ],
   "source": [
    "lin_reg.score(X_test, y_test)\n",
    "#R square score"
   ]
  },
  {
   "cell_type": "code",
   "execution_count": 45,
   "metadata": {},
   "outputs": [
    {
     "data": {
      "text/plain": [
       "1.8105996875331571e+17"
      ]
     },
     "execution_count": 45,
     "metadata": {},
     "output_type": "execute_result"
    }
   ],
   "source": [
    "mean_squared_error(y_test, y_test_pred_numeric)"
   ]
  },
  {
   "cell_type": "code",
   "execution_count": 46,
   "metadata": {
    "scrolled": true
   },
   "outputs": [
    {
     "data": {
      "text/plain": [
       "[Text(0,0.5,'Residual = Y-predicted - Y-test'),\n",
       " Text(0.5,0,'Y-test'),\n",
       " Text(0.5,1,'Linear Regression')]"
      ]
     },
     "execution_count": 46,
     "metadata": {},
     "output_type": "execute_result"
    },
    {
     "data": {
      "image/png": "[encoded data removed]",
      "text/plain": [
       "<Figure size 1440x1080 with 1 Axes>"
      ]
     },
     "metadata": {},
     "output_type": "display_data"
    }
   ],
   "source": [
    "plt.subplots(figsize=(20,15))\n",
    "ax= sns.residplot(y_test, y_test-y_test_pred_numeric, color=\"g\")\n",
    "sns.set_context(\"paper\", rc={\"font.size\":15,\"axes.titlesize\":25,\"axes.labelsize\":15})\n",
    "ax.set(xlabel='Y-test', ylabel='Residual = Y-predicted - Y-test',title=\"Linear Regression\")"
   ]
  },
  {
   "cell_type": "markdown",
   "metadata": {},
   "source": [
    "# Polynomial Regression"
   ]
  },
  {
   "cell_type": "code",
   "execution_count": 60,
   "metadata": {},
   "outputs": [],
   "source": [
    "#define parameters for regression\n",
    "y = data_r [['pledge_perc']]\n",
    "X = data_r[['goal','deadline-launched','launched-created']]\n",
    "#split to train and test\n",
    "X_train, X_test, y_train, y_test = train_test_split (X, y, test_size = 0.4, random_state=8)"
   ]
  },
  {
   "cell_type": "code",
   "execution_count": 71,
   "metadata": {
    "scrolled": true
   },
   "outputs": [
    {
     "data": {
      "text/plain": [
       "LinearRegression(copy_X=True, fit_intercept=True, n_jobs=1, normalize=False)"
      ]
     },
     "execution_count": 71,
     "metadata": {},
     "output_type": "execute_result"
    }
   ],
   "source": [
    "from sklearn.preprocessing import PolynomialFeatures\n",
    "from sklearn.linear_model import LinearRegression\n",
    "\n",
    "# PolynomialFeatures (prepreprocessing)\n",
    "poly = PolynomialFeatures(degree=4)\n",
    "X_train_p = poly.fit_transform(X_train)\n",
    "X_test_p = poly.fit_transform(X_test)\n",
    "\n",
    "# Instantiate\n",
    "lg = LinearRegression()\n",
    "\n",
    "# Fit\n",
    "lg.fit(X_train_p, y_train)\n",
    "\n",
    "# Obtain coefficients\n",
    "#lg.coef_\n"
   ]
  },
  {
   "cell_type": "code",
   "execution_count": 67,
   "metadata": {},
   "outputs": [],
   "source": [
    "# Predict\n",
    "y_test_pred_numeric_p=lg.predict(X_test_p)"
   ]
  },
  {
   "cell_type": "code",
   "execution_count": 68,
   "metadata": {},
   "outputs": [
    {
     "data": {
      "text/plain": [
       "[Text(0,0.5,'Residual = Y-predicted - Y-test'),\n",
       " Text(0.5,0,'Y-test'),\n",
       " Text(0.5,1,'Polynomial Regression')]"
      ]
     },
     "execution_count": 68,
     "metadata": {},
     "output_type": "execute_result"
    },
    {
     "data": {
      "image/png": "[encoded data removed]",
      "text/plain": [
       "<Figure size 1440x1080 with 1 Axes>"
      ]
     },
     "metadata": {},
     "output_type": "display_data"
    }
   ],
   "source": [
    "plt.subplots(figsize=(20,15))\n",
    "ax= sns.residplot(y_test, y_test-y_test_pred_numeric, color=\"b\")\n",
    "sns.set_context(\"paper\", rc={\"font.size\":15,\"axes.titlesize\":25,\"axes.labelsize\":15})\n",
    "ax.set(xlabel='Y-test', ylabel='Residual = Y-predicted - Y-test',title=\"Polynomial Regression\")"
   ]
  },
  {
   "cell_type": "code",
   "execution_count": null,
   "metadata": {},
   "outputs": [],
   "source": []
  }
 ],
 "metadata": {
  "kernelspec": {
   "display_name": "Python 3",
   "language": "python",
   "name": "python3"
  },
  "language_info": {
   "codemirror_mode": {
    "name": "ipython",
    "version": 3
   },
   "file_extension": ".py",
   "mimetype": "text/x-python",
   "name": "python",
   "nbconvert_exporter": "python",
   "pygments_lexer": "ipython3",
   "version": "3.6.5"
  }
 },
 "nbformat": 4,
 "nbformat_minor": 2
}
