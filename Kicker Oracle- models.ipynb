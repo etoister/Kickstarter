{
 "cells": [
  {
   "cell_type": "code",
   "execution_count": 48,
   "metadata": {},
   "outputs": [],
   "source": [
    "import pandas as pd\n",
    "import numpy as np\n",
    "import datetime as dt\n",
    "import os, json\n",
    "import matplotlib.pyplot as plt \n",
    "import matplotlib as mpl\n",
    "%matplotlib inline \n",
    "import seaborn as sns\n",
    "import scipy.stats as stats\n",
    "from scipy.stats import norm\n",
    "from sklearn.preprocessing import OneHotEncoder\n",
    "from sklearn.preprocessing import StandardScaler\n",
    "from sklearn.model_selection import train_test_split\n",
    "from sklearn.tree import DecisionTreeClassifier\n",
    "\n",
    "from sklearn.tree import export_graphviz \n",
    "import graphviz\n",
    "import pydotplus\n",
    "from sklearn.datasets import load_iris\n",
    "from sklearn import tree\n",
    "import collections\n",
    "from sklearn.metrics import confusion_matrix\n",
    "from os import path\n",
    "from PIL import Image\n",
    "from wordcloud import WordCloud, STOPWORDS, ImageColorGenerator\n",
    "\n",
    "data=pd.read_csv('data/Bdata_for_ML.csv',header=0) #for 54 files\n",
    "#data=pd.read_csv('data/Sdata_for_ML.csv',header=0)\n",
    "data=data.drop(['Unnamed: 0',],axis=1)\n"
   ]
  },
  {
   "cell_type": "code",
   "execution_count": 49,
   "metadata": {},
   "outputs": [
    {
     "name": "stdout",
     "output_type": "stream",
     "text": [
      "<class 'pandas.core.frame.DataFrame'>\n",
      "RangeIndex: 171612 entries, 0 to 171611\n",
      "Data columns (total 248 columns):\n",
      "is_starred                          bool\n",
      "goal                                float64\n",
      "usd_pledged                         float64\n",
      "pledge_perc                         float64\n",
      "staff_pick                          bool\n",
      "launched_at_hr                      int64\n",
      "launched_at_day_in_month            int64\n",
      "launched_at_mo                      int64\n",
      "launched_at_yr                      int64\n",
      "deadline_hr                         int64\n",
      "deadline_day_in_month               int64\n",
      "deadline_mo                         int64\n",
      "deadline_yr                         int64\n",
      "created_at_hr                       int64\n",
      "created_at_day_in_week              int64\n",
      "created_at_day_in_month             int64\n",
      "created_at_mo                       int64\n",
      "created_at_yr                       int64\n",
      "launched-created                    int64\n",
      "goal_1000                           float64\n",
      "goal_500                            float64\n",
      "goal_10                             float64\n",
      "Last_Week                           int64\n",
      "Last_Month                          int64\n",
      "Last_Year                           int64\n",
      "Last_3_Month                        int64\n",
      "Last_6_Month                        int64\n",
      "deadline-launched                   float64\n",
      "state_num                           int64\n",
      "name_len                            int64\n",
      "name_is_question                    int64\n",
      "name_is_exclamation                 int64\n",
      "name_is_upper                       float64\n",
      "name_non_character                  int64\n",
      "name_number_of_word                 int64\n",
      "name_vowel_ratio                    float64\n",
      "blurb_number_of_word                int64\n",
      "blurb_vowel_ratio                   int64\n",
      "blurb_non_character                 int64\n",
      "category.name_3D Printing           int64\n",
      "category.name_Academic              int64\n",
      "category.name_Accessories           int64\n",
      "category.name_Action                int64\n",
      "category.name_Animals               int64\n",
      "category.name_Animation             int64\n",
      "category.name_Anthologies           int64\n",
      "category.name_Apparel               int64\n",
      "category.name_Apps                  int64\n",
      "category.name_Architecture          int64\n",
      "category.name_Art Books             int64\n",
      "category.name_Audio                 int64\n",
      "category.name_Bacon                 int64\n",
      "category.name_Blues                 int64\n",
      "category.name_Calendars             int64\n",
      "category.name_Camera Equipment      int64\n",
      "category.name_Candles               int64\n",
      "category.name_Ceramics              int64\n",
      "category.name_Children's Books      int64\n",
      "category.name_Childrenswear         int64\n",
      "category.name_Chiptune              int64\n",
      "category.name_Civic Design          int64\n",
      "category.name_Classical Music       int64\n",
      "category.name_Comedy                int64\n",
      "category.name_Comic Books           int64\n",
      "category.name_Community Gardens     int64\n",
      "category.name_Conceptual Art        int64\n",
      "category.name_Cookbooks             int64\n",
      "category.name_Country & Folk        int64\n",
      "category.name_Couture               int64\n",
      "category.name_Crochet               int64\n",
      "category.name_DIY                   int64\n",
      "category.name_DIY Electronics       int64\n",
      "category.name_Digital Art           int64\n",
      "category.name_Documentary           int64\n",
      "category.name_Drama                 int64\n",
      "category.name_Drinks                int64\n",
      "category.name_Electronic Music      int64\n",
      "category.name_Embroidery            int64\n",
      "category.name_Events                int64\n",
      "category.name_Experimental          int64\n",
      "category.name_Fabrication Tools     int64\n",
      "category.name_Faith                 int64\n",
      "category.name_Family                int64\n",
      "category.name_Fantasy               int64\n",
      "category.name_Farmer's Markets      int64\n",
      "category.name_Farms                 int64\n",
      "category.name_Festivals             int64\n",
      "category.name_Fiction               int64\n",
      "category.name_Fine Art              int64\n",
      "category.name_Flight                int64\n",
      "category.name_Food Trucks           int64\n",
      "category.name_Footwear              int64\n",
      "category.name_Gadgets               int64\n",
      "category.name_Gaming Hardware       int64\n",
      "category.name_Glass                 int64\n",
      "category.name_Graphic Design        int64\n",
      "category.name_Graphic Novels        int64\n",
      "category.name_Hardware              int64\n",
      "category.name_Hip-Hop               int64\n",
      "category.name_Horror                int64\n",
      "category.name_Illustration          int64\n",
      "category.name_Immersive             int64\n",
      "category.name_Indie Rock            int64\n",
      "category.name_Installations         int64\n",
      "category.name_Interactive Design    int64\n",
      "category.name_Jazz                  int64\n",
      "category.name_Jewelry               int64\n",
      "category.name_Kids                  int64\n",
      "category.name_Knitting              int64\n",
      "category.name_Latin                 int64\n",
      "category.name_Letterpress           int64\n",
      "category.name_Literary Journals     int64\n",
      "category.name_Literary Spaces       int64\n",
      "category.name_Live Games            int64\n",
      "category.name_Makerspaces           int64\n",
      "category.name_Metal                 int64\n",
      "category.name_Mixed Media           int64\n",
      "category.name_Mobile Games          int64\n",
      "category.name_Movie Theaters        int64\n",
      "category.name_Music Videos          int64\n",
      "category.name_Musical               int64\n",
      "category.name_Narrative Film        int64\n",
      "category.name_Nature                int64\n",
      "category.name_Nonfiction            int64\n",
      "category.name_Painting              int64\n",
      "category.name_People                int64\n",
      "category.name_Performance Art       int64\n",
      "category.name_Performances          int64\n",
      "category.name_Periodicals           int64\n",
      "category.name_Pet Fashion           int64\n",
      "category.name_Photo                 int64\n",
      "category.name_Photobooks            int64\n",
      "category.name_Places                int64\n",
      "category.name_Playing Cards         int64\n",
      "category.name_Plays                 int64\n",
      "category.name_Poetry                int64\n",
      "category.name_Pop                   int64\n",
      "category.name_Pottery               int64\n",
      "category.name_Print                 int64\n",
      "category.name_Printing              int64\n",
      "category.name_Product Design        int64\n",
      "category.name_Public Art            int64\n",
      "category.name_Punk                  int64\n",
      "category.name_Puzzles               int64\n",
      "category.name_Quilts                int64\n",
      "category.name_R&B                   int64\n",
      "category.name_Radio & Podcasts      int64\n",
      "category.name_Ready-to-wear         int64\n",
      "category.name_Residencies           int64\n",
      "category.name_Restaurants           int64\n",
      "category.name_Robots                int64\n",
      "category.name_Rock                  int64\n",
      "category.name_Romance               int64\n",
      "category.name_Science Fiction       int64\n",
      "category.name_Sculpture             int64\n",
      "category.name_Shorts                int64\n",
      "category.name_Small Batch           int64\n",
      "category.name_Software              int64\n",
      "category.name_Sound                 int64\n",
      "category.name_Space Exploration     int64\n",
      "category.name_Spaces                int64\n",
      "category.name_Stationery            int64\n",
      "category.name_Tabletop Games        int64\n",
      "category.name_Taxidermy             int64\n",
      "category.name_Television            int64\n",
      "category.name_Textiles              int64\n",
      "category.name_Thrillers             int64\n",
      "category.name_Translations          int64\n",
      "category.name_Typography            int64\n",
      "category.name_Vegan                 int64\n",
      "category.name_Video                 int64\n",
      "category.name_Video Art             int64\n",
      "category.name_Video Games           int64\n",
      "category.name_Wearables             int64\n",
      "category.name_Weaving               int64\n",
      "category.name_Web                   int64\n",
      "category.name_Webcomics             int64\n",
      "category.name_Webseries             int64\n",
      "category.name_Woodworking           int64\n",
      "category.name_Workshops             int64\n",
      "category.name_World Music           int64\n",
      "category.name_Young Adult           int64\n",
      "category.name_Zines                 int64\n",
      "category.slug_art                   int64\n",
      "category.slug_comics                int64\n",
      "category.slug_crafts                int64\n",
      "category.slug_dance                 int64\n",
      "category.slug_design                int64\n",
      "category.slug_fashion               int64\n",
      "category.slug_film & video          int64\n",
      "category.slug_food                  int64\n",
      "category.slug_games                 int64\n",
      "category.slug_journalism            int64\n",
      "category.slug_music                 int64\n",
      "category.slug_photography           int64\n",
      "category.slug_publishing            int64\n",
      "category.slug_technology            int64\n",
      "category.slug_theater               int64\n",
      "country_AT                          int64\n",
      "country_AU                          int64\n",
      "country_BE                          int64\n",
      "country_CA                          int64\n",
      "country_CH                          int64\n",
      "country_DE                          int64\n",
      "country_DK                          int64\n",
      "country_ES                          int64\n",
      "country_FR                          int64\n",
      "country_GB                          int64\n",
      "country_HK                          int64\n",
      "country_IE                          int64\n",
      "country_IT                          int64\n",
      "country_JP                          int64\n",
      "country_LU                          int64\n",
      "country_MX                          int64\n",
      "country_NL                          int64\n",
      "country_NO                          int64\n",
      "country_NZ                          int64\n",
      "country_SE                          int64\n",
      "country_SG                          int64\n",
      "country_US                          int64\n",
      "currency_AUD                        int64\n",
      "currency_CAD                        int64\n",
      "currency_CHF                        int64\n",
      "currency_DKK                        int64\n",
      "currency_EUR                        int64\n",
      "currency_GBP                        int64\n",
      "currency_HKD                        int64\n",
      "currency_JPY                        int64\n",
      "currency_MXN                        int64\n",
      "currency_NOK                        int64\n",
      "currency_NZD                        int64\n",
      "currency_SEK                        int64\n",
      "currency_SGD                        int64\n",
      "currency_USD                        int64\n",
      "launched_at_day_in_week_1           int64\n",
      "launched_at_day_in_week_2           int64\n",
      "launched_at_day_in_week_3           int64\n",
      "launched_at_day_in_week_4           int64\n",
      "launched_at_day_in_week_5           int64\n",
      "launched_at_day_in_week_6           int64\n",
      "launched_at_day_in_week_7           int64\n",
      "deadline_day_in_week_1              int64\n",
      "deadline_day_in_week_2              int64\n",
      "deadline_day_in_week_3              int64\n",
      "deadline_day_in_week_4              int64\n",
      "deadline_day_in_week_5              int64\n",
      "deadline_day_in_week_6              int64\n",
      "deadline_day_in_week_7              int64\n",
      "dtypes: bool(2), float64(9), int64(237)\n",
      "memory usage: 322.4 MB\n"
     ]
    }
   ],
   "source": [
    "data.info(10)"
   ]
  },
  {
   "cell_type": "markdown",
   "metadata": {},
   "source": [
    "##  Small Tree ML"
   ]
  },
  {
   "cell_type": "code",
   "execution_count": 50,
   "metadata": {
    "scrolled": true
   },
   "outputs": [],
   "source": [
    "data=data.drop(['is_starred','usd_pledged','pledge_perc', 'staff_pick',],axis=1)\n",
    "mod1=data"
   ]
  },
  {
   "cell_type": "code",
   "execution_count": 51,
   "metadata": {},
   "outputs": [
    {
     "name": "stdout",
     "output_type": "stream",
     "text": [
      "171612\n"
     ]
    }
   ],
   "source": [
    "print(len(mod1))\n",
    "corr_df=mod1.corr()\n",
    "#corr_df[corr_df['state_num']==1]\n",
    "#corr_df[(corr_df<1) & ((corr_df >= 0.3) | (corr_df <= -0.3)) ]"
   ]
  },
  {
   "cell_type": "code",
   "execution_count": 52,
   "metadata": {},
   "outputs": [
    {
     "name": "stdout",
     "output_type": "stream",
     "text": [
      "goal                               -0.226695\n",
      "deadline_yr                        -0.189162\n",
      "created_at_yr                      -0.188553\n",
      "launched_at_yr                     -0.186114\n",
      "category.slug_food                 -0.172964\n",
      "category.slug_technology           -0.125430\n",
      "category.name_Web                  -0.120252\n",
      "category.name_Mobile Games         -0.097364\n",
      "category.slug_crafts               -0.096475\n",
      "category.name_Food Trucks          -0.086990\n",
      "currency_EUR                       -0.086662\n",
      "category.name_Apps                 -0.086578\n",
      "category.name_Software             -0.082426\n",
      "category.slug_journalism           -0.081538\n",
      "deadline-launched                  -0.081511\n",
      "category.name_Restaurants          -0.078340\n",
      "deadline_hr                        -0.071423\n",
      "category.name_Hip-Hop              -0.065599\n",
      "category.name_DIY                  -0.064976\n",
      "category.name_Drinks               -0.062454\n",
      "category.name_Television           -0.058122\n",
      "category.slug_photography          -0.057910\n",
      "category.name_Animation            -0.056759\n",
      "category.name_Live Games           -0.055511\n",
      "category.name_Farms                -0.054844\n",
      "country_IT                         -0.053648\n",
      "category.name_Ready-to-wear        -0.051520\n",
      "category.name_Action               -0.049063\n",
      "category.name_Academic             -0.047309\n",
      "category.name_Woodworking          -0.046570\n",
      "category.name_Events               -0.046568\n",
      "category.name_Small Batch          -0.044812\n",
      "country_AU                         -0.044456\n",
      "currency_AUD                       -0.044456\n",
      "category.name_Young Adult          -0.043909\n",
      "category.name_Video                -0.042704\n",
      "category.name_Jewelry              -0.042230\n",
      "category.name_Electronic Music     -0.041649\n",
      "category.name_People               -0.041524\n",
      "category.name_Places               -0.041415\n",
      "country_NL                         -0.041386\n",
      "country_CA                         -0.041351\n",
      "currency_CAD                       -0.041351\n",
      "category.name_Candles              -0.041280\n",
      "category.name_Farmer's Markets     -0.037695\n",
      "category.name_Architecture         -0.037673\n",
      "country_DE                         -0.036539\n",
      "category.name_Digital Art          -0.036463\n",
      "category.name_Nature               -0.034276\n",
      "category.name_Interactive Design   -0.033749\n",
      "Name: state_num, dtype: float64\n",
      "state_num                         1.000000\n",
      "name_non_character                0.153215\n",
      "name_number_of_word               0.144058\n",
      "name_len                          0.124519\n",
      "category.name_Product Design      0.120824\n",
      "category.name_Shorts              0.119089\n",
      "category.name_Tabletop Games      0.115985\n",
      "category.name_Documentary         0.114666\n",
      "category.name_Indie Rock          0.112945\n",
      "category.name_Nonfiction          0.111509\n",
      "category.name_Fiction             0.111468\n",
      "category.name_Video Games         0.111323\n",
      "category.name_Rock                0.109175\n",
      "category.slug_publishing          0.108480\n",
      "category.name_Country & Folk      0.107564\n",
      "category.name_Children's Books    0.106965\n",
      "country_US                        0.102862\n",
      "currency_USD                      0.102862\n",
      "category.slug_music               0.094493\n",
      "category.name_Comic Books         0.091369\n",
      "category.name_Illustration        0.083064\n",
      "category.name_Narrative Film      0.081521\n",
      "category.slug_comics              0.079273\n",
      "Last_Year                         0.060146\n",
      "category.slug_design              0.050171\n",
      "Last_6_Month                      0.049608\n",
      "name_is_exclamation               0.048826\n",
      "category.name_Apparel             0.048498\n",
      "category.slug_games               0.046026\n",
      "category.name_Webseries           0.045488\n",
      "category.name_Accessories         0.045438\n",
      "category.name_Performances        0.043951\n",
      "category.name_Classical Music     0.042820\n",
      "category.name_Public Art          0.040095\n",
      "Last_3_Month                      0.039349\n",
      "category.slug_dance               0.039327\n",
      "blurb_non_character               0.038614\n",
      "category.name_Pop                 0.034949\n",
      "category.slug_film & video        0.034176\n",
      "category.name_Anthologies         0.027191\n",
      "category.name_Art Books           0.026140\n",
      "Last_Month                        0.025436\n",
      "category.name_Hardware            0.021193\n",
      "deadline_day_in_week_1            0.020682\n",
      "launched-created                  0.020152\n",
      "category.name_Jazz                0.019614\n",
      "created_at_hr                     0.019282\n",
      "category.name_Graphic Novels      0.018546\n",
      "category.name_Residencies         0.015276\n",
      "launched_at_day_in_week_2         0.013367\n",
      "Name: state_num, dtype: float64\n"
     ]
    }
   ],
   "source": [
    "cor_st=corr_df.loc['state_num']\n",
    "print(cor_st.nsmallest(50))\n",
    "print(cor_st.nlargest(50))\n"
   ]
  },
  {
   "cell_type": "code",
   "execution_count": 53,
   "metadata": {},
   "outputs": [],
   "source": [
    "mod1_params= ['goal','launched-created','category.slug_food','category.slug_technology']\n"
   ]
  },
  {
   "cell_type": "code",
   "execution_count": 54,
   "metadata": {},
   "outputs": [
    {
     "data": {
      "text/plain": [
       "DecisionTreeClassifier(class_weight=None, criterion='gini', max_depth=3,\n",
       "            max_features=None, max_leaf_nodes=None,\n",
       "            min_impurity_decrease=0.0, min_impurity_split=None,\n",
       "            min_samples_leaf=1, min_samples_split=2,\n",
       "            min_weight_fraction_leaf=0.0, presort=False, random_state=None,\n",
       "            splitter='best')"
      ]
     },
     "execution_count": 54,
     "metadata": {},
     "output_type": "execute_result"
    }
   ],
   "source": [
    "Dtree_Params=mod1_params\n",
    "train_df, test_df= train_test_split (mod1, test_size = 0.2, random_state=6)\n",
    "Y_train = train_df[\"state_num\"]\n",
    "X_train = train_df[Dtree_Params]\n",
    "Y_test=test_df[\"state_num\"]\n",
    "X_test=test_df[Dtree_Params]\n",
    "tree_clf = DecisionTreeClassifier (max_depth = 3)\n",
    "tree_clf.fit (X_train, Y_train)"
   ]
  },
  {
   "cell_type": "markdown",
   "metadata": {},
   "source": [
    "Decision Tree visualization"
   ]
  },
  {
   "cell_type": "code",
   "execution_count": 55,
   "metadata": {},
   "outputs": [
    {
     "data": {
      "image/svg+xml": [
       "<?xml version=\"1.0\" encoding=\"UTF-8\" standalone=\"no\"?>\r\n",
       "<!DOCTYPE svg PUBLIC \"-//W3C//DTD SVG 1.1//EN\"\r\n",
       " \"http://www.w3.org/Graphics/SVG/1.1/DTD/svg11.dtd\">\r\n",
       "<!-- Generated by graphviz version 2.38.0 (20140413.2041)\r\n",
       " -->\r\n",
       "<!-- Title: Tree Pages: 1 -->\r\n",
       "<svg width=\"1322pt\" height=\"433pt\"\r\n",
       " viewBox=\"0.00 0.00 1321.50 433.00\" xmlns=\"http://www.w3.org/2000/svg\" xmlns:xlink=\"http://www.w3.org/1999/xlink\">\r\n",
       "<g id=\"graph0\" class=\"graph\" transform=\"scale(1 1) rotate(0) translate(4 429)\">\r\n",
       "<title>Tree</title>\r\n",
       "<polygon fill=\"white\" stroke=\"none\" points=\"-4,4 -4,-429 1317.5,-429 1317.5,4 -4,4\"/>\r\n",
       "<!-- 0 -->\r\n",
       "<g id=\"node1\" class=\"node\"><title>0</title>\r\n",
       "<path fill=\"#399de5\" fill-opacity=\"0.231373\" stroke=\"black\" d=\"M749,-425C749,-425 610,-425 610,-425 604,-425 598,-419 598,-413 598,-413 598,-354 598,-354 598,-348 604,-342 610,-342 610,-342 749,-342 749,-342 755,-342 761,-348 761,-354 761,-354 761,-413 761,-413 761,-419 755,-425 749,-425\"/>\r\n",
       "<text text-anchor=\"start\" x=\"644\" y=\"-409.8\" font-family=\"Helvetica,sans-Serif\" font-size=\"14.00\">goal ≤ 9.85</text>\r\n",
       "<text text-anchor=\"start\" x=\"646\" y=\"-394.8\" font-family=\"Helvetica,sans-Serif\" font-size=\"14.00\">gini = 0.49</text>\r\n",
       "<text text-anchor=\"start\" x=\"619.5\" y=\"-379.8\" font-family=\"Helvetica,sans-Serif\" font-size=\"14.00\">samples = 137289</text>\r\n",
       "<text text-anchor=\"start\" x=\"606\" y=\"-364.8\" font-family=\"Helvetica,sans-Serif\" font-size=\"14.00\">value = [59622, 77667]</text>\r\n",
       "<text text-anchor=\"start\" x=\"643.5\" y=\"-349.8\" font-family=\"Helvetica,sans-Serif\" font-size=\"14.00\">class = Fail</text>\r\n",
       "</g>\r\n",
       "<!-- 1 -->\r\n",
       "<g id=\"node2\" class=\"node\"><title>1</title>\r\n",
       "<path fill=\"#399de5\" fill-opacity=\"0.380392\" stroke=\"black\" d=\"M625,-306C625,-306 486,-306 486,-306 480,-306 474,-300 474,-294 474,-294 474,-235 474,-235 474,-229 480,-223 486,-223 486,-223 625,-223 625,-223 631,-223 637,-229 637,-235 637,-235 637,-294 637,-294 637,-300 631,-306 625,-306\"/>\r\n",
       "<text text-anchor=\"start\" x=\"483\" y=\"-290.8\" font-family=\"Helvetica,sans-Serif\" font-size=\"14.00\">launched&#45;created ≤ 4.5</text>\r\n",
       "<text text-anchor=\"start\" x=\"522\" y=\"-275.8\" font-family=\"Helvetica,sans-Serif\" font-size=\"14.00\">gini = 0.47</text>\r\n",
       "<text text-anchor=\"start\" x=\"495.5\" y=\"-260.8\" font-family=\"Helvetica,sans-Serif\" font-size=\"14.00\">samples = 109951</text>\r\n",
       "<text text-anchor=\"start\" x=\"482\" y=\"-245.8\" font-family=\"Helvetica,sans-Serif\" font-size=\"14.00\">value = [42036, 67915]</text>\r\n",
       "<text text-anchor=\"start\" x=\"519.5\" y=\"-230.8\" font-family=\"Helvetica,sans-Serif\" font-size=\"14.00\">class = Fail</text>\r\n",
       "</g>\r\n",
       "<!-- 0&#45;&gt;1 -->\r\n",
       "<g id=\"edge1\" class=\"edge\"><title>0&#45;&gt;1</title>\r\n",
       "<path fill=\"none\" stroke=\"black\" d=\"M636.479,-341.907C626.572,-332.56 615.95,-322.538 605.766,-312.929\"/>\r\n",
       "<polygon fill=\"black\" stroke=\"black\" points=\"608.121,-310.338 598.445,-306.021 603.317,-315.429 608.121,-310.338\"/>\r\n",
       "<text text-anchor=\"middle\" x=\"599.171\" y=\"-327.31\" font-family=\"Helvetica,sans-Serif\" font-size=\"14.00\">True</text>\r\n",
       "</g>\r\n",
       "<!-- 8 -->\r\n",
       "<g id=\"node9\" class=\"node\"><title>8</title>\r\n",
       "<path fill=\"#e58139\" fill-opacity=\"0.447059\" stroke=\"black\" d=\"M873,-306C873,-306 736,-306 736,-306 730,-306 724,-300 724,-294 724,-294 724,-235 724,-235 724,-229 730,-223 736,-223 736,-223 873,-223 873,-223 879,-223 885,-229 885,-235 885,-235 885,-294 885,-294 885,-300 879,-306 873,-306\"/>\r\n",
       "<text text-anchor=\"start\" x=\"732\" y=\"-290.8\" font-family=\"Helvetica,sans-Serif\" font-size=\"14.00\">launched&#45;created ≤ 4.5</text>\r\n",
       "<text text-anchor=\"start\" x=\"771\" y=\"-275.8\" font-family=\"Helvetica,sans-Serif\" font-size=\"14.00\">gini = 0.46</text>\r\n",
       "<text text-anchor=\"start\" x=\"748.5\" y=\"-260.8\" font-family=\"Helvetica,sans-Serif\" font-size=\"14.00\">samples = 27338</text>\r\n",
       "<text text-anchor=\"start\" x=\"735\" y=\"-245.8\" font-family=\"Helvetica,sans-Serif\" font-size=\"14.00\">value = [17586, 9752]</text>\r\n",
       "<text text-anchor=\"start\" x=\"751.5\" y=\"-230.8\" font-family=\"Helvetica,sans-Serif\" font-size=\"14.00\">class = Succeed</text>\r\n",
       "</g>\r\n",
       "<!-- 0&#45;&gt;8 -->\r\n",
       "<g id=\"edge8\" class=\"edge\"><title>0&#45;&gt;8</title>\r\n",
       "<path fill=\"none\" stroke=\"black\" d=\"M722.868,-341.907C732.855,-332.56 743.562,-322.538 753.828,-312.929\"/>\r\n",
       "<polygon fill=\"black\" stroke=\"black\" points=\"756.299,-315.41 761.209,-306.021 751.516,-310.299 756.299,-315.41\"/>\r\n",
       "<text text-anchor=\"middle\" x=\"760.383\" y=\"-327.307\" font-family=\"Helvetica,sans-Serif\" font-size=\"14.00\">False</text>\r\n",
       "</g>\r\n",
       "<!-- 2 -->\r\n",
       "<g id=\"node3\" class=\"node\"><title>2</title>\r\n",
       "<path fill=\"#399de5\" fill-opacity=\"0.078431\" stroke=\"black\" d=\"M324,-187C324,-187 185,-187 185,-187 179,-187 173,-181 173,-175 173,-175 173,-116 173,-116 173,-110 179,-104 185,-104 185,-104 324,-104 324,-104 330,-104 336,-110 336,-116 336,-116 336,-175 336,-175 336,-181 330,-187 324,-187\"/>\r\n",
       "<text text-anchor=\"start\" x=\"219\" y=\"-171.8\" font-family=\"Helvetica,sans-Serif\" font-size=\"14.00\">goal ≤ 8.52</text>\r\n",
       "<text text-anchor=\"start\" x=\"225.5\" y=\"-156.8\" font-family=\"Helvetica,sans-Serif\" font-size=\"14.00\">gini = 0.5</text>\r\n",
       "<text text-anchor=\"start\" x=\"198.5\" y=\"-141.8\" font-family=\"Helvetica,sans-Serif\" font-size=\"14.00\">samples = 41855</text>\r\n",
       "<text text-anchor=\"start\" x=\"181\" y=\"-126.8\" font-family=\"Helvetica,sans-Serif\" font-size=\"14.00\">value = [20074, 21781]</text>\r\n",
       "<text text-anchor=\"start\" x=\"218.5\" y=\"-111.8\" font-family=\"Helvetica,sans-Serif\" font-size=\"14.00\">class = Fail</text>\r\n",
       "</g>\r\n",
       "<!-- 1&#45;&gt;2 -->\r\n",
       "<g id=\"edge2\" class=\"edge\"><title>1&#45;&gt;2</title>\r\n",
       "<path fill=\"none\" stroke=\"black\" d=\"M473.648,-231.684C433.998,-216.272 386.259,-197.715 345.472,-181.861\"/>\r\n",
       "<polygon fill=\"black\" stroke=\"black\" points=\"346.663,-178.569 336.075,-178.208 344.127,-185.094 346.663,-178.569\"/>\r\n",
       "</g>\r\n",
       "<!-- 5 -->\r\n",
       "<g id=\"node6\" class=\"node\"><title>5</title>\r\n",
       "<path fill=\"#399de5\" fill-opacity=\"0.525490\" stroke=\"black\" d=\"M630.5,-187C630.5,-187 480.5,-187 480.5,-187 474.5,-187 468.5,-181 468.5,-175 468.5,-175 468.5,-116 468.5,-116 468.5,-110 474.5,-104 480.5,-104 480.5,-104 630.5,-104 630.5,-104 636.5,-104 642.5,-110 642.5,-116 642.5,-116 642.5,-175 642.5,-175 642.5,-181 636.5,-187 630.5,-187\"/>\r\n",
       "<text text-anchor=\"start\" x=\"476.5\" y=\"-171.8\" font-family=\"Helvetica,sans-Serif\" font-size=\"14.00\">category.slug_food ≤ 0.5</text>\r\n",
       "<text text-anchor=\"start\" x=\"522\" y=\"-156.8\" font-family=\"Helvetica,sans-Serif\" font-size=\"14.00\">gini = 0.44</text>\r\n",
       "<text text-anchor=\"start\" x=\"499.5\" y=\"-141.8\" font-family=\"Helvetica,sans-Serif\" font-size=\"14.00\">samples = 68096</text>\r\n",
       "<text text-anchor=\"start\" x=\"482\" y=\"-126.8\" font-family=\"Helvetica,sans-Serif\" font-size=\"14.00\">value = [21962, 46134]</text>\r\n",
       "<text text-anchor=\"start\" x=\"519.5\" y=\"-111.8\" font-family=\"Helvetica,sans-Serif\" font-size=\"14.00\">class = Fail</text>\r\n",
       "</g>\r\n",
       "<!-- 1&#45;&gt;5 -->\r\n",
       "<g id=\"edge5\" class=\"edge\"><title>1&#45;&gt;5</title>\r\n",
       "<path fill=\"none\" stroke=\"black\" d=\"M555.5,-222.907C555.5,-214.649 555.5,-205.864 555.5,-197.302\"/>\r\n",
       "<polygon fill=\"black\" stroke=\"black\" points=\"559,-197.021 555.5,-187.021 552,-197.021 559,-197.021\"/>\r\n",
       "</g>\r\n",
       "<!-- 3 -->\r\n",
       "<g id=\"node4\" class=\"node\"><title>3</title>\r\n",
       "<path fill=\"#399de5\" fill-opacity=\"0.298039\" stroke=\"black\" d=\"M151,-68C151,-68 12,-68 12,-68 6,-68 0,-62 0,-56 0,-56 0,-12 0,-12 0,-6 6,-0 12,-0 12,-0 151,-0 151,-0 157,-0 163,-6 163,-12 163,-12 163,-56 163,-56 163,-62 157,-68 151,-68\"/>\r\n",
       "<text text-anchor=\"start\" x=\"48\" y=\"-52.8\" font-family=\"Helvetica,sans-Serif\" font-size=\"14.00\">gini = 0.48</text>\r\n",
       "<text text-anchor=\"start\" x=\"25.5\" y=\"-37.8\" font-family=\"Helvetica,sans-Serif\" font-size=\"14.00\">samples = 28811</text>\r\n",
       "<text text-anchor=\"start\" x=\"8\" y=\"-22.8\" font-family=\"Helvetica,sans-Serif\" font-size=\"14.00\">value = [11899, 16912]</text>\r\n",
       "<text text-anchor=\"start\" x=\"45.5\" y=\"-7.8\" font-family=\"Helvetica,sans-Serif\" font-size=\"14.00\">class = Fail</text>\r\n",
       "</g>\r\n",
       "<!-- 2&#45;&gt;3 -->\r\n",
       "<g id=\"edge3\" class=\"edge\"><title>2&#45;&gt;3</title>\r\n",
       "<path fill=\"none\" stroke=\"black\" d=\"M190.081,-103.726C174.437,-93.8245 157.761,-83.269 142.291,-73.4774\"/>\r\n",
       "<polygon fill=\"black\" stroke=\"black\" points=\"144.156,-70.5161 133.835,-68.1252 140.413,-76.4308 144.156,-70.5161\"/>\r\n",
       "</g>\r\n",
       "<!-- 4 -->\r\n",
       "<g id=\"node5\" class=\"node\"><title>4</title>\r\n",
       "<path fill=\"#e58139\" fill-opacity=\"0.403922\" stroke=\"black\" d=\"M315.5,-68C315.5,-68 193.5,-68 193.5,-68 187.5,-68 181.5,-62 181.5,-56 181.5,-56 181.5,-12 181.5,-12 181.5,-6 187.5,-0 193.5,-0 193.5,-0 315.5,-0 315.5,-0 321.5,-0 327.5,-6 327.5,-12 327.5,-12 327.5,-56 327.5,-56 327.5,-62 321.5,-68 315.5,-68\"/>\r\n",
       "<text text-anchor=\"start\" x=\"221\" y=\"-52.8\" font-family=\"Helvetica,sans-Serif\" font-size=\"14.00\">gini = 0.47</text>\r\n",
       "<text text-anchor=\"start\" x=\"198.5\" y=\"-37.8\" font-family=\"Helvetica,sans-Serif\" font-size=\"14.00\">samples = 13044</text>\r\n",
       "<text text-anchor=\"start\" x=\"189.5\" y=\"-22.8\" font-family=\"Helvetica,sans-Serif\" font-size=\"14.00\">value = [8175, 4869]</text>\r\n",
       "<text text-anchor=\"start\" x=\"201.5\" y=\"-7.8\" font-family=\"Helvetica,sans-Serif\" font-size=\"14.00\">class = Succeed</text>\r\n",
       "</g>\r\n",
       "<!-- 2&#45;&gt;4 -->\r\n",
       "<g id=\"edge4\" class=\"edge\"><title>2&#45;&gt;4</title>\r\n",
       "<path fill=\"none\" stroke=\"black\" d=\"M254.5,-103.726C254.5,-95.5175 254.5,-86.8595 254.5,-78.56\"/>\r\n",
       "<polygon fill=\"black\" stroke=\"black\" points=\"258,-78.2996 254.5,-68.2996 251,-78.2996 258,-78.2996\"/>\r\n",
       "</g>\r\n",
       "<!-- 6 -->\r\n",
       "<g id=\"node7\" class=\"node\"><title>6</title>\r\n",
       "<path fill=\"#399de5\" fill-opacity=\"0.552941\" stroke=\"black\" d=\"M497,-68C497,-68 358,-68 358,-68 352,-68 346,-62 346,-56 346,-56 346,-12 346,-12 346,-6 352,-0 358,-0 358,-0 497,-0 497,-0 503,-0 509,-6 509,-12 509,-12 509,-56 509,-56 509,-62 503,-68 497,-68\"/>\r\n",
       "<text text-anchor=\"start\" x=\"394\" y=\"-52.8\" font-family=\"Helvetica,sans-Serif\" font-size=\"14.00\">gini = 0.43</text>\r\n",
       "<text text-anchor=\"start\" x=\"371.5\" y=\"-37.8\" font-family=\"Helvetica,sans-Serif\" font-size=\"14.00\">samples = 64570</text>\r\n",
       "<text text-anchor=\"start\" x=\"354\" y=\"-22.8\" font-family=\"Helvetica,sans-Serif\" font-size=\"14.00\">value = [19912, 44658]</text>\r\n",
       "<text text-anchor=\"start\" x=\"391.5\" y=\"-7.8\" font-family=\"Helvetica,sans-Serif\" font-size=\"14.00\">class = Fail</text>\r\n",
       "</g>\r\n",
       "<!-- 5&#45;&gt;6 -->\r\n",
       "<g id=\"edge6\" class=\"edge\"><title>5&#45;&gt;6</title>\r\n",
       "<path fill=\"none\" stroke=\"black\" d=\"M507.838,-103.726C496.856,-94.3318 485.186,-84.349 474.244,-74.9883\"/>\r\n",
       "<polygon fill=\"black\" stroke=\"black\" points=\"476.3,-72.1406 466.426,-68.2996 471.749,-77.4598 476.3,-72.1406\"/>\r\n",
       "</g>\r\n",
       "<!-- 7 -->\r\n",
       "<g id=\"node8\" class=\"node\"><title>7</title>\r\n",
       "<path fill=\"#e58139\" fill-opacity=\"0.278431\" stroke=\"black\" d=\"M661.5,-68C661.5,-68 539.5,-68 539.5,-68 533.5,-68 527.5,-62 527.5,-56 527.5,-56 527.5,-12 527.5,-12 527.5,-6 533.5,-0 539.5,-0 539.5,-0 661.5,-0 661.5,-0 667.5,-0 673.5,-6 673.5,-12 673.5,-12 673.5,-56 673.5,-56 673.5,-62 667.5,-68 661.5,-68\"/>\r\n",
       "<text text-anchor=\"start\" x=\"567\" y=\"-52.8\" font-family=\"Helvetica,sans-Serif\" font-size=\"14.00\">gini = 0.49</text>\r\n",
       "<text text-anchor=\"start\" x=\"549\" y=\"-37.8\" font-family=\"Helvetica,sans-Serif\" font-size=\"14.00\">samples = 3526</text>\r\n",
       "<text text-anchor=\"start\" x=\"535.5\" y=\"-22.8\" font-family=\"Helvetica,sans-Serif\" font-size=\"14.00\">value = [2050, 1476]</text>\r\n",
       "<text text-anchor=\"start\" x=\"547.5\" y=\"-7.8\" font-family=\"Helvetica,sans-Serif\" font-size=\"14.00\">class = Succeed</text>\r\n",
       "</g>\r\n",
       "<!-- 5&#45;&gt;7 -->\r\n",
       "<g id=\"edge7\" class=\"edge\"><title>5&#45;&gt;7</title>\r\n",
       "<path fill=\"none\" stroke=\"black\" d=\"M572.256,-103.726C575.742,-95.2439 579.425,-86.2819 582.939,-77.7312\"/>\r\n",
       "<polygon fill=\"black\" stroke=\"black\" points=\"586.251,-78.8794 586.815,-68.2996 579.777,-76.2186 586.251,-78.8794\"/>\r\n",
       "</g>\r\n",
       "<!-- 9 -->\r\n",
       "<g id=\"node10\" class=\"node\"><title>9</title>\r\n",
       "<path fill=\"#e58139\" fill-opacity=\"0.843137\" stroke=\"black\" d=\"M861.5,-187C861.5,-187 747.5,-187 747.5,-187 741.5,-187 735.5,-181 735.5,-175 735.5,-175 735.5,-116 735.5,-116 735.5,-110 741.5,-104 747.5,-104 747.5,-104 861.5,-104 861.5,-104 867.5,-104 873.5,-110 873.5,-116 873.5,-116 873.5,-175 873.5,-175 873.5,-181 867.5,-187 861.5,-187\"/>\r\n",
       "<text text-anchor=\"start\" x=\"765\" y=\"-171.8\" font-family=\"Helvetica,sans-Serif\" font-size=\"14.00\">goal ≤ 10.55</text>\r\n",
       "<text text-anchor=\"start\" x=\"771\" y=\"-156.8\" font-family=\"Helvetica,sans-Serif\" font-size=\"14.00\">gini = 0.24</text>\r\n",
       "<text text-anchor=\"start\" x=\"753\" y=\"-141.8\" font-family=\"Helvetica,sans-Serif\" font-size=\"14.00\">samples = 7197</text>\r\n",
       "<text text-anchor=\"start\" x=\"743.5\" y=\"-126.8\" font-family=\"Helvetica,sans-Serif\" font-size=\"14.00\">value = [6216, 981]</text>\r\n",
       "<text text-anchor=\"start\" x=\"751.5\" y=\"-111.8\" font-family=\"Helvetica,sans-Serif\" font-size=\"14.00\">class = Succeed</text>\r\n",
       "</g>\r\n",
       "<!-- 8&#45;&gt;9 -->\r\n",
       "<g id=\"edge9\" class=\"edge\"><title>8&#45;&gt;9</title>\r\n",
       "<path fill=\"none\" stroke=\"black\" d=\"M804.5,-222.907C804.5,-214.649 804.5,-205.864 804.5,-197.302\"/>\r\n",
       "<polygon fill=\"black\" stroke=\"black\" points=\"808,-197.021 804.5,-187.021 801,-197.021 808,-197.021\"/>\r\n",
       "</g>\r\n",
       "<!-- 12 -->\r\n",
       "<g id=\"node13\" class=\"node\"><title>12</title>\r\n",
       "<path fill=\"#e58139\" fill-opacity=\"0.227451\" stroke=\"black\" d=\"M1142,-187C1142,-187 1011,-187 1011,-187 1005,-187 999,-181 999,-175 999,-175 999,-116 999,-116 999,-110 1005,-104 1011,-104 1011,-104 1142,-104 1142,-104 1148,-104 1154,-110 1154,-116 1154,-116 1154,-175 1154,-175 1154,-181 1148,-187 1142,-187\"/>\r\n",
       "<text text-anchor=\"start\" x=\"1041\" y=\"-171.8\" font-family=\"Helvetica,sans-Serif\" font-size=\"14.00\">goal ≤ 10.6</text>\r\n",
       "<text text-anchor=\"start\" x=\"1043\" y=\"-156.8\" font-family=\"Helvetica,sans-Serif\" font-size=\"14.00\">gini = 0.49</text>\r\n",
       "<text text-anchor=\"start\" x=\"1020.5\" y=\"-141.8\" font-family=\"Helvetica,sans-Serif\" font-size=\"14.00\">samples = 20141</text>\r\n",
       "<text text-anchor=\"start\" x=\"1007\" y=\"-126.8\" font-family=\"Helvetica,sans-Serif\" font-size=\"14.00\">value = [11370, 8771]</text>\r\n",
       "<text text-anchor=\"start\" x=\"1023.5\" y=\"-111.8\" font-family=\"Helvetica,sans-Serif\" font-size=\"14.00\">class = Succeed</text>\r\n",
       "</g>\r\n",
       "<!-- 8&#45;&gt;12 -->\r\n",
       "<g id=\"edge12\" class=\"edge\"><title>8&#45;&gt;12</title>\r\n",
       "<path fill=\"none\" stroke=\"black\" d=\"M885.005,-228.871C917.796,-214.766 955.781,-198.427 989.234,-184.037\"/>\r\n",
       "<polygon fill=\"black\" stroke=\"black\" points=\"990.738,-187.201 998.541,-180.034 987.972,-180.77 990.738,-187.201\"/>\r\n",
       "</g>\r\n",
       "<!-- 10 -->\r\n",
       "<g id=\"node11\" class=\"node\"><title>10</title>\r\n",
       "<path fill=\"#e58139\" fill-opacity=\"0.745098\" stroke=\"black\" d=\"M817.5,-68C817.5,-68 703.5,-68 703.5,-68 697.5,-68 691.5,-62 691.5,-56 691.5,-56 691.5,-12 691.5,-12 691.5,-6 697.5,-0 703.5,-0 703.5,-0 817.5,-0 817.5,-0 823.5,-0 829.5,-6 829.5,-12 829.5,-12 829.5,-56 829.5,-56 829.5,-62 823.5,-68 817.5,-68\"/>\r\n",
       "<text text-anchor=\"start\" x=\"727\" y=\"-52.8\" font-family=\"Helvetica,sans-Serif\" font-size=\"14.00\">gini = 0.32</text>\r\n",
       "<text text-anchor=\"start\" x=\"709\" y=\"-37.8\" font-family=\"Helvetica,sans-Serif\" font-size=\"14.00\">samples = 3313</text>\r\n",
       "<text text-anchor=\"start\" x=\"699.5\" y=\"-22.8\" font-family=\"Helvetica,sans-Serif\" font-size=\"14.00\">value = [2637, 676]</text>\r\n",
       "<text text-anchor=\"start\" x=\"707.5\" y=\"-7.8\" font-family=\"Helvetica,sans-Serif\" font-size=\"14.00\">class = Succeed</text>\r\n",
       "</g>\r\n",
       "<!-- 9&#45;&gt;10 -->\r\n",
       "<g id=\"edge10\" class=\"edge\"><title>9&#45;&gt;10</title>\r\n",
       "<path fill=\"none\" stroke=\"black\" d=\"M788.116,-103.726C784.708,-95.2439 781.106,-86.2819 777.671,-77.7312\"/>\r\n",
       "<polygon fill=\"black\" stroke=\"black\" points=\"780.857,-76.2735 773.881,-68.2996 774.362,-78.8835 780.857,-76.2735\"/>\r\n",
       "</g>\r\n",
       "<!-- 11 -->\r\n",
       "<g id=\"node12\" class=\"node\"><title>11</title>\r\n",
       "<path fill=\"#e58139\" fill-opacity=\"0.913725\" stroke=\"black\" d=\"M973.5,-68C973.5,-68 859.5,-68 859.5,-68 853.5,-68 847.5,-62 847.5,-56 847.5,-56 847.5,-12 847.5,-12 847.5,-6 853.5,-0 859.5,-0 859.5,-0 973.5,-0 973.5,-0 979.5,-0 985.5,-6 985.5,-12 985.5,-12 985.5,-56 985.5,-56 985.5,-62 979.5,-68 973.5,-68\"/>\r\n",
       "<text text-anchor=\"start\" x=\"883\" y=\"-52.8\" font-family=\"Helvetica,sans-Serif\" font-size=\"14.00\">gini = 0.14</text>\r\n",
       "<text text-anchor=\"start\" x=\"865\" y=\"-37.8\" font-family=\"Helvetica,sans-Serif\" font-size=\"14.00\">samples = 3884</text>\r\n",
       "<text text-anchor=\"start\" x=\"855.5\" y=\"-22.8\" font-family=\"Helvetica,sans-Serif\" font-size=\"14.00\">value = [3579, 305]</text>\r\n",
       "<text text-anchor=\"start\" x=\"863.5\" y=\"-7.8\" font-family=\"Helvetica,sans-Serif\" font-size=\"14.00\">class = Succeed</text>\r\n",
       "</g>\r\n",
       "<!-- 9&#45;&gt;11 -->\r\n",
       "<g id=\"edge11\" class=\"edge\"><title>9&#45;&gt;11</title>\r\n",
       "<path fill=\"none\" stroke=\"black\" d=\"M846.205,-103.726C855.627,-94.5142 865.628,-84.7364 875.04,-75.5343\"/>\r\n",
       "<polygon fill=\"black\" stroke=\"black\" points=\"877.736,-77.7931 882.44,-68.2996 872.843,-72.7878 877.736,-77.7931\"/>\r\n",
       "</g>\r\n",
       "<!-- 13 -->\r\n",
       "<g id=\"node14\" class=\"node\"><title>13</title>\r\n",
       "<path fill=\"#399de5\" fill-opacity=\"0.039216\" stroke=\"black\" d=\"M1137.5,-68C1137.5,-68 1015.5,-68 1015.5,-68 1009.5,-68 1003.5,-62 1003.5,-56 1003.5,-56 1003.5,-12 1003.5,-12 1003.5,-6 1009.5,-0 1015.5,-0 1015.5,-0 1137.5,-0 1137.5,-0 1143.5,-0 1149.5,-6 1149.5,-12 1149.5,-12 1149.5,-56 1149.5,-56 1149.5,-62 1143.5,-68 1137.5,-68\"/>\r\n",
       "<text text-anchor=\"start\" x=\"1047.5\" y=\"-52.8\" font-family=\"Helvetica,sans-Serif\" font-size=\"14.00\">gini = 0.5</text>\r\n",
       "<text text-anchor=\"start\" x=\"1020.5\" y=\"-37.8\" font-family=\"Helvetica,sans-Serif\" font-size=\"14.00\">samples = 11046</text>\r\n",
       "<text text-anchor=\"start\" x=\"1011.5\" y=\"-22.8\" font-family=\"Helvetica,sans-Serif\" font-size=\"14.00\">value = [5407, 5639]</text>\r\n",
       "<text text-anchor=\"start\" x=\"1040.5\" y=\"-7.8\" font-family=\"Helvetica,sans-Serif\" font-size=\"14.00\">class = Fail</text>\r\n",
       "</g>\r\n",
       "<!-- 12&#45;&gt;13 -->\r\n",
       "<g id=\"edge13\" class=\"edge\"><title>12&#45;&gt;13</title>\r\n",
       "<path fill=\"none\" stroke=\"black\" d=\"M1076.5,-103.726C1076.5,-95.5175 1076.5,-86.8595 1076.5,-78.56\"/>\r\n",
       "<polygon fill=\"black\" stroke=\"black\" points=\"1080,-78.2996 1076.5,-68.2996 1073,-78.2996 1080,-78.2996\"/>\r\n",
       "</g>\r\n",
       "<!-- 14 -->\r\n",
       "<g id=\"node15\" class=\"node\"><title>14</title>\r\n",
       "<path fill=\"#e58139\" fill-opacity=\"0.474510\" stroke=\"black\" d=\"M1301.5,-68C1301.5,-68 1179.5,-68 1179.5,-68 1173.5,-68 1167.5,-62 1167.5,-56 1167.5,-56 1167.5,-12 1167.5,-12 1167.5,-6 1173.5,-0 1179.5,-0 1179.5,-0 1301.5,-0 1301.5,-0 1307.5,-0 1313.5,-6 1313.5,-12 1313.5,-12 1313.5,-56 1313.5,-56 1313.5,-62 1307.5,-68 1301.5,-68\"/>\r\n",
       "<text text-anchor=\"start\" x=\"1207\" y=\"-52.8\" font-family=\"Helvetica,sans-Serif\" font-size=\"14.00\">gini = 0.45</text>\r\n",
       "<text text-anchor=\"start\" x=\"1189\" y=\"-37.8\" font-family=\"Helvetica,sans-Serif\" font-size=\"14.00\">samples = 9095</text>\r\n",
       "<text text-anchor=\"start\" x=\"1175.5\" y=\"-22.8\" font-family=\"Helvetica,sans-Serif\" font-size=\"14.00\">value = [5963, 3132]</text>\r\n",
       "<text text-anchor=\"start\" x=\"1187.5\" y=\"-7.8\" font-family=\"Helvetica,sans-Serif\" font-size=\"14.00\">class = Succeed</text>\r\n",
       "</g>\r\n",
       "<!-- 12&#45;&gt;14 -->\r\n",
       "<g id=\"edge14\" class=\"edge\"><title>12&#45;&gt;14</title>\r\n",
       "<path fill=\"none\" stroke=\"black\" d=\"M1137.57,-103.726C1152.26,-93.9161 1167.91,-83.4644 1182.46,-73.7496\"/>\r\n",
       "<polygon fill=\"black\" stroke=\"black\" points=\"1184.51,-76.5889 1190.89,-68.1252 1180.63,-70.7673 1184.51,-76.5889\"/>\r\n",
       "</g>\r\n",
       "</g>\r\n",
       "</svg>\r\n"
      ],
      "text/plain": [
       "<graphviz.files.Source at 0x24e90aa6d68>"
      ]
     },
     "execution_count": 55,
     "metadata": {},
     "output_type": "execute_result"
    }
   ],
   "source": [
    "\n",
    "\n",
    "dot_data = export_graphviz(tree_clf, out_file = None, \n",
    "                           feature_names = Dtree_Params, \n",
    "                           class_names = [\"Succeed\", \"Fail\" ],\n",
    "                           rounded = True, filled=True, special_characters=True,precision=2)\n",
    "graph = graphviz.Source(dot_data) \n",
    "graph.format='png'\n",
    "graph.render()\n",
    "graph"
   ]
  },
  {
   "cell_type": "code",
   "execution_count": 56,
   "metadata": {},
   "outputs": [
    {
     "name": "stdout",
     "output_type": "stream",
     "text": [
      "Test set conf matrix is [[ 5613  9127]\n",
      " [ 2585 16998]]\n",
      "Train set conf matrix is [[22404 37218]\n",
      " [10458 67209]]\n",
      "The recall for the train set is  0.865348217389625\n",
      "The recall for the test set tree is  0.8679977531532451\n",
      "The precision for the train set tree is  0.6435979200781408\n",
      "The precision for the test tree is  0.6506411483253588\n",
      "Y_test_proba[:,1] is [0.34436504 0.6916215  0.58699802 ... 0.6916215  0.51050154 0.37327507]\n",
      " Precision =  [0.57055036 0.58412432 0.59409163 0.61374893 0.64276455 0.65064115\n",
      " 0.66609655 0.69506286 1.        ] \n",
      " Recalls =  [1.         0.99617015 0.98789767 0.94919062 0.88617679 0.86799775\n",
      " 0.79548588 0.57871623 0.        ] \n",
      " Thresholds =  [0.07852729 0.20404467 0.34436504 0.37327507 0.41860465 0.51050154\n",
      " 0.58699802 0.6916215 ]\n"
     ]
    }
   ],
   "source": [
    "# Run the test set through the decision tree\n",
    "Y2_test_Tree_predict = tree_clf.predict (X_test)  \n",
    "\n",
    "#Test set conf matrix\n",
    "conf_matrix_Testdata = confusion_matrix(Y_test, Y2_test_Tree_predict) \n",
    "print('Test set conf matrix is',conf_matrix_Testdata)\n",
    "\n",
    "#Train set conf. matrix\n",
    "conf_matrix_Traindata = confusion_matrix(Y_train, tree_clf.predict (X_train)) \n",
    "print('Train set conf matrix is',conf_matrix_Traindata)\n",
    "\n",
    "from sklearn.metrics import precision_score, recall_score\n",
    "\n",
    "print(\"The recall for the train set is \",recall_score(Y_train, tree_clf.predict (X_train)))\n",
    "print(\"The recall for the test set tree is \",recall_score(Y_test, Y2_test_Tree_predict))\n",
    "print(\"The precision for the train set tree is \",precision_score(Y_train, tree_clf.predict (X_train)))\n",
    "print(\"The precision for the test tree is \",precision_score(Y_test, Y2_test_Tree_predict))\n",
    "\n",
    "Y_test_proba = tree_clf.predict_proba(X_test)\n",
    "print('Y_test_proba[:,1] is',Y_test_proba[:,1])\n",
    "\n",
    "from sklearn.metrics import precision_recall_curve\n",
    "\n",
    "precisions, recalls, thresholds = precision_recall_curve(y_true = Y_test, probas_pred = Y_test_proba[:,1])\n",
    "print(\" Precision = \", precisions, \"\\n\", \"Recalls = \", recalls, \"\\n\", \"Thresholds = \", thresholds)"
   ]
  },
  {
   "cell_type": "markdown",
   "metadata": {},
   "source": [
    "##  Large Tree ML"
   ]
  },
  {
   "cell_type": "code",
   "execution_count": 57,
   "metadata": {},
   "outputs": [
    {
     "data": {
      "text/plain": [
       "Index(['goal', 'launched_at_hr', 'launched_at_day_in_month', 'launched_at_mo',\n",
       "       'launched_at_yr', 'deadline_hr', 'deadline_day_in_month', 'deadline_mo',\n",
       "       'deadline_yr', 'created_at_hr',\n",
       "       ...\n",
       "       'launched_at_day_in_week_5', 'launched_at_day_in_week_6',\n",
       "       'launched_at_day_in_week_7', 'deadline_day_in_week_1',\n",
       "       'deadline_day_in_week_2', 'deadline_day_in_week_3',\n",
       "       'deadline_day_in_week_4', 'deadline_day_in_week_5',\n",
       "       'deadline_day_in_week_6', 'deadline_day_in_week_7'],\n",
       "      dtype='object', length=243)"
      ]
     },
     "execution_count": 57,
     "metadata": {},
     "output_type": "execute_result"
    }
   ],
   "source": [
    "para=mod1.drop(['state_num'],axis=1)\n",
    "para.columns"
   ]
  },
  {
   "cell_type": "code",
   "execution_count": 58,
   "metadata": {},
   "outputs": [
    {
     "name": "stdout",
     "output_type": "stream",
     "text": [
      "Test set conf matrix is [[ 8285  6455]\n",
      " [ 4611 14972]]\n",
      "Train set conf matrix is [[33810 25812]\n",
      " [17980 59687]]\n",
      "The recall for the train set is  0.7684988476444307\n",
      "The recall for the test set tree is  0.7645406730327324\n",
      "The precision for the train set tree is  0.6981017321840022\n",
      "The precision for the test tree is  0.6987445746021375\n",
      "Y_test_proba[:,1] is [0.3681548  0.60907862 0.39522556 ... 0.60907862 0.3681548  0.39522556]\n",
      " Precision =  [0.57055036 0.59336733 0.59536597 0.62592191 0.69696829 0.69874457\n",
      " 0.70741473 0.82827448 1.        ] \n",
      " Recalls =  [1.         0.99223817 0.99065516 0.91441556 0.76658326 0.76454067\n",
      " 0.71276107 0.35811673 0.        ] \n",
      " Thresholds =  [0.0927142  0.18970588 0.3681548  0.39522556 0.42891566 0.60569469\n",
      " 0.60907862 0.83099329]\n"
     ]
    }
   ],
   "source": [
    "Dtree_Params=para.columns\n",
    "train_df, test_df= train_test_split (mod1, test_size = 0.2, random_state=6)\n",
    "Y_train = train_df[\"state_num\"]\n",
    "X_train = train_df[Dtree_Params]\n",
    "Y_test=test_df[\"state_num\"]\n",
    "X_test=test_df[Dtree_Params]\n",
    "tree_clf = DecisionTreeClassifier (max_depth = 3)\n",
    "tree_clf.fit (X_train, Y_train)\n",
    "\n",
    "# Run the test set through the decision tree\n",
    "Y2_test_Tree_predict = tree_clf.predict (X_test)  \n",
    "\n",
    "#Test set conf matrix\n",
    "conf_matrix_Testdata = confusion_matrix(Y_test, Y2_test_Tree_predict) \n",
    "print('Test set conf matrix is',conf_matrix_Testdata)\n",
    "\n",
    "#Train set conf. matrix\n",
    "conf_matrix_Traindata = confusion_matrix(Y_train, tree_clf.predict (X_train)) \n",
    "print('Train set conf matrix is',conf_matrix_Traindata)\n",
    "\n",
    "from sklearn.metrics import precision_score, recall_score\n",
    "\n",
    "print(\"The recall for the train set is \",recall_score(Y_train, tree_clf.predict (X_train)))\n",
    "print(\"The recall for the test set tree is \",recall_score(Y_test, Y2_test_Tree_predict))\n",
    "print(\"The precision for the train set tree is \",precision_score(Y_train, tree_clf.predict (X_train)))\n",
    "print(\"The precision for the test tree is \",precision_score(Y_test, Y2_test_Tree_predict))\n",
    "\n",
    "Y_test_proba = tree_clf.predict_proba(X_test)\n",
    "print('Y_test_proba[:,1] is',Y_test_proba[:,1])\n",
    "\n",
    "from sklearn.metrics import precision_recall_curve\n",
    "\n",
    "precisions, recalls, thresholds = precision_recall_curve(y_true = Y_test, probas_pred = Y_test_proba[:,1])\n",
    "print(\" Precision = \", precisions, \"\\n\", \"Recalls = \", recalls, \"\\n\", \"Thresholds = \", thresholds)"
   ]
  },
  {
   "cell_type": "markdown",
   "metadata": {},
   "source": [
    "## Precision plot graph "
   ]
  },
  {
   "cell_type": "code",
   "execution_count": 59,
   "metadata": {},
   "outputs": [],
   "source": [
    "def plot_precision_recall_vs_threshold (precisions, recalls, thresholds, color = \"k\", label = None):\n",
    "    plt.plot (thresholds, precisions[:-1], color+\"--\", label=\"Precision \"+label)\n",
    "    plt.plot (thresholds, recalls[:-1], color+\"-\", label=\"Recall \"+label)\n",
    "    plt.xlabel(\"Threshold\")\n",
    "    plt.legend(loc=\"upper right\")\n",
    "    plt.ylim([0,1])"
   ]
  },
  {
   "cell_type": "code",
   "execution_count": 60,
   "metadata": {},
   "outputs": [
    {
     "data": {
      "text/plain": [
       "<matplotlib.legend.Legend at 0x24e98428dd8>"
      ]
     },
     "execution_count": 60,
     "metadata": {},
     "output_type": "execute_result"
    },
    {
     "data": {
      "image/png": "[encoded data removed]",
      "text/plain": [
       "<Figure size 432x288 with 1 Axes>"
      ]
     },
     "metadata": {},
     "output_type": "display_data"
    }
   ],
   "source": [
    "plot_precision_recall_vs_threshold( precisions, recalls, thresholds, color = \"b\", label=\"Full tree\")\n",
    "plt.legend(loc = \"best\")"
   ]
  },
  {
   "cell_type": "markdown",
   "metadata": {},
   "source": [
    "## Roc Curve Plotting"
   ]
  },
  {
   "cell_type": "code",
   "execution_count": 61,
   "metadata": {},
   "outputs": [],
   "source": [
    "from sklearn.metrics import roc_curve"
   ]
  },
  {
   "cell_type": "code",
   "execution_count": 62,
   "metadata": {},
   "outputs": [],
   "source": [
    "fpr, tpr, thresholds = roc_curve(Y_test, Y_test_proba[:,1])"
   ]
  },
  {
   "cell_type": "code",
   "execution_count": 63,
   "metadata": {},
   "outputs": [
    {
     "data": {
      "image/png": "[encoded data removed]",
      "text/plain": [
       "<Figure size 432x288 with 1 Axes>"
      ]
     },
     "metadata": {},
     "output_type": "display_data"
    }
   ],
   "source": [
    "def plot_roc_curve (fpr, tpr, label = None):\n",
    "    plt.plot(fpr, tpr, linewidth = 2, label = label)\n",
    "    plt.plot([0,1], [0,1], \"k--\")\n",
    "    plt.axis([0,1,0,1])\n",
    "    plt.xlabel(\"False positive rate\")\n",
    "    plt.ylabel(\"True positive rate\")\n",
    "    \n",
    "plot_roc_curve (fpr, tpr, \"Full tree\")\n",
    "plt.show()"
   ]
  },
  {
   "cell_type": "code",
   "execution_count": 64,
   "metadata": {},
   "outputs": [
    {
     "name": "stdout",
     "output_type": "stream",
     "text": [
      "AUC for random guess is:    0.5\n",
      "AUC for the Full tree is:  0.7160363144147054\n"
     ]
    }
   ],
   "source": [
    "from sklearn.metrics import roc_auc_score\n",
    "print(\"AUC for random guess is:   \", 0.5 )\n",
    "print(\"AUC for the Full tree is: \", roc_auc_score(Y_test, Y_test_proba[:,1]) )"
   ]
  },
  {
   "cell_type": "markdown",
   "metadata": {},
   "source": [
    "## Random forest (RF)"
   ]
  },
  {
   "cell_type": "code",
   "execution_count": 65,
   "metadata": {},
   "outputs": [],
   "source": [
    "from sklearn.ensemble import RandomForestClassifier\n",
    "\n",
    "rnd_clf = RandomForestClassifier(n_estimators = 1000, max_depth = 2, n_jobs= -1)\n",
    "rnd_clf.fit (X_train, Y_train)\n",
    "y_pred_rf = rnd_clf.predict(X_test)"
   ]
  },
  {
   "cell_type": "code",
   "execution_count": 66,
   "metadata": {},
   "outputs": [
    {
     "data": {
      "text/plain": [
       "array([[ 4098, 10642],\n",
       "       [ 1519, 18064]], dtype=int64)"
      ]
     },
     "execution_count": 66,
     "metadata": {},
     "output_type": "execute_result"
    }
   ],
   "source": [
    "confusion_matrix(Y_test, y_pred_rf)"
   ]
  },
  {
   "cell_type": "code",
   "execution_count": 67,
   "metadata": {},
   "outputs": [
    {
     "data": {
      "text/plain": [
       "0.9224327222591023"
      ]
     },
     "execution_count": 67,
     "metadata": {},
     "output_type": "execute_result"
    }
   ],
   "source": [
    "recall_score(Y_test, y_pred_rf)"
   ]
  },
  {
   "cell_type": "code",
   "execution_count": 68,
   "metadata": {},
   "outputs": [
    {
     "data": {
      "text/plain": [
       "0.6292761095241413"
      ]
     },
     "execution_count": 68,
     "metadata": {},
     "output_type": "execute_result"
    }
   ],
   "source": [
    "precision_score(Y_test, y_pred_rf)"
   ]
  },
  {
   "cell_type": "code",
   "execution_count": 69,
   "metadata": {},
   "outputs": [
    {
     "data": {
      "image/png": "[encoded data removed]",
      "text/plain": [
       "<Figure size 432x288 with 1 Axes>"
      ]
     },
     "metadata": {},
     "output_type": "display_data"
    }
   ],
   "source": [
    "y_rf_proba = rnd_clf.predict_proba(X_test)\n",
    "fpr_rf, tpr_rf, thresholds_rf = roc_curve(Y_test, y_rf_proba[:,1])\n",
    "plot_roc_curve (fpr, tpr, \"Full tree\")\n",
    "plot_roc_curve (fpr_rf, tpr_rf, \"Random Forest\")\n",
    "plt.legend(loc = \"best\")\n",
    "plt.show()"
   ]
  },
  {
   "cell_type": "code",
   "execution_count": 70,
   "metadata": {},
   "outputs": [
    {
     "data": {
      "text/plain": [
       "0.7597865183790304"
      ]
     },
     "execution_count": 70,
     "metadata": {},
     "output_type": "execute_result"
    }
   ],
   "source": [
    "roc_auc_score(Y_test, y_rf_proba[:,1])"
   ]
  },
  {
   "cell_type": "code",
   "execution_count": 71,
   "metadata": {
    "scrolled": true
   },
   "outputs": [
    {
     "data": {
      "text/plain": [
       "array([5.96087382e-02, 6.38742177e-05, 3.46798641e-07, 2.75172298e-06,\n",
       "       9.83013964e-02, 1.99489972e-03, 2.69968866e-05, 8.16530614e-06,\n",
       "       9.00839161e-02, 7.25556081e-06, 2.39213480e-05, 0.00000000e+00,\n",
       "       1.53831354e-06, 7.64842815e-02, 4.76583606e-02, 5.56578998e-02,\n",
       "       5.91573037e-02, 5.98958914e-02, 0.00000000e+00, 8.93188893e-05,\n",
       "       9.38585443e-03, 2.64406040e-03, 6.62657026e-03, 1.00568861e-02,\n",
       "       1.80343213e-02, 0.00000000e+00, 6.34168281e-04, 8.79243753e-07,\n",
       "       3.37643642e-02, 3.13686702e-02, 7.30348121e-06, 9.99405318e-05,\n",
       "       9.26163156e-05, 3.45753249e-04, 0.00000000e+00, 6.62030493e-04,\n",
       "       4.58684277e-05, 1.73900827e-04, 0.00000000e+00, 1.50269282e-03,\n",
       "       0.00000000e+00, 1.62399555e-04, 4.41263282e-03, 0.00000000e+00,\n",
       "       8.71728160e-06, 0.00000000e+00, 0.00000000e+00, 0.00000000e+00,\n",
       "       2.53785590e-05, 0.00000000e+00, 3.61177112e-05, 0.00000000e+00,\n",
       "       9.59986608e-03, 0.00000000e+00, 0.00000000e+00, 0.00000000e+00,\n",
       "       5.69950379e-04, 1.53081143e-05, 4.43654234e-03, 0.00000000e+00,\n",
       "       0.00000000e+00, 0.00000000e+00, 1.32427490e-02, 0.00000000e+00,\n",
       "       0.00000000e+00, 1.00215688e-03, 0.00000000e+00, 0.00000000e+00,\n",
       "       2.01144858e-02, 0.00000000e+00, 1.54389939e-03, 2.23881735e-04,\n",
       "       0.00000000e+00, 2.38766171e-04, 0.00000000e+00, 0.00000000e+00,\n",
       "       0.00000000e+00, 0.00000000e+00, 0.00000000e+00, 1.04037261e-04,\n",
       "       2.09067860e-04, 0.00000000e+00, 1.10889716e-02, 0.00000000e+00,\n",
       "       2.80966625e-05, 2.14687805e-03, 0.00000000e+00, 0.00000000e+00,\n",
       "       0.00000000e+00, 6.99543776e-07, 0.00000000e+00, 3.12035582e-05,\n",
       "       4.02013829e-04, 2.39541671e-03, 0.00000000e+00, 5.76849577e-03,\n",
       "       0.00000000e+00, 1.76736765e-02, 0.00000000e+00, 0.00000000e+00,\n",
       "       0.00000000e+00, 0.00000000e+00, 0.00000000e+00, 4.64446894e-06,\n",
       "       0.00000000e+00, 0.00000000e+00, 0.00000000e+00, 0.00000000e+00,\n",
       "       3.90178109e-04, 0.00000000e+00, 0.00000000e+00, 1.24194347e-04,\n",
       "       4.04035372e-03, 0.00000000e+00, 0.00000000e+00, 0.00000000e+00,\n",
       "       1.90727465e-03, 0.00000000e+00, 9.92915514e-03, 7.39429878e-05,\n",
       "       1.12083987e-05, 0.00000000e+00, 1.68046411e-04, 0.00000000e+00,\n",
       "       0.00000000e+00, 0.00000000e+00, 0.00000000e+00, 1.02021587e-04,\n",
       "       0.00000000e+00, 0.00000000e+00, 6.92504386e-05, 9.48650852e-05,\n",
       "       1.22229123e-05, 0.00000000e+00, 0.00000000e+00, 2.06469857e-02,\n",
       "       4.54405882e-05, 0.00000000e+00, 0.00000000e+00, 0.00000000e+00,\n",
       "       0.00000000e+00, 0.00000000e+00, 1.98143794e-04, 0.00000000e+00,\n",
       "       1.03944413e-03, 4.88001569e-06, 1.07617173e-02, 0.00000000e+00,\n",
       "       0.00000000e+00, 2.60842126e-05, 2.36836070e-02, 2.21284557e-04,\n",
       "       2.77416227e-03, 0.00000000e+00, 0.00000000e+00, 3.59701038e-06,\n",
       "       0.00000000e+00, 1.40979057e-02, 0.00000000e+00, 1.15043853e-04,\n",
       "       0.00000000e+00, 0.00000000e+00, 0.00000000e+00, 0.00000000e+00,\n",
       "       8.92221741e-06, 5.41900202e-05, 0.00000000e+00, 1.19114034e-02,\n",
       "       0.00000000e+00, 0.00000000e+00, 1.43722027e-02, 0.00000000e+00,\n",
       "       3.89895203e-04, 3.66001958e-04, 0.00000000e+00, 1.25890687e-05,\n",
       "       1.95688592e-04, 0.00000000e+00, 9.31191364e-04, 1.75210094e-03,\n",
       "       6.00765948e-03, 2.78587411e-04, 1.34935817e-04, 8.07686284e-07,\n",
       "       8.65007559e-05, 4.20838896e-02, 3.71239821e-04, 2.66069376e-03,\n",
       "       9.29743638e-03, 1.52238781e-03, 1.14755196e-02, 2.64872972e-02,\n",
       "       0.00000000e+00, 0.00000000e+00, 2.18423462e-04, 0.00000000e+00,\n",
       "       1.53025998e-04, 0.00000000e+00, 1.45424248e-06, 0.00000000e+00,\n",
       "       0.00000000e+00, 6.48248678e-07, 1.17328791e-04, 1.48870250e-05,\n",
       "       0.00000000e+00, 5.93842841e-04, 4.75289536e-06, 0.00000000e+00,\n",
       "       1.13951589e-07, 2.39610806e-05, 0.00000000e+00, 1.37408119e-06,\n",
       "       0.00000000e+00, 0.00000000e+00, 6.89928586e-03, 3.17765403e-05,\n",
       "       1.18153225e-06, 0.00000000e+00, 0.00000000e+00, 3.66261096e-03,\n",
       "       3.48944570e-06, 3.45513137e-05, 3.94847217e-06, 0.00000000e+00,\n",
       "       0.00000000e+00, 0.00000000e+00, 0.00000000e+00, 0.00000000e+00,\n",
       "       7.22258178e-03, 6.40737582e-06, 5.35142145e-05, 0.00000000e+00,\n",
       "       1.87921166e-07, 1.28497120e-06, 0.00000000e+00, 1.73062736e-06,\n",
       "       3.44151389e-06, 0.00000000e+00, 0.00000000e+00, 8.18204227e-07,\n",
       "       0.00000000e+00, 0.00000000e+00, 2.43536075e-06])"
      ]
     },
     "execution_count": 71,
     "metadata": {},
     "output_type": "execute_result"
    }
   ],
   "source": [
    "feature_score = rnd_clf.feature_importances_\n",
    "feature_score"
   ]
  },
  {
   "cell_type": "code",
   "execution_count": 72,
   "metadata": {},
   "outputs": [
    {
     "data": {
      "text/html": [
       "<div>\n",
       "<style scoped>\n",
       "    .dataframe tbody tr th:only-of-type {\n",
       "        vertical-align: middle;\n",
       "    }\n",
       "\n",
       "    .dataframe tbody tr th {\n",
       "        vertical-align: top;\n",
       "    }\n",
       "\n",
       "    .dataframe thead th {\n",
       "        text-align: right;\n",
       "    }\n",
       "</style>\n",
       "<table border=\"1\" class=\"dataframe\">\n",
       "  <thead>\n",
       "    <tr style=\"text-align: right;\">\n",
       "      <th></th>\n",
       "      <th>feature</th>\n",
       "      <th>score</th>\n",
       "    </tr>\n",
       "  </thead>\n",
       "  <tbody>\n",
       "    <tr>\n",
       "      <th>4</th>\n",
       "      <td>launched_at_yr</td>\n",
       "      <td>0.098301</td>\n",
       "    </tr>\n",
       "    <tr>\n",
       "      <th>8</th>\n",
       "      <td>deadline_yr</td>\n",
       "      <td>0.090084</td>\n",
       "    </tr>\n",
       "    <tr>\n",
       "      <th>13</th>\n",
       "      <td>created_at_yr</td>\n",
       "      <td>0.076484</td>\n",
       "    </tr>\n",
       "    <tr>\n",
       "      <th>17</th>\n",
       "      <td>goal_10</td>\n",
       "      <td>0.059896</td>\n",
       "    </tr>\n",
       "    <tr>\n",
       "      <th>0</th>\n",
       "      <td>goal</td>\n",
       "      <td>0.059609</td>\n",
       "    </tr>\n",
       "    <tr>\n",
       "      <th>16</th>\n",
       "      <td>goal_500</td>\n",
       "      <td>0.059157</td>\n",
       "    </tr>\n",
       "    <tr>\n",
       "      <th>15</th>\n",
       "      <td>goal_1000</td>\n",
       "      <td>0.055658</td>\n",
       "    </tr>\n",
       "    <tr>\n",
       "      <th>14</th>\n",
       "      <td>launched-created</td>\n",
       "      <td>0.047658</td>\n",
       "    </tr>\n",
       "    <tr>\n",
       "      <th>185</th>\n",
       "      <td>category.slug_food</td>\n",
       "      <td>0.042084</td>\n",
       "    </tr>\n",
       "    <tr>\n",
       "      <th>28</th>\n",
       "      <td>name_non_character</td>\n",
       "      <td>0.033764</td>\n",
       "    </tr>\n",
       "    <tr>\n",
       "      <th>29</th>\n",
       "      <td>name_number_of_word</td>\n",
       "      <td>0.031369</td>\n",
       "    </tr>\n",
       "    <tr>\n",
       "      <th>191</th>\n",
       "      <td>category.slug_technology</td>\n",
       "      <td>0.026487</td>\n",
       "    </tr>\n",
       "  </tbody>\n",
       "</table>\n",
       "</div>"
      ],
      "text/plain": [
       "                      feature     score\n",
       "4              launched_at_yr  0.098301\n",
       "8                 deadline_yr  0.090084\n",
       "13              created_at_yr  0.076484\n",
       "17                    goal_10  0.059896\n",
       "0                        goal  0.059609\n",
       "16                   goal_500  0.059157\n",
       "15                  goal_1000  0.055658\n",
       "14           launched-created  0.047658\n",
       "185        category.slug_food  0.042084\n",
       "28         name_non_character  0.033764\n",
       "29        name_number_of_word  0.031369\n",
       "191  category.slug_technology  0.026487"
      ]
     },
     "execution_count": 72,
     "metadata": {},
     "output_type": "execute_result"
    }
   ],
   "source": [
    "feature_names = list(X_train)\n",
    "df_feature_score = pd.DataFrame(data=feature_names, columns=[\"feature\"])\n",
    "df_feature_score[\"score\"]= feature_score\n",
    "df_feature_score = df_feature_score.sort_values(by=['score'], ascending=False)\n",
    "#df_feature_score.head()\n",
    "df_feature_score_short=df_feature_score.drop(df_feature_score.index[12:])\n",
    "df_feature_score_short"
   ]
  },
  {
   "cell_type": "code",
   "execution_count": 73,
   "metadata": {},
   "outputs": [
    {
     "data": {
      "text/plain": [
       "<matplotlib.axes._subplots.AxesSubplot at 0x24e96510668>"
      ]
     },
     "execution_count": 73,
     "metadata": {},
     "output_type": "execute_result"
    },
    {
     "data": {
      "image/png": "[encoded data removed]",
      "text/plain": [
       "<Figure size 432x288 with 1 Axes>"
      ]
     },
     "metadata": {},
     "output_type": "display_data"
    }
   ],
   "source": [
    "sns.barplot(y=\"feature\", x=\"score\", data=df_feature_score_short)"
   ]
  },
  {
   "cell_type": "markdown",
   "metadata": {},
   "source": [
    "## GBM"
   ]
  },
  {
   "cell_type": "code",
   "execution_count": 74,
   "metadata": {},
   "outputs": [
    {
     "data": {
      "text/plain": [
       "GradientBoostingClassifier(criterion='friedman_mse', init=None,\n",
       "              learning_rate=0.1, loss='deviance', max_depth=3,\n",
       "              max_features=None, max_leaf_nodes=None,\n",
       "              min_impurity_decrease=0.0, min_impurity_split=None,\n",
       "              min_samples_leaf=1, min_samples_split=2,\n",
       "              min_weight_fraction_leaf=0.0, n_estimators=100,\n",
       "              presort='auto', random_state=None, subsample=1.0, verbose=0,\n",
       "              warm_start=False)"
      ]
     },
     "execution_count": 74,
     "metadata": {},
     "output_type": "execute_result"
    }
   ],
   "source": [
    "from sklearn import ensemble\n",
    "\n",
    "clf_gb = ensemble.GradientBoostingClassifier()\n",
    "clf_gb.fit(X_train, Y_train)"
   ]
  },
  {
   "cell_type": "code",
   "execution_count": 75,
   "metadata": {},
   "outputs": [],
   "source": [
    "y_pred_gb = clf_gb.predict(X_test)"
   ]
  },
  {
   "cell_type": "code",
   "execution_count": 76,
   "metadata": {},
   "outputs": [
    {
     "data": {
      "text/plain": [
       "array([[10044,  4696],\n",
       "       [ 3529, 16054]], dtype=int64)"
      ]
     },
     "execution_count": 76,
     "metadata": {},
     "output_type": "execute_result"
    }
   ],
   "source": [
    "confusion_matrix(Y_test, y_pred_gb)"
   ]
  },
  {
   "cell_type": "code",
   "execution_count": 77,
   "metadata": {},
   "outputs": [
    {
     "data": {
      "text/plain": [
       "0.8197926773221672"
      ]
     },
     "execution_count": 77,
     "metadata": {},
     "output_type": "execute_result"
    }
   ],
   "source": [
    "recall_score(Y_test, y_pred_gb)"
   ]
  },
  {
   "cell_type": "code",
   "execution_count": 78,
   "metadata": {},
   "outputs": [
    {
     "data": {
      "text/plain": [
       "0.7736867469879518"
      ]
     },
     "execution_count": 78,
     "metadata": {},
     "output_type": "execute_result"
    }
   ],
   "source": [
    "precision_score(Y_test, y_pred_gb)"
   ]
  },
  {
   "cell_type": "code",
   "execution_count": 79,
   "metadata": {},
   "outputs": [
    {
     "data": {
      "image/png": "[encoded data removed]",
      "text/plain": [
       "<Figure size 432x288 with 1 Axes>"
      ]
     },
     "metadata": {},
     "output_type": "display_data"
    }
   ],
   "source": [
    "y_gb_proba = clf_gb.predict_proba(X_test)\n",
    "fpr_gb, tpr_gb, thresholds_gb = roc_curve(Y_test, y_gb_proba[:,1])\n",
    "\n",
    "y_rf_proba = rnd_clf.predict_proba(X_test)\n",
    "fpr_rf, tpr_rf, thresholds_rf = roc_curve(Y_test, y_rf_proba[:,1])\n",
    "plot_roc_curve (fpr, tpr, \"Full tree\")\n",
    "plot_roc_curve (fpr_rf, tpr_rf, \"Random Forest\")\n",
    "plot_roc_curve (fpr_gb, tpr_gb, \"gradient boosting\")\n",
    "plt.legend(loc = \"best\")\n",
    "plt.show()"
   ]
  },
  {
   "cell_type": "markdown",
   "metadata": {},
   "source": [
    "## Precision graph plots for all methods"
   ]
  },
  {
   "cell_type": "code",
   "execution_count": 82,
   "metadata": {},
   "outputs": [
    {
     "data": {
      "text/plain": [
       "(0, 1)"
      ]
     },
     "execution_count": 82,
     "metadata": {},
     "output_type": "execute_result"
    },
    {
     "data": {
      "image/png": "[encoded data removed]",
      "text/plain": [
       "<Figure size 432x288 with 1 Axes>"
      ]
     },
     "metadata": {},
     "output_type": "display_data"
    }
   ],
   "source": [
    "precisions_GB, recalls_GB, thresholds_GB = precision_recall_curve(y_true = Y_test, probas_pred = y_gb_proba[:,1])\n",
    "precisions_RF, recalls_RF, thresholds_RF = precision_recall_curve(y_true = Y_test, probas_pred = y_rf_proba[:,1])\n",
    "precisions, recalls, thresholds = precision_recall_curve(y_true = Y_test, probas_pred = Y_test_proba[:,1])\n",
    "\n",
    "plt.plot (thresholds, precisions[:-1], \"r\"+\"--\", label=\"Precision Full Tree\")\n",
    "plt.plot (thresholds, recalls[:-1], \"r\"+\"-\", label=\"Recall Full Tree \")\n",
    "plt.plot (thresholds_GB, precisions_GB[:-1], \"b\"+\"--\", label=\"Precision GB\")\n",
    "plt.plot (thresholds_GB, recalls_GB[:-1], \"b\"+\"-\", label=\"Recall GB\")\n",
    "plt.plot (thresholds_RF, precisions_RF[:-1], \"c\"+\"--\", label=\"Precision RF\")\n",
    "plt.plot (thresholds_RF, recalls_RF[:-1], \"c\"+\"-\", label=\"Recall RF\")\n",
    "\n",
    "plt.xlabel(\"Threshold\")\n",
    "plt.legend(frameon=False)\n",
    "plt.ylim([0,1])\n"
   ]
  },
  {
   "cell_type": "markdown",
   "metadata": {},
   "source": [
    "## Linear Regression"
   ]
  },
  {
   "cell_type": "code",
   "execution_count": 16,
   "metadata": {},
   "outputs": [],
   "source": [
    "# Linear Regression imports\n",
    "from sklearn.linear_model import LinearRegression\n",
    "lin_reg = LinearRegression()\n",
    "\n",
    "from sklearn.metrics import mean_squared_error"
   ]
  },
  {
   "cell_type": "code",
   "execution_count": 112,
   "metadata": {},
   "outputs": [
    {
     "name": "stdout",
     "output_type": "stream",
     "text": [
      "<class 'pandas.core.frame.DataFrame'>\n",
      "RangeIndex: 171612 entries, 0 to 171611\n",
      "Data columns (total 38 columns):\n",
      "Unnamed: 0                  171612 non-null int64\n",
      "creator_name                171611 non-null object\n",
      "creator_id                  171612 non-null int64\n",
      "backers_count               171612 non-null int64\n",
      "blurb                       171612 non-null object\n",
      "is_starred                  171612 non-null bool\n",
      "category.id                 171612 non-null int64\n",
      "category.name               171612 non-null object\n",
      "category.parent_id          171612 non-null float64\n",
      "category.slug               171612 non-null object\n",
      "country                     171612 non-null object\n",
      "currency                    171612 non-null object\n",
      "goal                        171612 non-null float64\n",
      "staff_pick                  171612 non-null bool\n",
      "state                       171612 non-null object\n",
      "usd_pledged                 171612 non-null float64\n",
      "usd_type                    171612 non-null object\n",
      "state_num                   171612 non-null int64\n",
      "launched_at_hr              171612 non-null int64\n",
      "launched_at_day_in_week     171612 non-null int64\n",
      "launched_at_day_in_month    171612 non-null int64\n",
      "launched_at_mo              171612 non-null int64\n",
      "launched_at_yr              171612 non-null int64\n",
      "deadline_hr                 171612 non-null int64\n",
      "deadline_day_in_week        171612 non-null int64\n",
      "deadline_day_in_month       171612 non-null int64\n",
      "deadline_mo                 171612 non-null int64\n",
      "deadline_yr                 171612 non-null int64\n",
      "created_at_hr               171612 non-null int64\n",
      "created_at_day_in_week      171612 non-null int64\n",
      "created_at_day_in_month     171612 non-null int64\n",
      "created_at_mo               171612 non-null int64\n",
      "created_at_yr               171612 non-null int64\n",
      "count                       171612 non-null int64\n",
      "success                     171612 non-null bool\n",
      "launched-created            171612 non-null int64\n",
      "deadline-launched           171612 non-null float64\n",
      "pledge_perc                 171612 non-null float64\n",
      "dtypes: bool(3), float64(5), int64(22), object(8)\n",
      "memory usage: 46.3+ MB\n"
     ]
    }
   ],
   "source": [
    "data.info()"
   ]
  },
  {
   "cell_type": "code",
   "execution_count": 306,
   "metadata": {},
   "outputs": [],
   "source": [
    "#define range of data\n",
    "data_r=data[data['pledge_perc']<300]\n",
    "data_r=data_r[data_r['pledge_perc']>=100]"
   ]
  },
  {
   "cell_type": "code",
   "execution_count": 307,
   "metadata": {},
   "outputs": [],
   "source": [
    "#define parameters for regression\n",
    "y = data_r [['pledge_perc']]\n",
    "X = data_r[['goal','deadline-launched','launched-created','category.id']]"
   ]
  },
  {
   "cell_type": "code",
   "execution_count": 308,
   "metadata": {},
   "outputs": [],
   "source": [
    "#split to train and test\n",
    "X_train, X_test, y_train, y_test = train_test_split (X, y, test_size = 0.4, random_state=8)"
   ]
  },
  {
   "cell_type": "code",
   "execution_count": 309,
   "metadata": {},
   "outputs": [
    {
     "data": {
      "text/plain": [
       "LinearRegression(copy_X=True, fit_intercept=True, n_jobs=1, normalize=False)"
      ]
     },
     "execution_count": 309,
     "metadata": {},
     "output_type": "execute_result"
    }
   ],
   "source": [
    "#perform regression\n",
    "lin_reg.fit(X_train, y_train)"
   ]
  },
  {
   "cell_type": "code",
   "execution_count": 310,
   "metadata": {},
   "outputs": [
    {
     "name": "stdout",
     "output_type": "stream",
     "text": [
      "predicted y =  [[  1.51312151e-05  -7.24268512e+00   3.13647943e-03   2.58183047e-02]]  * X +  [ 155.74455338]\n"
     ]
    }
   ],
   "source": [
    "print(\"predicted y = \", lin_reg.coef_, \" * X + \", lin_reg.intercept_)"
   ]
  },
  {
   "cell_type": "code",
   "execution_count": 311,
   "metadata": {},
   "outputs": [],
   "source": [
    "y_test_pred_numeric = lin_reg.predict(X_test)"
   ]
  },
  {
   "cell_type": "code",
   "execution_count": 312,
   "metadata": {},
   "outputs": [
    {
     "data": {
      "text/plain": [
       "0.010233245970495686"
      ]
     },
     "execution_count": 312,
     "metadata": {},
     "output_type": "execute_result"
    }
   ],
   "source": [
    "lin_reg.score(X_test, y_test)\n",
    "#R square score"
   ]
  },
  {
   "cell_type": "code",
   "execution_count": 313,
   "metadata": {},
   "outputs": [
    {
     "data": {
      "text/plain": [
       "1762.3757591882068"
      ]
     },
     "execution_count": 313,
     "metadata": {},
     "output_type": "execute_result"
    }
   ],
   "source": [
    "mean_squared_error(y_test, y_test_pred_numeric)"
   ]
  },
  {
   "cell_type": "code",
   "execution_count": 314,
   "metadata": {},
   "outputs": [
    {
     "data": {
      "text/plain": [
       "[Text(0,0.5,'Residual = Y-predicted - Y-test'), Text(0.5,0,'Y-test')]"
      ]
     },
     "execution_count": 314,
     "metadata": {},
     "output_type": "execute_result"
    },
    {
     "data": {
      "image/png": "[encoded data removed]",
      "text/plain": [
       "<Figure size 432x288 with 1 Axes>"
      ]
     },
     "metadata": {},
     "output_type": "display_data"
    }
   ],
   "source": [
    "ax= sns.residplot(y_test, y_test-y_test_pred_numeric, color=\"g\")\n",
    "ax.set(xlabel='Y-test', ylabel='Residual = Y-predicted - Y-test')\n"
   ]
  },
  {
   "cell_type": "code",
   "execution_count": null,
   "metadata": {},
   "outputs": [],
   "source": []
  },
  {
   "cell_type": "code",
   "execution_count": null,
   "metadata": {},
   "outputs": [],
   "source": []
  }
 ],
 "metadata": {
  "kernelspec": {
   "display_name": "Python 3",
   "language": "python",
   "name": "python3"
  },
  "language_info": {
   "codemirror_mode": {
    "name": "ipython",
    "version": 3
   },
   "file_extension": ".py",
   "mimetype": "text/x-python",
   "name": "python",
   "nbconvert_exporter": "python",
   "pygments_lexer": "ipython3",
   "version": "3.6.5"
  }
 },
 "nbformat": 4,
 "nbformat_minor": 2
}
