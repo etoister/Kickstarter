{
 "cells": [
  {
   "cell_type": "code",
   "execution_count": 1,
   "metadata": {},
   "outputs": [],
   "source": [
    "import pandas as pd\n",
    "import numpy as np\n",
    "import datetime as dt\n",
    "import os, json\n",
    "import matplotlib.pyplot as plt \n",
    "%matplotlib inline \n",
    "import seaborn as sns\n",
    "import scipy.stats as stats\n",
    "from scipy.stats import norm\n",
    "from sklearn.preprocessing import OneHotEncoder\n",
    "from sklearn.preprocessing import StandardScaler\n",
    "from sklearn.model_selection import train_test_split\n",
    "from sklearn.tree import DecisionTreeClassifier\n",
    "\n",
    "from sklearn.tree import export_graphviz \n",
    "import graphviz\n",
    "\n",
    "from sklearn.metrics import confusion_matrix\n",
    "df=pd.DataFrame()\n",
    "data=pd.DataFrame()"
   ]
  },
  {
   "cell_type": "code",
   "execution_count": 2,
   "metadata": {},
   "outputs": [],
   "source": [
    "#func that reads the ''category'' column (from JSON format)\n",
    "def CustomParser1(df):\n",
    "    j1 = json.loads(df)\n",
    "    return j1"
   ]
  },
  {
   "cell_type": "markdown",
   "metadata": {},
   "source": [
    "This part loads as many files as instructed"
   ]
  },
  {
   "cell_type": "code",
   "execution_count": 3,
   "metadata": {},
   "outputs": [
    {
     "name": "stdout",
     "output_type": "stream",
     "text": [
      "How many file should I load? 1..54  54\n",
      "<class 'pandas.core.frame.DataFrame'>\n",
      "RangeIndex: 205865 entries, 0 to 205864\n",
      "Data columns (total 37 columns):\n",
      "backers_count               205865 non-null int64\n",
      "blurb                       205855 non-null object\n",
      "category                    205865 non-null object\n",
      "converted_pledged_amount    205865 non-null int64\n",
      "country                     205865 non-null object\n",
      "created_at                  205865 non-null int64\n",
      "creator                     205865 non-null object\n",
      "currency                    205865 non-null object\n",
      "currency_symbol             205865 non-null object\n",
      "currency_trailing_code      205865 non-null bool\n",
      "current_currency            205865 non-null object\n",
      "deadline                    205865 non-null int64\n",
      "disable_communication       205865 non-null bool\n",
      "friends                     108 non-null object\n",
      "fx_rate                     205865 non-null float64\n",
      "goal                        205865 non-null float64\n",
      "id                          205865 non-null int64\n",
      "is_backing                  108 non-null object\n",
      "is_starrable                205865 non-null bool\n",
      "is_starred                  108 non-null object\n",
      "launched_at                 205865 non-null int64\n",
      "location                    204578 non-null object\n",
      "name                        205864 non-null object\n",
      "permissions                 108 non-null object\n",
      "photo                       205865 non-null object\n",
      "pledged                     205865 non-null float64\n",
      "profile                     205865 non-null object\n",
      "slug                        205865 non-null object\n",
      "source_url                  205865 non-null object\n",
      "spotlight                   205865 non-null bool\n",
      "staff_pick                  205865 non-null bool\n",
      "state                       205865 non-null object\n",
      "state_changed_at            205865 non-null int64\n",
      "static_usd_rate             205865 non-null float64\n",
      "urls                        205865 non-null object\n",
      "usd_pledged                 205865 non-null float64\n",
      "usd_type                    203264 non-null object\n",
      "dtypes: bool(5), float64(5), int64(7), object(20)\n",
      "memory usage: 51.2+ MB\n"
     ]
    }
   ],
   "source": [
    "def load_files (n):\n",
    "    df=pd.DataFrame()\n",
    "    read_df=pd.DataFrame()\n",
    "    a=[\"%03d\" % x for x in range(n)]\n",
    "    for filenum in a:\n",
    "        filename='Data/Kickstarter'+filenum+'.csv'\n",
    "        read_df=pd.read_csv(filename,converters={'category':CustomParser1},header=0)\n",
    "        df=pd.concat([df,read_df],ignore_index=True)\n",
    "        \n",
    "    df.info()\n",
    "    return df\n",
    "Filesnum=input('How many file should I load? 1..54  ')\n",
    "df=load_files (int(Filesnum))\n",
    "df.to_csv('data/jointfile.csv')"
   ]
  },
  {
   "cell_type": "code",
   "execution_count": 4,
   "metadata": {},
   "outputs": [
    {
     "name": "stdout",
     "output_type": "stream",
     "text": [
      "<class 'pandas.core.frame.DataFrame'>\n",
      "RangeIndex: 205865 entries, 0 to 205864\n",
      "Data columns (total 45 columns):\n",
      "backers_count               205865 non-null int64\n",
      "blurb                       205855 non-null object\n",
      "category                    205865 non-null object\n",
      "converted_pledged_amount    205865 non-null int64\n",
      "country                     205865 non-null object\n",
      "created_at                  205865 non-null int64\n",
      "creator                     205865 non-null object\n",
      "currency                    205865 non-null object\n",
      "currency_symbol             205865 non-null object\n",
      "currency_trailing_code      205865 non-null bool\n",
      "current_currency            205865 non-null object\n",
      "deadline                    205865 non-null int64\n",
      "disable_communication       205865 non-null bool\n",
      "friends                     108 non-null object\n",
      "fx_rate                     205865 non-null float64\n",
      "goal                        205865 non-null float64\n",
      "id                          205865 non-null object\n",
      "is_backing                  108 non-null object\n",
      "is_starrable                205865 non-null bool\n",
      "is_starred                  108 non-null object\n",
      "launched_at                 205865 non-null int64\n",
      "location                    204578 non-null object\n",
      "name                        205865 non-null object\n",
      "permissions                 108 non-null object\n",
      "photo                       205865 non-null object\n",
      "pledged                     205865 non-null float64\n",
      "profile                     205865 non-null object\n",
      "slug                        205865 non-null int64\n",
      "source_url                  205865 non-null object\n",
      "spotlight                   205865 non-null bool\n",
      "staff_pick                  205865 non-null bool\n",
      "state                       205865 non-null object\n",
      "state_changed_at            205865 non-null int64\n",
      "static_usd_rate             205865 non-null float64\n",
      "urls                        205865 non-null object\n",
      "usd_pledged                 205865 non-null float64\n",
      "usd_type                    203264 non-null object\n",
      "color                       205865 non-null int64\n",
      "parent_id                   205865 non-null int64\n",
      "position                    188538 non-null float64\n",
      "category.parent_id          188538 non-null float64\n",
      "category.id                 205865 non-null int64\n",
      "category.position           205865 non-null int64\n",
      "category.name               205865 non-null object\n",
      "category.slug               205865 non-null object\n",
      "dtypes: bool(5), float64(7), int64(11), object(22)\n",
      "memory usage: 63.8+ MB\n"
     ]
    }
   ],
   "source": [
    "# df=pd.read_csv('Data/Kickstarter.csv',converters={'category':CustomParser1},header=0)\n",
    "#make differnt columns out of ''category'' format\n",
    "df[sorted(df['category'][0].keys(),reverse=False)] = df['category'].apply(pd.Series) \n",
    "df1=df[['category','color','parent_id','urls','id','name','position']]\n",
    "df['category.parent_id']=df1['position']\n",
    "df['category.id']=df1['color']\n",
    "df['category.position']=df1['parent_id']\n",
    "df['category.name']=df1['id']\n",
    "df['category.slug']=df1['name']\n",
    "#split ''slug'' and leaves just the main category name\n",
    "df['category.slug']=df['category.slug'].apply(lambda x: x.split('/'))\n",
    "df['category.slug']=df['category.slug'].apply(lambda x: x.pop(0))\n",
    "df[['category','category.parent_id','category.id','category.name','category.position','category.slug']][:1]\n",
    "df.info()"
   ]
  },
  {
   "cell_type": "code",
   "execution_count": 5,
   "metadata": {},
   "outputs": [
    {
     "name": "stdout",
     "output_type": "stream",
     "text": [
      "droped rows: 542\n",
      "205323\n",
      "205323\n"
     ]
    }
   ],
   "source": [
    "# func that reads the ''creator'' column (from JSON format).\n",
    "#some of the cells cause problems \n",
    "    #for exemple- the cell JSON format include double apostrophes in nicknames like \"Elad \"Superman\" Toister\" confused it.\n",
    "\n",
    "def CustomParser2(df2):\n",
    "    try:\n",
    "        j2 = json.loads(df2)\n",
    "        return j2\n",
    "    except: #the func pass all the errored rows and return 0 to the \"creator\" columnn. \n",
    "        return 0\n",
    "    pass\n",
    "            \n",
    "df2=pd.read_csv('data/jointfile.csv',converters={'creator':CustomParser2},header=0)\n",
    "#count and collect all the droped rows- so we can know the \"cost\" of te dropping (and maybe i will succed to solve it in the future)\n",
    "droped=df2.loc[df2['creator']==0,['creator']]\n",
    "df2=df2.loc[df2['creator']!=0]\n",
    "drop_list=list(droped.index)\n",
    "#df['creator'].iloc[drop_list]=df['creator'].iloc[drop_list].apply(lambda x: x.replace(' ',',')) is a start of a solution\n",
    "df=df.drop(index=drop_list)\n",
    "print('droped rows:',len(drop_list))\n",
    "print (len(df))\n",
    "print (len(df2))\n"
   ]
  },
  {
   "cell_type": "code",
   "execution_count": 6,
   "metadata": {},
   "outputs": [
    {
     "name": "stdout",
     "output_type": "stream",
     "text": [
      "<class 'pandas.core.frame.DataFrame'>\n",
      "Int64Index: 205323 entries, 0 to 205864\n",
      "Data columns (total 47 columns):\n",
      "backers_count               205323 non-null int64\n",
      "blurb                       205313 non-null object\n",
      "category                    205323 non-null object\n",
      "converted_pledged_amount    205323 non-null int64\n",
      "country                     205323 non-null object\n",
      "created_at                  205323 non-null int64\n",
      "creator                     205323 non-null object\n",
      "currency                    205323 non-null object\n",
      "currency_symbol             205323 non-null object\n",
      "currency_trailing_code      205323 non-null bool\n",
      "current_currency            205323 non-null object\n",
      "deadline                    205323 non-null int64\n",
      "disable_communication       205323 non-null bool\n",
      "friends                     108 non-null object\n",
      "fx_rate                     205323 non-null float64\n",
      "goal                        205323 non-null float64\n",
      "id                          205323 non-null object\n",
      "is_backing                  108 non-null object\n",
      "is_starrable                205323 non-null bool\n",
      "is_starred                  108 non-null object\n",
      "launched_at                 205323 non-null int64\n",
      "location                    204037 non-null object\n",
      "name                        205323 non-null object\n",
      "permissions                 108 non-null object\n",
      "photo                       205323 non-null object\n",
      "pledged                     205323 non-null float64\n",
      "profile                     205323 non-null object\n",
      "slug                        205323 non-null int64\n",
      "source_url                  205323 non-null object\n",
      "spotlight                   205323 non-null bool\n",
      "staff_pick                  205323 non-null bool\n",
      "state                       205323 non-null object\n",
      "state_changed_at            205323 non-null int64\n",
      "static_usd_rate             205323 non-null float64\n",
      "urls                        205323 non-null object\n",
      "usd_pledged                 205323 non-null float64\n",
      "usd_type                    202724 non-null object\n",
      "color                       205323 non-null int64\n",
      "parent_id                   205323 non-null int64\n",
      "position                    188018 non-null float64\n",
      "category.parent_id          188018 non-null float64\n",
      "category.id                 205323 non-null int64\n",
      "category.position           205323 non-null int64\n",
      "category.name               205323 non-null object\n",
      "category.slug               205323 non-null object\n",
      "creator_name                205323 non-null object\n",
      "creator_id                  205323 non-null int64\n",
      "dtypes: bool(5), float64(7), int64(12), object(23)\n",
      "memory usage: 68.3+ MB\n"
     ]
    }
   ],
   "source": [
    "# 2 func that make diffent columns out of \"creator\" column (the auto func i used before don't works here. i did it manually)\n",
    "df2['creator_name']=df2['creator'].apply(lambda x: x['name'])\n",
    "df2['creator_id']=df2['creator'].apply(lambda x: x['id'])\n",
    "#\"inject\" it back to the original df\n",
    "df['creator_name']=df2['creator_name']\n",
    "df['creator_id']=df2['creator_id']\n",
    "df.info()"
   ]
  },
  {
   "cell_type": "code",
   "execution_count": 7,
   "metadata": {},
   "outputs": [],
   "source": [
    "#cleaning func\n",
    "def clean(df):\n",
    "    data = df.copy()\n",
    "    #this is important beacuse this is the part we decide  which columns entered the data set.\n",
    "    #the main structure is like in the exemple but i manipulate and add some additional columns i think we need to include(*marked) . \n",
    "    selected_cols = ['creator_name', #*\n",
    "                     'creator_id', #*\n",
    "                     'backers_count',\n",
    "                     'blurb',\n",
    "                     'is_starred', #*\n",
    "                     'category.id', #*\n",
    "                     'category.name',\n",
    "                     'category.parent_id',\n",
    "                     'category.slug',\n",
    "                     'country',\n",
    "                     'created_at',\n",
    "                     'currency',  \n",
    "                     'deadline',\n",
    "                     'goal',\n",
    "                     'launched_at',\n",
    "                     'staff_pick',\n",
    "                     'state',\n",
    "                     'usd_pledged',\n",
    "                     'usd_type']\n",
    "    data = data[selected_cols]\n",
    "    data['is_starred']=data['is_starred'].replace({1: True , None: False})\n",
    "    data = data.dropna()\n",
    "    successful = data['state'] == \"successful\"\n",
    "    failed = data['state'] == \"failed\"\n",
    "    cancelled = data['state'] == \"cancelled\"\n",
    "    suspended = data['state'] == \"suspended\"\n",
    "    data = data.loc[failed | successful | cancelled | suspended]\n",
    "    num_cols = ['usd_pledged',\n",
    "                'deadline',\n",
    "                'created_at',\n",
    "                'launched_at']\n",
    "    data[num_cols] = data[num_cols].apply(pd.to_numeric, errors='coerce')\n",
    "    data['created_at'] = pd.to_datetime(data['created_at'],unit='s')\n",
    "    data['launched_at'] = pd.to_datetime(data['launched_at'],unit='s')\n",
    "    data['deadline'] = pd.to_datetime(data['deadline'],unit='s')\n",
    "    return data\n",
    "\n",
    "data = clean(df)\n"
   ]
  },
  {
   "cell_type": "code",
   "execution_count": 8,
   "metadata": {
    "scrolled": true
   },
   "outputs": [
    {
     "name": "stdout",
     "output_type": "stream",
     "text": [
      "<class 'pandas.core.frame.DataFrame'>\n",
      "Int64Index: 171612 entries, 0 to 205864\n",
      "Data columns (total 37 columns):\n",
      "creator_name                171612 non-null object\n",
      "creator_id                  171612 non-null int64\n",
      "backers_count               171612 non-null int64\n",
      "blurb                       171612 non-null object\n",
      "is_starred                  171612 non-null bool\n",
      "category.id                 171612 non-null int64\n",
      "category.name               171612 non-null object\n",
      "category.parent_id          171612 non-null float64\n",
      "category.slug               171612 non-null object\n",
      "country                     171612 non-null object\n",
      "currency                    171612 non-null object\n",
      "goal                        171612 non-null float64\n",
      "staff_pick                  171612 non-null bool\n",
      "state                       171612 non-null object\n",
      "usd_pledged                 171612 non-null float64\n",
      "usd_type                    171612 non-null object\n",
      "state_num                   171612 non-null int64\n",
      "launched_at_hr              171612 non-null int64\n",
      "launched_at_day_in_week     171612 non-null int64\n",
      "launched_at_day_in_month    171612 non-null int64\n",
      "launched_at_mo              171612 non-null int64\n",
      "launched_at_yr              171612 non-null int64\n",
      "deadline_hr                 171612 non-null int64\n",
      "deadline_day_in_week        171612 non-null int64\n",
      "deadline_day_in_month       171612 non-null int64\n",
      "deadline_mo                 171612 non-null int64\n",
      "deadline_yr                 171612 non-null int64\n",
      "created_at_hr               171612 non-null int64\n",
      "created_at_day_in_week      171612 non-null int64\n",
      "created_at_day_in_month     171612 non-null int64\n",
      "created_at_mo               171612 non-null int64\n",
      "created_at_yr               171612 non-null int64\n",
      "count                       171612 non-null int64\n",
      "success                     171612 non-null bool\n",
      "launched-created            171612 non-null int64\n",
      "deadline-launched           171612 non-null int64\n",
      "pledge_perc                 171612 non-null float64\n",
      "dtypes: bool(3), float64(4), int64(22), object(8)\n",
      "memory usage: 46.3+ MB\n"
     ]
    }
   ],
   "source": [
    "def engineer_features(data):\n",
    "    #make state 1 or 0\n",
    "    data['state'].replace('suspended','failed',inplace=True)   \n",
    "    data['state_num'] = data['state'].apply(lambda x: 1 if x=='successful' else 0)\n",
    "    #time to reletive time\n",
    "    data['launched_at_hr'] = data['launched_at'].apply(lambda x: x.hour) + 1\n",
    "    data['launched_at_day_in_week'] = data['launched_at'].apply(lambda x: x.dayofweek + 1)\n",
    "    data['launched_at_day_in_month'] = data['launched_at'].apply(lambda x: x.day ) #Elad's comment\n",
    "    data['launched_at_mo'] = data['launched_at'].apply(lambda x: x.month)\n",
    "    data['launched_at_yr'] = data['launched_at'].apply(lambda x: x.year)\n",
    "    data['deadline_hr'] = data['deadline'].apply(lambda x: x.hour) + 1\n",
    "    data['deadline_day_in_week'] = data['deadline'].apply(lambda x: x.dayofweek + 1) \n",
    "    data['deadline_day_in_month'] = data['deadline'].apply(lambda x: x.day ) #Elad's comment\n",
    "    data['deadline_mo'] = data['deadline'].apply(lambda x: x.month)\n",
    "    data['deadline_yr'] = data['deadline'].apply(lambda x: x.year)\n",
    "    data['created_at_hr'] = data['created_at'].apply(lambda x: x.hour) + 1\n",
    "    data['created_at_day_in_week'] = data['created_at'].apply(lambda x: x.dayofweek + 1) \n",
    "    data['created_at_day_in_month'] = data['created_at'].apply(lambda x: x.day )  #Elad's comment\n",
    "    data['created_at_mo'] = data['created_at'].apply(lambda x: x.month)\n",
    "    data['created_at_yr'] = data['created_at'].apply(lambda x: x.year)\n",
    "    data['count'] = 1\n",
    "    data['success'] = (data['state'] == 'successful')\n",
    "    data['launched-created'] = (data.launched_at - data.created_at).dt.components.days\n",
    "    data['deadline-launched'] = (data.deadline - data.launched_at).dt.components.days\n",
    "    data=data.drop(['launched_at','created_at','deadline'],axis=1) #drop original time col\n",
    "    data['pledge_perc']=data['usd_pledged']/data['goal']*100\n",
    "   \n",
    "    return data\n",
    "data = engineer_features(data)\n",
    "data.info()\n",
    "data.to_csv('Data/data.csv')"
   ]
  },
  {
   "cell_type": "code",
   "execution_count": 9,
   "metadata": {},
   "outputs": [],
   "source": [
    "data.to_csv('data/jointfile.csv')"
   ]
  },
  {
   "cell_type": "code",
   "execution_count": 10,
   "metadata": {},
   "outputs": [],
   "source": [
    "data=pd.read_csv('data/jointfile.csv')"
   ]
  },
  {
   "cell_type": "code",
   "execution_count": 11,
   "metadata": {},
   "outputs": [
    {
     "name": "stdout",
     "output_type": "stream",
     "text": [
      "category.id         -0.338792\n",
      "deadline_yr         -0.189162\n",
      "created_at_yr       -0.188553\n",
      "launched_at_yr      -0.186114\n",
      "deadline-launched   -0.084613\n",
      "Name: state_num, dtype: float64\n",
      "state_num        1.000000\n",
      "success          1.000000\n",
      "staff_pick       0.259855\n",
      "backers_count    0.110707\n",
      "usd_pledged      0.104434\n",
      "Name: state_num, dtype: float64\n"
     ]
    }
   ],
   "source": [
    "corr_df=data.corr()\n",
    "cor_st=corr_df.loc['state_num']\n",
    "print(cor_st.nsmallest())\n",
    "print(cor_st.nlargest())"
   ]
  },
  {
   "cell_type": "markdown",
   "metadata": {},
   "source": [
    "# Cut edge"
   ]
  },
  {
   "cell_type": "code",
   "execution_count": 12,
   "metadata": {},
   "outputs": [],
   "source": [
    "numrical=[\n",
    " 'goal',\n",
    " 'usd_pledged',\n",
    " 'launched-created',\n",
    " 'deadline-launched',\n",
    " 'pledge_perc']\n"
   ]
  },
  {
   "cell_type": "code",
   "execution_count": 13,
   "metadata": {},
   "outputs": [
    {
     "data": {
      "text/plain": [
       "NormaltestResult(statistic=615829.71021019516, pvalue=0.0)"
      ]
     },
     "execution_count": 13,
     "metadata": {},
     "output_type": "execute_result"
    }
   ],
   "source": [
    "stats.normaltest(data['goal'])"
   ]
  },
  {
   "cell_type": "code",
   "execution_count": 14,
   "metadata": {},
   "outputs": [
    {
     "name": "stderr",
     "output_type": "stream",
     "text": [
      "C:\\Users\\elad.toister\\AppData\\Local\\Continuum\\anaconda3-1\\lib\\site-packages\\matplotlib\\axes\\_axes.py:6462: UserWarning: The 'normed' kwarg is deprecated, and has been replaced by the 'density' kwarg.\n",
      "  warnings.warn(\"The 'normed' kwarg is deprecated, and has been \"\n"
     ]
    },
    {
     "data": {
      "text/plain": [
       "<matplotlib.axes._subplots.AxesSubplot at 0x12a1bd35c88>"
      ]
     },
     "execution_count": 14,
     "metadata": {},
     "output_type": "execute_result"
    },
    {
     "data": {
      "image/png": "[encoded data removed]",
      "text/plain": [
       "<Figure size 432x288 with 1 Axes>"
      ]
     },
     "metadata": {},
     "output_type": "display_data"
    }
   ],
   "source": [
    "data['goal'].describe()\n",
    "sns.distplot(data[\"goal\"], fit=norm)"
   ]
  },
  {
   "cell_type": "code",
   "execution_count": null,
   "metadata": {
    "scrolled": true
   },
   "outputs": [],
   "source": [
    "#בהמשך נצטרך לפצל את המידע\n",
    "goal_highst = data[data[\"goal\"] > 4500] \n",
    "goal_lowsat = data[data[\"goal\"] <= 4500] \n",
    "log_goal = np.log(data[\"goal\"]) #This data change proves best to fit goal into normal dist.\n",
    "sqrt_goal = np.sqrt(data[\"goal\"]) \n",
    "#sns.distplot(df_highsat[[\"goal\"]], fit=norm)\n",
    "#sns.distplot(df_lowsat[[\"goal\"]], fit=norm)\n",
    "sns.distplot(log_goal,bins=None, fit=norm,axlabel='Log_Goal')\n",
    "\n",
    "#sns.distplot(sqrt_goal, fit=norm)"
   ]
  },
  {
   "cell_type": "code",
   "execution_count": null,
   "metadata": {},
   "outputs": [],
   "source": [
    "#Following investigation update the dataframe for log goal\n",
    "data['goal']=np.log(data['goal'])"
   ]
  },
  {
   "cell_type": "code",
   "execution_count": null,
   "metadata": {},
   "outputs": [],
   "source": [
    "sns.distplot(data[\"launched-created\"], fit=norm)\n",
    "data[\"launched-created\"].describe()"
   ]
  },
  {
   "cell_type": "code",
   "execution_count": null,
   "metadata": {},
   "outputs": [],
   "source": [
    "#לחלק שונה בין דגימה של תיאטרון/קולנוע ולא\n",
    "lu_highst = data[data[\"launched-created\"] >40] \n",
    "lu_lowest = data[data[\"launched-created\"] <= 40] \n",
    "log_lu = np.log(data[\"launched-created\"])\n",
    "sqrt_lu = np.sqrt(data[\"launched-created\"])\n",
    "sns.distplot(lu_highst[[\"launched-created\"]], fit=norm, bins=50)\n",
    "sns.distplot(lu_lowest[[\"launched-created\"]], fit=norm, bins=50)\n",
    "#sns.distplot(log_lu, fit=norm)\n",
    "#sns.distplot(sqrt_lu, fit=norm)"
   ]
  },
  {
   "cell_type": "code",
   "execution_count": null,
   "metadata": {},
   "outputs": [],
   "source": [
    "sns.distplot(data[\"deadline-launched\"], fit=norm)\n",
    "data[\"deadline-launched\"].describe()"
   ]
  },
  {
   "cell_type": "code",
   "execution_count": null,
   "metadata": {},
   "outputs": [],
   "source": [
    "de_highst = data[data[\"deadline-launched\"] >50] \n",
    "de_lowest = data[data[\"deadline-launched\"] <= 50]\n",
    "#צריך בהמשך לעשות LOG על הגבוה והנמוך בנפרד\n",
    "log_de = np.log(data[\"deadline-launched\"])\n",
    "sqrt_de = np.sqrt(data[\"deadline-launched\"])\n",
    "#sns.distplot(de_highst[[\"deadline-launched\"]], fit=norm)\n",
    "#sns.distplot(de_lowest[[\"deadline-launched\"]], fit=norm)\n",
    "#sns.distplot(log_de, fit=norm)\n",
    "sns.distplot(sqrt_de, fit=norm) "
   ]
  },
  {
   "cell_type": "code",
   "execution_count": 15,
   "metadata": {},
   "outputs": [],
   "source": [
    "#בנתיים נעשה רק SQRT (צריך לבדוק יעילות)\n",
    "data[\"deadline-launched\"]=np.log(data[\"deadline-launched\"])"
   ]
  },
  {
   "cell_type": "markdown",
   "metadata": {},
   "source": [
    "## Data visualization"
   ]
  },
  {
   "cell_type": "code",
   "execution_count": null,
   "metadata": {},
   "outputs": [],
   "source": [
    "from seaborn import set\n",
    "plt.rcParams['figure.figsize']=(20,20)\n",
    "set(font_scale=2)\n",
    "b=sns.countplot(x='category.slug', hue='success',data=data)\n",
    "b.set_xlabel(\"Categories\",fontsize=18)\n",
    "b.set_ylabel(\"Count\",fontsize=18)\n",
    "b.tick_params(labelsize=14)"
   ]
  },
  {
   "cell_type": "code",
   "execution_count": null,
   "metadata": {},
   "outputs": [],
   "source": [
    "PP=np.clip(data['pledge_perc'], 0, 500)\n",
    "fig=PP.hist(bins = 200, figsize = (20,15),color='gold')\n",
    "fig.set_xlabel(\"% of Capital raised from initial goal\",fontsize=18,color='b')\n",
    "fig.set_ylabel(\"Count\",fontsize=18,color='b')\n"
   ]
  },
  {
   "cell_type": "code",
   "execution_count": null,
   "metadata": {},
   "outputs": [],
   "source": [
    "corr_matrix = data.corr()\n",
    "corr_matrix[\"success\"].sort_values()"
   ]
  },
  {
   "cell_type": "code",
   "execution_count": null,
   "metadata": {},
   "outputs": [],
   "source": [
    "sns.heatmap(corr_matrix[(corr_matrix<1) & ((corr_matrix >= 0.2) | (corr_matrix <= -0.2)) ] )"
   ]
  },
  {
   "cell_type": "code",
   "execution_count": null,
   "metadata": {},
   "outputs": [],
   "source": [
    "plt.scatter(x='category.slug', y='usd_pledged', data=data, alpha=0.5, color='r')\n",
    "plt.ylabel(\"USD Pledged\",fontsize=18)"
   ]
  },
  {
   "cell_type": "code",
   "execution_count": null,
   "metadata": {},
   "outputs": [],
   "source": [
    "sns.factorplot(x='category.slug', y='goal', hue='state_num', kind='bar', data=data, size=15)\n",
    "locs, labels = plt.xticks();\n",
    "plt.setp(labels, rotation=90);\n",
    "plt.title('Range of goal ($) among successful and failed projects')\n",
    "plt.gca().set_yscale(\"log\", nonposy='clip');\n",
    "#מראה את הצלחת הפרויקטים לפי סכום היעד לגיוס- רואים שבגדול פרויקטים שנכשלו ביקשו יותר מדי. מצד שני רואים (טבלה הבאה) שפרויקטים שהצליחו לרב יגייסו 150%\n",
    "#"
   ]
  },
  {
   "cell_type": "code",
   "execution_count": null,
   "metadata": {},
   "outputs": [],
   "source": [
    "df_suc=data.loc[data['success']==True]\n",
    "ax=sns.factorplot(x='category.slug', y='pledge_perc', kind='bar', data=data, size=15)\n",
    "locs, labels = plt.xticks();\n",
    "plt.setp(labels, rotation=90);\n",
    "plt.title('Pledge % (log) Among Successful Projects')\n",
    "plt.gca().set_yscale(\"log\", nonposy='clip');\n",
    "#מה אחוז הגיוס מתוך פריקטים שהצליחו. רואים שניתן לגייס ''פחות'' אבל בפועל יצא יותר"
   ]
  },
  {
   "cell_type": "code",
   "execution_count": null,
   "metadata": {},
   "outputs": [],
   "source": [
    "print('Average pledge % per category')\n",
    "df_suc.groupby('category.slug', as_index=False, sort=False)['pledge_perc'].mean()"
   ]
  },
  {
   "cell_type": "code",
   "execution_count": null,
   "metadata": {},
   "outputs": [],
   "source": [
    "sns.factorplot(x='category.slug', y='launched-created', hue='state_num', kind='bar', data=data, size=15)\n",
    "locs, labels = plt.xticks();\n",
    "plt.setp(labels, rotation=90);\n",
    "plt.title('Time difference between lunched and created [days]')\n",
    "plt.gca().set_yscale(\"linear\", nonposy='clip');\n",
    "#כמעט תמיד עדיף להשיק אחרי שהקמפייין ''מתבשל'' קצת. חריגים הם הקולנוע והתיאטרון"
   ]
  },
  {
   "cell_type": "code",
   "execution_count": null,
   "metadata": {},
   "outputs": [],
   "source": [
    "sns.factorplot(x='category.slug', y='deadline-launched', hue='state_num', kind='bar', data=data, size=7)\n",
    "locs, labels = plt.xticks();\n",
    "plt.setp(labels, rotation=90);\n",
    "plt.title('Deadline-launched [Days]')\n",
    "plt.gca().set_yscale(\"linear\", nonposy='clip');\n",
    "#נתון כנראה לא רלוונטי"
   ]
  },
  {
   "cell_type": "markdown",
   "metadata": {},
   "source": [
    "#  Data set creation"
   ]
  },
  {
   "cell_type": "code",
   "execution_count": null,
   "metadata": {},
   "outputs": [],
   "source": [
    "data=pd.read_csv('data/jointfile.csv',header=0)"
   ]
  },
  {
   "cell_type": "code",
   "execution_count": null,
   "metadata": {},
   "outputs": [],
   "source": [
    "Dtree_Params=['goal','deadline-launched','launched-created','staff_pick','category.id']\n",
    "train_df, test_df= train_test_split (data, test_size = 0.2, random_state=6)\n",
    "Y_train = train_df[\"state_num\"]\n",
    "X_train = train_df[Dtree_Params]\n",
    "Y_test=test_df[\"state_num\"]\n",
    "X_test=test_df[Dtree_Params]"
   ]
  },
  {
   "cell_type": "markdown",
   "metadata": {},
   "source": [
    "##  Large Tree ML"
   ]
  },
  {
   "cell_type": "code",
   "execution_count": null,
   "metadata": {
    "scrolled": true
   },
   "outputs": [],
   "source": [
    "\n",
    "mod1_columns=[ 'is_starred', 'category.name', 'category.slug',\n",
    "       'country', 'currency', 'goal', 'staff_pick', 'launched_at_hr',\n",
    "       'launched_at_day_in_week', 'launched_at_day_in_month', 'launched_at_mo',\n",
    "       'launched_at_yr', 'deadline_hr', 'deadline_day_in_week',\n",
    "       'deadline_day_in_month', 'deadline_mo', 'deadline_yr', 'created_at_hr',\n",
    "       'created_at_day_in_week', 'created_at_day_in_month', 'created_at_mo',\n",
    "       'created_at_yr', 'launched-created',\n",
    "       'deadline-launched','state_num']\n",
    "\n",
    "dummies=['category.name', 'category.slug','country', 'currency']\n",
    "\n",
    "mod1=data[mod1_columns]\n",
    "mod1 = pd.get_dummies(mod1, columns=dummies) #mod1 will be the first df for the pridiction with spcific columns (maybe afterwords we will wont to add columns)\n",
    "list(mod1.columns)"
   ]
  },
  {
   "cell_type": "code",
   "execution_count": null,
   "metadata": {},
   "outputs": [],
   "source": [
    "print(len(mod1))\n",
    "corr_df=mod1.corr()\n",
    "#corr_df[corr_df['state_num']==1]\n",
    "#corr_df[(corr_df<1) & ((corr_df >= 0.3) | (corr_df <= -0.3)) ]\n",
    "\n"
   ]
  },
  {
   "cell_type": "code",
   "execution_count": null,
   "metadata": {},
   "outputs": [],
   "source": [
    "cor_st=corr_df.loc['state_num']\n",
    "print(cor_st.nsmallest())\n",
    "print(cor_st.nlargest())\n"
   ]
  },
  {
   "cell_type": "code",
   "execution_count": null,
   "metadata": {},
   "outputs": [],
   "source": [
    "mod1_params= mod1.columns.drop('state_num')\n",
    "mod1_params\n"
   ]
  },
  {
   "cell_type": "code",
   "execution_count": null,
   "metadata": {},
   "outputs": [],
   "source": [
    "Dtree_Params=mod1_params\n",
    "train_df, test_df= train_test_split (mod1, test_size = 0.2, random_state=6)\n",
    "Y_train = train_df[\"state_num\"]\n",
    "X_train = train_df[Dtree_Params]\n",
    "Y_test=test_df[\"state_num\"]\n",
    "X_test=test_df[Dtree_Params]\n",
    "tree_clf = DecisionTreeClassifier (max_depth = 3)\n",
    "tree_clf.fit (X_train, Y_train)"
   ]
  },
  {
   "cell_type": "markdown",
   "metadata": {},
   "source": [
    "Decision Tree visualization"
   ]
  },
  {
   "cell_type": "code",
   "execution_count": null,
   "metadata": {},
   "outputs": [],
   "source": [
    "from sklearn.tree import export_graphviz #In the cmd line type: conda install python-graphviz\n",
    "import graphviz\n",
    "\n",
    "dot_data = export_graphviz(tree_clf, out_file = None, \n",
    "                           feature_names = Dtree_Params, \n",
    "                           class_names = [\"Succeed\", \"Fail\" ],\n",
    "                           rounded = True, filled=True, special_characters=True)\n",
    "graph = graphviz.Source(dot_data) \n",
    "graph"
   ]
  },
  {
   "cell_type": "code",
   "execution_count": null,
   "metadata": {},
   "outputs": [],
   "source": [
    "# Run the test set through the decision tree\n",
    "Y2_test_Tree_predict = tree_clf.predict (X_test)  \n",
    "\n",
    "#Test set conf matrix\n",
    "conf_matrix_Testdata = confusion_matrix(Y_test, Y2_test_Tree_predict) \n",
    "conf_matrix_Testdata"
   ]
  },
  {
   "cell_type": "code",
   "execution_count": null,
   "metadata": {},
   "outputs": [],
   "source": [
    "#Train set conf. matrix\n",
    "conf_matrix_Traindata = confusion_matrix(Y_train, tree_clf.predict (X_train)) \n",
    "conf_matrix_Traindata"
   ]
  },
  {
   "cell_type": "code",
   "execution_count": null,
   "metadata": {
    "scrolled": true
   },
   "outputs": [],
   "source": [
    "from sklearn.metrics import precision_score, recall_score\n",
    "\n",
    "print(\"The recall for the train set is \",recall_score(Y_train, tree_clf.predict (X_train)))\n",
    "print(\"The recall for the test set tree is \",recall_score(Y_test, Y2_test_Tree_predict))\n",
    "print(\"The precision for the train set tree is \",precision_score(Y_train, tree_clf.predict (X_train)))\n",
    "print(\"The precision for the test tree is \",precision_score(Y_test, Y2_test_Tree_predict))"
   ]
  },
  {
   "cell_type": "code",
   "execution_count": null,
   "metadata": {},
   "outputs": [],
   "source": [
    "Y_test_proba = tree_clf.predict_proba(X_test)\n",
    "Y_test_proba[:,1]\n",
    "\n",
    "from sklearn.metrics import precision_recall_curve\n",
    "\n",
    "precisions, recalls, thresholds = precision_recall_curve(y_true = Y_test, probas_pred = Y_test_proba[:,1])\n",
    "print(\" Precision = \", precisions, \"\\n\", \"Recalls = \", recalls, \"\\n\", \"Thresholds = \", thresholds)"
   ]
  },
  {
   "cell_type": "markdown",
   "metadata": {},
   "source": [
    "## Precision plot graph "
   ]
  },
  {
   "cell_type": "code",
   "execution_count": null,
   "metadata": {},
   "outputs": [],
   "source": [
    "def plot_precision_recall_vs_threshold (precisions, recalls, thresholds, color = \"k\", label = None):\n",
    "    plt.plot (thresholds, precisions[:-1], color+\"--\", label=\"Precision \"+label)\n",
    "    plt.plot (thresholds, recalls[:-1], color+\"-\", label=\"Recall \"+label)\n",
    "    plt.xlabel(\"Threshold\")\n",
    "    plt.legend(loc=\"upper right\")\n",
    "    plt.ylim([0,1])"
   ]
  },
  {
   "cell_type": "code",
   "execution_count": null,
   "metadata": {},
   "outputs": [],
   "source": [
    "plot_precision_recall_vs_threshold( precisions, recalls, thresholds, color = \"b\", label=\"Full tree\")\n",
    "plt.legend(loc = \"best\")"
   ]
  },
  {
   "cell_type": "markdown",
   "metadata": {},
   "source": [
    "## Roc Curve Plotting"
   ]
  },
  {
   "cell_type": "code",
   "execution_count": null,
   "metadata": {},
   "outputs": [],
   "source": [
    "from sklearn.metrics import roc_curve"
   ]
  },
  {
   "cell_type": "code",
   "execution_count": null,
   "metadata": {},
   "outputs": [],
   "source": [
    "fpr, tpr, thresholds = roc_curve(Y_test, Y_test_proba[:,1])"
   ]
  },
  {
   "cell_type": "code",
   "execution_count": null,
   "metadata": {},
   "outputs": [],
   "source": [
    "def plot_roc_curve (fpr, tpr, label = None):\n",
    "    plt.plot(fpr, tpr, linewidth = 2, label = label)\n",
    "    plt.plot([0,1], [0,1], \"k--\")\n",
    "    plt.axis([0,1,0,1])\n",
    "    plt.xlabel(\"False positive rate\")\n",
    "    plt.ylabel(\"True positive rate\")\n",
    "    \n",
    "plot_roc_curve (fpr, tpr, \"Full tree\")\n",
    "plt.show()"
   ]
  },
  {
   "cell_type": "code",
   "execution_count": null,
   "metadata": {},
   "outputs": [],
   "source": [
    "from sklearn.metrics import roc_auc_score\n",
    "print(\"AUC for random guess is:   \", 0.5 )\n",
    "print(\"AUC for the Full tree is: \", roc_auc_score(Y_test, Y_test_proba[:,1]) )"
   ]
  },
  {
   "cell_type": "markdown",
   "metadata": {},
   "source": [
    "## Random forest (RF)"
   ]
  },
  {
   "cell_type": "code",
   "execution_count": null,
   "metadata": {},
   "outputs": [],
   "source": [
    "from sklearn.ensemble import RandomForestClassifier\n",
    "\n",
    "rnd_clf = RandomForestClassifier(n_estimators = 1000, max_depth = 2, n_jobs= -1)\n",
    "rnd_clf.fit (X_train, Y_train)\n",
    "y_pred_rf = rnd_clf.predict(X_test)"
   ]
  },
  {
   "cell_type": "code",
   "execution_count": null,
   "metadata": {},
   "outputs": [],
   "source": [
    "confusion_matrix(Y_test, y_pred_rf)"
   ]
  },
  {
   "cell_type": "code",
   "execution_count": null,
   "metadata": {},
   "outputs": [],
   "source": [
    "recall_score(Y_test, y_pred_rf)"
   ]
  },
  {
   "cell_type": "code",
   "execution_count": null,
   "metadata": {},
   "outputs": [],
   "source": [
    "precision_score(Y_test, y_pred_rf)"
   ]
  },
  {
   "cell_type": "code",
   "execution_count": null,
   "metadata": {},
   "outputs": [],
   "source": [
    "y_rf_proba = rnd_clf.predict_proba(X_test)\n",
    "fpr_rf, tpr_rf, thresholds_rf = roc_curve(Y_test, y_rf_proba[:,1])\n",
    "plot_roc_curve (fpr, tpr, \"Full tree\")\n",
    "plot_roc_curve (fpr_rf, tpr_rf, \"Random Forest\")\n",
    "plt.legend(loc = \"best\")\n",
    "plt.show()"
   ]
  },
  {
   "cell_type": "code",
   "execution_count": null,
   "metadata": {},
   "outputs": [],
   "source": [
    "roc_auc_score(Y_test, y_rf_proba[:,1])"
   ]
  },
  {
   "cell_type": "code",
   "execution_count": null,
   "metadata": {
    "scrolled": true
   },
   "outputs": [],
   "source": [
    "feature_score = rnd_clf.feature_importances_\n",
    "feature_score"
   ]
  },
  {
   "cell_type": "code",
   "execution_count": null,
   "metadata": {},
   "outputs": [],
   "source": [
    "feature_names = list(X_train)\n",
    "df_feature_score = pd.DataFrame(data=feature_names, columns=[\"feature\"])\n",
    "df_feature_score[\"score\"]= feature_score\n",
    "df_feature_score = df_feature_score.sort_values(by=['score'], ascending=False)\n",
    "#df_feature_score.head()\n",
    "df_feature_score_short=df_feature_score.drop(df_feature_score.index[12:])\n",
    "df_feature_score_short"
   ]
  },
  {
   "cell_type": "code",
   "execution_count": null,
   "metadata": {},
   "outputs": [],
   "source": [
    "sns.barplot(y=\"feature\", x=\"score\", data=df_feature_score_short)"
   ]
  },
  {
   "cell_type": "markdown",
   "metadata": {},
   "source": [
    "## GBM"
   ]
  },
  {
   "cell_type": "code",
   "execution_count": null,
   "metadata": {},
   "outputs": [],
   "source": [
    "from sklearn import ensemble\n",
    "\n",
    "clf_gb = ensemble.GradientBoostingClassifier()\n",
    "clf_gb.fit(X_train, Y_train)"
   ]
  },
  {
   "cell_type": "code",
   "execution_count": null,
   "metadata": {},
   "outputs": [],
   "source": [
    "y_pred_gb = clf_gb.predict(X_test)"
   ]
  },
  {
   "cell_type": "code",
   "execution_count": null,
   "metadata": {},
   "outputs": [],
   "source": [
    "confusion_matrix(Y_test, y_pred_gb)"
   ]
  },
  {
   "cell_type": "code",
   "execution_count": null,
   "metadata": {},
   "outputs": [],
   "source": [
    "recall_score(Y_test, y_pred_gb)"
   ]
  },
  {
   "cell_type": "code",
   "execution_count": null,
   "metadata": {},
   "outputs": [],
   "source": [
    "precision_score(Y_test, y_pred_gb)"
   ]
  },
  {
   "cell_type": "code",
   "execution_count": null,
   "metadata": {},
   "outputs": [],
   "source": [
    "y_gb_proba = clf_gb.predict_proba(X_test)\n",
    "fpr_gb, tpr_gb, thresholds_gb = roc_curve(Y_test, y_gb_proba[:,1])\n",
    "\n",
    "y_rf_proba = rnd_clf.predict_proba(X_test)\n",
    "fpr_rf, tpr_rf, thresholds_rf = roc_curve(Y_test, y_rf_proba[:,1])\n",
    "plot_roc_curve (fpr, tpr, \"Full tree\")\n",
    "plot_roc_curve (fpr_rf, tpr_rf, \"Random Forest\")\n",
    "plot_roc_curve (fpr_gb, tpr_gb, \"gradient boosting\")\n",
    "plt.legend(loc = \"best\")\n",
    "plt.show()"
   ]
  },
  {
   "cell_type": "markdown",
   "metadata": {},
   "source": [
    "## Precision graph plots for all methods"
   ]
  },
  {
   "cell_type": "code",
   "execution_count": null,
   "metadata": {},
   "outputs": [],
   "source": [
    "precisions_GB, recalls_GB, thresholds_GB = precision_recall_curve(y_true = Y_test, probas_pred = y_gb_proba[:,1])\n",
    "precisions_RF, recalls_RF, thresholds_RF = precision_recall_curve(y_true = Y_test, probas_pred = y_rf_proba[:,1])\n",
    "precisions, recalls, thresholds = precision_recall_curve(y_true = Y_test, probas_pred = Y_test_proba[:,1])\n",
    "\n",
    "plt.plot (thresholds, precisions[:-1], \"r\"+\"--\", label=\"Precision Full Tree\")\n",
    "plt.plot (thresholds, recalls[:-1], \"r\"+\"-\", label=\"Recall Full Tree \")\n",
    "plt.plot (thresholds_GB, precisions_GB[:-1], \"b\"+\"--\", label=\"Precision GB\")\n",
    "plt.plot (thresholds_GB, recalls_GB[:-1], \"b\"+\"-\", label=\"Recall GB\")\n",
    "plt.plot (thresholds_RF, precisions_RF[:-1], \"c\"+\"--\", label=\"Precision RF\")\n",
    "plt.plot (thresholds_RF, recalls_RF[:-1], \"c\"+\"-\", label=\"Recall RF\")\n",
    "\n",
    "plt.xlabel(\"Threshold\")\n",
    "plt.legend(loc=\"upper right\")\n",
    "plt.ylim([0,1])\n"
   ]
  },
  {
   "cell_type": "markdown",
   "metadata": {},
   "source": [
    "## Linear Regression"
   ]
  },
  {
   "cell_type": "code",
   "execution_count": 16,
   "metadata": {},
   "outputs": [],
   "source": [
    "# Linear Regression imports\n",
    "from sklearn.linear_model import LinearRegression\n",
    "lin_reg = LinearRegression()\n",
    "\n",
    "from sklearn.metrics import mean_squared_error"
   ]
  },
  {
   "cell_type": "code",
   "execution_count": 112,
   "metadata": {},
   "outputs": [
    {
     "name": "stdout",
     "output_type": "stream",
     "text": [
      "<class 'pandas.core.frame.DataFrame'>\n",
      "RangeIndex: 171612 entries, 0 to 171611\n",
      "Data columns (total 38 columns):\n",
      "Unnamed: 0                  171612 non-null int64\n",
      "creator_name                171611 non-null object\n",
      "creator_id                  171612 non-null int64\n",
      "backers_count               171612 non-null int64\n",
      "blurb                       171612 non-null object\n",
      "is_starred                  171612 non-null bool\n",
      "category.id                 171612 non-null int64\n",
      "category.name               171612 non-null object\n",
      "category.parent_id          171612 non-null float64\n",
      "category.slug               171612 non-null object\n",
      "country                     171612 non-null object\n",
      "currency                    171612 non-null object\n",
      "goal                        171612 non-null float64\n",
      "staff_pick                  171612 non-null bool\n",
      "state                       171612 non-null object\n",
      "usd_pledged                 171612 non-null float64\n",
      "usd_type                    171612 non-null object\n",
      "state_num                   171612 non-null int64\n",
      "launched_at_hr              171612 non-null int64\n",
      "launched_at_day_in_week     171612 non-null int64\n",
      "launched_at_day_in_month    171612 non-null int64\n",
      "launched_at_mo              171612 non-null int64\n",
      "launched_at_yr              171612 non-null int64\n",
      "deadline_hr                 171612 non-null int64\n",
      "deadline_day_in_week        171612 non-null int64\n",
      "deadline_day_in_month       171612 non-null int64\n",
      "deadline_mo                 171612 non-null int64\n",
      "deadline_yr                 171612 non-null int64\n",
      "created_at_hr               171612 non-null int64\n",
      "created_at_day_in_week      171612 non-null int64\n",
      "created_at_day_in_month     171612 non-null int64\n",
      "created_at_mo               171612 non-null int64\n",
      "created_at_yr               171612 non-null int64\n",
      "count                       171612 non-null int64\n",
      "success                     171612 non-null bool\n",
      "launched-created            171612 non-null int64\n",
      "deadline-launched           171612 non-null float64\n",
      "pledge_perc                 171612 non-null float64\n",
      "dtypes: bool(3), float64(5), int64(22), object(8)\n",
      "memory usage: 46.3+ MB\n"
     ]
    }
   ],
   "source": [
    "data.info()"
   ]
  },
  {
   "cell_type": "code",
   "execution_count": 306,
   "metadata": {},
   "outputs": [],
   "source": [
    "#define range of data\n",
    "data_r=data[data['pledge_perc']<300]\n",
    "data_r=data_r[data_r['pledge_perc']>=100]"
   ]
  },
  {
   "cell_type": "code",
   "execution_count": 307,
   "metadata": {},
   "outputs": [],
   "source": [
    "#define parameters for regression\n",
    "y = data_r [['pledge_perc']]\n",
    "X = data_r[['goal','deadline-launched','launched-created','category.id']]"
   ]
  },
  {
   "cell_type": "code",
   "execution_count": 308,
   "metadata": {},
   "outputs": [],
   "source": [
    "#split to train and test\n",
    "X_train, X_test, y_train, y_test = train_test_split (X, y, test_size = 0.4, random_state=8)"
   ]
  },
  {
   "cell_type": "code",
   "execution_count": 309,
   "metadata": {},
   "outputs": [
    {
     "data": {
      "text/plain": [
       "LinearRegression(copy_X=True, fit_intercept=True, n_jobs=1, normalize=False)"
      ]
     },
     "execution_count": 309,
     "metadata": {},
     "output_type": "execute_result"
    }
   ],
   "source": [
    "#perform regression\n",
    "lin_reg.fit(X_train, y_train)"
   ]
  },
  {
   "cell_type": "code",
   "execution_count": 310,
   "metadata": {},
   "outputs": [
    {
     "name": "stdout",
     "output_type": "stream",
     "text": [
      "predicted y =  [[  1.51312151e-05  -7.24268512e+00   3.13647943e-03   2.58183047e-02]]  * X +  [ 155.74455338]\n"
     ]
    }
   ],
   "source": [
    "print(\"predicted y = \", lin_reg.coef_, \" * X + \", lin_reg.intercept_)"
   ]
  },
  {
   "cell_type": "code",
   "execution_count": 311,
   "metadata": {},
   "outputs": [],
   "source": [
    "y_test_pred_numeric = lin_reg.predict(X_test)"
   ]
  },
  {
   "cell_type": "code",
   "execution_count": 312,
   "metadata": {},
   "outputs": [
    {
     "data": {
      "text/plain": [
       "0.010233245970495686"
      ]
     },
     "execution_count": 312,
     "metadata": {},
     "output_type": "execute_result"
    }
   ],
   "source": [
    "lin_reg.score(X_test, y_test)\n",
    "#R square score"
   ]
  },
  {
   "cell_type": "code",
   "execution_count": 313,
   "metadata": {},
   "outputs": [
    {
     "data": {
      "text/plain": [
       "1762.3757591882068"
      ]
     },
     "execution_count": 313,
     "metadata": {},
     "output_type": "execute_result"
    }
   ],
   "source": [
    "mean_squared_error(y_test, y_test_pred_numeric)"
   ]
  },
  {
   "cell_type": "code",
   "execution_count": 314,
   "metadata": {},
   "outputs": [
    {
     "data": {
      "text/plain": [
       "[Text(0,0.5,'Residual = Y-predicted - Y-test'), Text(0.5,0,'Y-test')]"
      ]
     },
     "execution_count": 314,
     "metadata": {},
     "output_type": "execute_result"
    },
    {
     "data": {
      "image/png": "[encoded data removed]",
      "text/plain": [
       "<Figure size 432x288 with 1 Axes>"
      ]
     },
     "metadata": {},
     "output_type": "display_data"
    }
   ],
   "source": [
    "ax= sns.residplot(y_test, y_test-y_test_pred_numeric, color=\"g\")\n",
    "ax.set(xlabel='Y-test', ylabel='Residual = Y-predicted - Y-test')\n"
   ]
  },
  {
   "cell_type": "code",
   "execution_count": null,
   "metadata": {},
   "outputs": [],
   "source": []
  },
  {
   "cell_type": "code",
   "execution_count": null,
   "metadata": {},
   "outputs": [],
   "source": []
  }
 ],
 "metadata": {
  "kernelspec": {
   "display_name": "Python 3",
   "language": "python",
   "name": "python3"
  },
  "language_info": {
   "codemirror_mode": {
    "name": "ipython",
    "version": 3
   },
   "file_extension": ".py",
   "mimetype": "text/x-python",
   "name": "python",
   "nbconvert_exporter": "python",
   "pygments_lexer": "ipython3",
   "version": "3.6.5"
  }
 },
 "nbformat": 4,
 "nbformat_minor": 2
}
