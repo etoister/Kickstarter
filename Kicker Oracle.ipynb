{
 "cells": [
  {
   "cell_type": "code",
   "execution_count": 2,
   "metadata": {},
   "outputs": [],
   "source": [
    "import pandas as pd\n",
    "import numpy as np\n",
    "import datetime as dt\n",
    "import os, json\n",
    "import matplotlib.pyplot as plt \n",
    "%matplotlib inline \n",
    "import seaborn as sns\n",
    "import scipy.stats as stats\n",
    "from scipy.stats import norm\n",
    "from sklearn.preprocessing import OneHotEncoder\n",
    "from sklearn.preprocessing import StandardScaler\n",
    "from sklearn.model_selection import train_test_split\n",
    "from sklearn.tree import DecisionTreeClassifier\n",
    "\n",
    "from sklearn.tree import export_graphviz \n",
    "import graphviz\n",
    "\n",
    "from sklearn.metrics import confusion_matrix"
   ]
  },
  {
   "cell_type": "code",
   "execution_count": 216,
   "metadata": {},
   "outputs": [],
   "source": [
    "#func that reads the ''category'' column (from JSON format)\n",
    "def CustomParser1(df):\n",
    "    j1 = json.loads(df)\n",
    "    return j1"
   ]
  },
  {
   "cell_type": "markdown",
   "metadata": {},
   "source": [
    "This part loads as many files as instructed"
   ]
  },
  {
   "cell_type": "code",
   "execution_count": 217,
   "metadata": {},
   "outputs": [
    {
     "name": "stdout",
     "output_type": "stream",
     "text": [
      "How many file should I load? 1..54  54\n",
      "<class 'pandas.core.frame.DataFrame'>\n",
      "RangeIndex: 205865 entries, 0 to 205864\n",
      "Data columns (total 37 columns):\n",
      "backers_count               205865 non-null int64\n",
      "blurb                       205855 non-null object\n",
      "category                    205865 non-null object\n",
      "converted_pledged_amount    205865 non-null int64\n",
      "country                     205865 non-null object\n",
      "created_at                  205865 non-null int64\n",
      "creator                     205865 non-null object\n",
      "currency                    205865 non-null object\n",
      "currency_symbol             205865 non-null object\n",
      "currency_trailing_code      205865 non-null bool\n",
      "current_currency            205865 non-null object\n",
      "deadline                    205865 non-null int64\n",
      "disable_communication       205865 non-null bool\n",
      "friends                     108 non-null object\n",
      "fx_rate                     205865 non-null float64\n",
      "goal                        205865 non-null float64\n",
      "id                          205865 non-null int64\n",
      "is_backing                  108 non-null object\n",
      "is_starrable                205865 non-null bool\n",
      "is_starred                  108 non-null object\n",
      "launched_at                 205865 non-null int64\n",
      "location                    204578 non-null object\n",
      "name                        205864 non-null object\n",
      "permissions                 108 non-null object\n",
      "photo                       205865 non-null object\n",
      "pledged                     205865 non-null float64\n",
      "profile                     205865 non-null object\n",
      "slug                        205865 non-null object\n",
      "source_url                  205865 non-null object\n",
      "spotlight                   205865 non-null bool\n",
      "staff_pick                  205865 non-null bool\n",
      "state                       205865 non-null object\n",
      "state_changed_at            205865 non-null int64\n",
      "static_usd_rate             205865 non-null float64\n",
      "urls                        205865 non-null object\n",
      "usd_pledged                 205865 non-null float64\n",
      "usd_type                    203264 non-null object\n",
      "dtypes: bool(5), float64(5), int64(7), object(20)\n",
      "memory usage: 51.2+ MB\n"
     ]
    }
   ],
   "source": [
    "def load_files (n):\n",
    "    df=pd.DataFrame()\n",
    "    read_df=pd.DataFrame()\n",
    "    a=[\"%03d\" % x for x in range(n)]\n",
    "    for filenum in a:\n",
    "        filename='Data/Kickstarter'+filenum+'.csv'\n",
    "        read_df=pd.read_csv(filename,converters={'category':CustomParser1},header=0)\n",
    "        df=pd.concat([df,read_df],ignore_index=True)\n",
    "        \n",
    "    df.info()\n",
    "    return df\n",
    "Filesnum=input('How many file should I load? 1..54  ')\n",
    "df=load_files (int(Filesnum))\n",
    "df.to_csv('data/jointfile.csv')"
   ]
  },
  {
   "cell_type": "code",
   "execution_count": 218,
   "metadata": {},
   "outputs": [
    {
     "name": "stdout",
     "output_type": "stream",
     "text": [
      "<class 'pandas.core.frame.DataFrame'>\n",
      "RangeIndex: 205865 entries, 0 to 205864\n",
      "Data columns (total 45 columns):\n",
      "backers_count               205865 non-null int64\n",
      "blurb                       205855 non-null object\n",
      "category                    205865 non-null object\n",
      "converted_pledged_amount    205865 non-null int64\n",
      "country                     205865 non-null object\n",
      "created_at                  205865 non-null int64\n",
      "creator                     205865 non-null object\n",
      "currency                    205865 non-null object\n",
      "currency_symbol             205865 non-null object\n",
      "currency_trailing_code      205865 non-null bool\n",
      "current_currency            205865 non-null object\n",
      "deadline                    205865 non-null int64\n",
      "disable_communication       205865 non-null bool\n",
      "friends                     108 non-null object\n",
      "fx_rate                     205865 non-null float64\n",
      "goal                        205865 non-null float64\n",
      "id                          205865 non-null object\n",
      "is_backing                  108 non-null object\n",
      "is_starrable                205865 non-null bool\n",
      "is_starred                  108 non-null object\n",
      "launched_at                 205865 non-null int64\n",
      "location                    204578 non-null object\n",
      "name                        205865 non-null object\n",
      "permissions                 108 non-null object\n",
      "photo                       205865 non-null object\n",
      "pledged                     205865 non-null float64\n",
      "profile                     205865 non-null object\n",
      "slug                        205865 non-null int64\n",
      "source_url                  205865 non-null object\n",
      "spotlight                   205865 non-null bool\n",
      "staff_pick                  205865 non-null bool\n",
      "state                       205865 non-null object\n",
      "state_changed_at            205865 non-null int64\n",
      "static_usd_rate             205865 non-null float64\n",
      "urls                        205865 non-null object\n",
      "usd_pledged                 205865 non-null float64\n",
      "usd_type                    203264 non-null object\n",
      "color                       205865 non-null int64\n",
      "parent_id                   205865 non-null int64\n",
      "position                    188538 non-null float64\n",
      "category.parent_id          188538 non-null float64\n",
      "category.id                 205865 non-null int64\n",
      "category.position           205865 non-null int64\n",
      "category.name               205865 non-null object\n",
      "category.slug               205865 non-null object\n",
      "dtypes: bool(5), float64(7), int64(11), object(22)\n",
      "memory usage: 63.8+ MB\n"
     ]
    }
   ],
   "source": [
    "# df=pd.read_csv('Data/Kickstarter.csv',converters={'category':CustomParser1},header=0)\n",
    "#make differnt columns out of ''category'' format\n",
    "df[sorted(df['category'][0].keys(),reverse=False)] = df['category'].apply(pd.Series) \n",
    "df1=df[['category','color','parent_id','urls','id','name','position']]\n",
    "df['category.parent_id']=df1['position']\n",
    "df['category.id']=df1['color']\n",
    "df['category.position']=df1['parent_id']\n",
    "df['category.name']=df1['id']\n",
    "df['category.slug']=df1['name']\n",
    "#split ''slug'' and leaves just the main category name\n",
    "df['category.slug']=df['category.slug'].apply(lambda x: x.split('/'))\n",
    "df['category.slug']=df['category.slug'].apply(lambda x: x.pop(0))\n",
    "df[['category','category.parent_id','category.id','category.name','category.position','category.slug']][:1]\n",
    "df.info()"
   ]
  },
  {
   "cell_type": "code",
   "execution_count": 219,
   "metadata": {},
   "outputs": [
    {
     "name": "stdout",
     "output_type": "stream",
     "text": [
      "droped rows: 542\n",
      "205323\n",
      "205323\n"
     ]
    }
   ],
   "source": [
    "# func that reads the ''creator'' column (from JSON format).\n",
    "#some of the cells cause problems \n",
    "    #for exemple- the cell JSON format include double apostrophes in nicknames like \"Elad \"Superman\" Toister\" confused it.\n",
    "\n",
    "def CustomParser2(df2):\n",
    "    try:\n",
    "        j2 = json.loads(df2)\n",
    "        return j2\n",
    "    except: #the func pass all the errored rows and return 0 to the \"creator\" columnn. \n",
    "        return 0\n",
    "    pass\n",
    "            \n",
    "df2=pd.read_csv('data/jointfile.csv',converters={'creator':CustomParser2},header=0)\n",
    "#count and collect all the droped rows- so we can know the \"cost\" of te dropping (and maybe i will succed to solve it in the future)\n",
    "droped=df2.loc[df2['creator']==0,['creator']]\n",
    "df2=df2.loc[df2['creator']!=0]\n",
    "drop_list=list(droped.index)\n",
    "#df['creator'].iloc[drop_list]=df['creator'].iloc[drop_list].apply(lambda x: x.replace(' ',',')) is a start of a solution\n",
    "df=df.drop(index=drop_list)\n",
    "print('droped rows:',len(drop_list))\n",
    "print (len(df))\n",
    "print (len(df2))\n"
   ]
  },
  {
   "cell_type": "code",
   "execution_count": 220,
   "metadata": {},
   "outputs": [
    {
     "name": "stdout",
     "output_type": "stream",
     "text": [
      "<class 'pandas.core.frame.DataFrame'>\n",
      "Int64Index: 205323 entries, 0 to 205864\n",
      "Data columns (total 47 columns):\n",
      "backers_count               205323 non-null int64\n",
      "blurb                       205313 non-null object\n",
      "category                    205323 non-null object\n",
      "converted_pledged_amount    205323 non-null int64\n",
      "country                     205323 non-null object\n",
      "created_at                  205323 non-null int64\n",
      "creator                     205323 non-null object\n",
      "currency                    205323 non-null object\n",
      "currency_symbol             205323 non-null object\n",
      "currency_trailing_code      205323 non-null bool\n",
      "current_currency            205323 non-null object\n",
      "deadline                    205323 non-null int64\n",
      "disable_communication       205323 non-null bool\n",
      "friends                     108 non-null object\n",
      "fx_rate                     205323 non-null float64\n",
      "goal                        205323 non-null float64\n",
      "id                          205323 non-null object\n",
      "is_backing                  108 non-null object\n",
      "is_starrable                205323 non-null bool\n",
      "is_starred                  108 non-null object\n",
      "launched_at                 205323 non-null int64\n",
      "location                    204037 non-null object\n",
      "name                        205323 non-null object\n",
      "permissions                 108 non-null object\n",
      "photo                       205323 non-null object\n",
      "pledged                     205323 non-null float64\n",
      "profile                     205323 non-null object\n",
      "slug                        205323 non-null int64\n",
      "source_url                  205323 non-null object\n",
      "spotlight                   205323 non-null bool\n",
      "staff_pick                  205323 non-null bool\n",
      "state                       205323 non-null object\n",
      "state_changed_at            205323 non-null int64\n",
      "static_usd_rate             205323 non-null float64\n",
      "urls                        205323 non-null object\n",
      "usd_pledged                 205323 non-null float64\n",
      "usd_type                    202724 non-null object\n",
      "color                       205323 non-null int64\n",
      "parent_id                   205323 non-null int64\n",
      "position                    188018 non-null float64\n",
      "category.parent_id          188018 non-null float64\n",
      "category.id                 205323 non-null int64\n",
      "category.position           205323 non-null int64\n",
      "category.name               205323 non-null object\n",
      "category.slug               205323 non-null object\n",
      "creator_name                205323 non-null object\n",
      "creator_id                  205323 non-null int64\n",
      "dtypes: bool(5), float64(7), int64(12), object(23)\n",
      "memory usage: 68.3+ MB\n"
     ]
    }
   ],
   "source": [
    "# 2 func that make diffent columns out of \"creator\" column (the auto func i used before don't works here. i did it manually)\n",
    "df2['creator_name']=df2['creator'].apply(lambda x: x['name'])\n",
    "df2['creator_id']=df2['creator'].apply(lambda x: x['id'])\n",
    "#\"inject\" it back to the original df\n",
    "df['creator_name']=df2['creator_name']\n",
    "df['creator_id']=df2['creator_id']\n",
    "df.info()"
   ]
  },
  {
   "cell_type": "code",
   "execution_count": 221,
   "metadata": {},
   "outputs": [],
   "source": [
    "#cleaning func\n",
    "def clean(df):\n",
    "    data = df.copy()\n",
    "    #this is important beacuse this is the part we decide  which columns entered the data set.\n",
    "    #the main structure is like in the exemple but i manipulate and add some additional columns i think we need to include(*marked) . \n",
    "    selected_cols = ['creator_name', #*\n",
    "                     'creator_id', #*\n",
    "                     'backers_count',\n",
    "                     'blurb',\n",
    "                     'is_starred', #*\n",
    "                     'category.id', #*\n",
    "                     'category.name',\n",
    "                     'category.parent_id',\n",
    "                     'category.slug',\n",
    "                     'country',\n",
    "                     'created_at',\n",
    "                     'currency',  \n",
    "                     'deadline',\n",
    "                     'goal',\n",
    "                     'launched_at',\n",
    "                     'staff_pick',\n",
    "                     'state',\n",
    "                     'usd_pledged',\n",
    "                     'usd_type']\n",
    "    data = data[selected_cols]\n",
    "    data['is_starred']=data['is_starred'].replace({1: True , None: False})\n",
    "    data = data.dropna()\n",
    "    successful = data['state'] == \"successful\"\n",
    "    failed = data['state'] == \"failed\"\n",
    "    cancelled = data['state'] == \"cancelled\"\n",
    "    suspended = data['state'] == \"suspended\"\n",
    "    data = data.loc[failed | successful | cancelled | suspended]\n",
    "    num_cols = ['usd_pledged',\n",
    "                'deadline',\n",
    "                'created_at',\n",
    "                'launched_at']\n",
    "    data[num_cols] = data[num_cols].apply(pd.to_numeric, errors='coerce')\n",
    "    data['created_at'] = pd.to_datetime(data['created_at'],unit='s')\n",
    "    data['launched_at'] = pd.to_datetime(data['launched_at'],unit='s')\n",
    "    data['deadline'] = pd.to_datetime(data['deadline'],unit='s')\n",
    "    return data\n",
    "\n",
    "data = clean(df)\n"
   ]
  },
  {
   "cell_type": "code",
   "execution_count": 222,
   "metadata": {
    "scrolled": true
   },
   "outputs": [
    {
     "name": "stdout",
     "output_type": "stream",
     "text": [
      "<class 'pandas.core.frame.DataFrame'>\n",
      "Int64Index: 171612 entries, 0 to 205864\n",
      "Data columns (total 38 columns):\n",
      "creator_name                171612 non-null object\n",
      "creator_id                  171612 non-null int64\n",
      "backers_count               171612 non-null int64\n",
      "blurb                       171612 non-null object\n",
      "is_starred                  171612 non-null bool\n",
      "category.id                 171612 non-null int64\n",
      "category.name               171612 non-null object\n",
      "category.parent_id          171612 non-null float64\n",
      "category.slug               171612 non-null object\n",
      "country                     171612 non-null object\n",
      "currency                    171612 non-null object\n",
      "goal                        171612 non-null float64\n",
      "spotlight                   171612 non-null bool\n",
      "staff_pick                  171612 non-null bool\n",
      "state                       171612 non-null object\n",
      "usd_pledged                 171612 non-null float64\n",
      "usd_type                    171612 non-null object\n",
      "state_num                   171612 non-null int64\n",
      "launched_at_hr              171612 non-null int64\n",
      "launched_at_day_in_week     171612 non-null int64\n",
      "launched_at_day_in_month    171612 non-null int64\n",
      "launched_at_mo              171612 non-null int64\n",
      "launched_at_yr              171612 non-null int64\n",
      "deadline_hr                 171612 non-null int64\n",
      "deadline_day_in_week        171612 non-null int64\n",
      "deadline_day_in_month       171612 non-null int64\n",
      "deadline_mo                 171612 non-null int64\n",
      "deadline_yr                 171612 non-null int64\n",
      "created_at_hr               171612 non-null int64\n",
      "created_at_day_in_week      171612 non-null int64\n",
      "created_at_day_in_month     171612 non-null int64\n",
      "created_at_mo               171612 non-null int64\n",
      "created_at_yr               171612 non-null int64\n",
      "count                       171612 non-null int64\n",
      "success                     171612 non-null bool\n",
      "launched-created            171612 non-null int64\n",
      "deadline-launched           171612 non-null int64\n",
      "pledge_perc                 171612 non-null float64\n",
      "dtypes: bool(4), float64(4), int64(22), object(8)\n",
      "memory usage: 46.5+ MB\n"
     ]
    }
   ],
   "source": [
    "def engineer_features(data):\n",
    "    #make state 1 or 0\n",
    "    data['state'].replace('suspended','failed',inplace=True)   \n",
    "    data['state_num'] = data['state'].apply(lambda x: 1 if x=='successful' else 0)\n",
    "    #time to reletive time\n",
    "    data['launched_at_hr'] = data['launched_at'].apply(lambda x: x.hour) + 1\n",
    "    data['launched_at_day_in_week'] = data['launched_at'].apply(lambda x: x.dayofweek + 1)\n",
    "    data['launched_at_day_in_month'] = data['launched_at'].apply(lambda x: x.day ) #Elad's comment\n",
    "    data['launched_at_mo'] = data['launched_at'].apply(lambda x: x.month)\n",
    "    data['launched_at_yr'] = data['launched_at'].apply(lambda x: x.year)\n",
    "    data['deadline_hr'] = data['deadline'].apply(lambda x: x.hour) + 1\n",
    "    data['deadline_day_in_week'] = data['deadline'].apply(lambda x: x.dayofweek + 1) \n",
    "    data['deadline_day_in_month'] = data['deadline'].apply(lambda x: x.day ) #Elad's comment\n",
    "    data['deadline_mo'] = data['deadline'].apply(lambda x: x.month)\n",
    "    data['deadline_yr'] = data['deadline'].apply(lambda x: x.year)\n",
    "    data['created_at_hr'] = data['created_at'].apply(lambda x: x.hour) + 1\n",
    "    data['created_at_day_in_week'] = data['created_at'].apply(lambda x: x.dayofweek + 1) \n",
    "    data['created_at_day_in_month'] = data['created_at'].apply(lambda x: x.day )  #Elad's comment\n",
    "    data['created_at_mo'] = data['created_at'].apply(lambda x: x.month)\n",
    "    data['created_at_yr'] = data['created_at'].apply(lambda x: x.year)\n",
    "    data['count'] = 1\n",
    "    data['success'] = (data['state'] == 'successful')\n",
    "    data['launched-created'] = (data.launched_at - data.created_at).dt.components.days\n",
    "    data['deadline-launched'] = (data.deadline - data.launched_at).dt.components.days\n",
    "    data=data.drop(['launched_at','created_at','deadline'],axis=1) #drop original time col\n",
    "    data['pledge_perc']=data['usd_pledged']/data['goal']*100\n",
    "   \n",
    "    return data\n",
    "data = engineer_features(data)\n",
    "data.info()\n",
    "data.to_csv('Data/data.csv')"
   ]
  },
  {
   "cell_type": "code",
   "execution_count": 224,
   "metadata": {},
   "outputs": [],
   "source": [
    "data.to_csv('data/jointfile.csv')"
   ]
  },
  {
   "cell_type": "code",
   "execution_count": 48,
   "metadata": {},
   "outputs": [],
   "source": [
    "data=pd.read_csv('data/jointfile.csv')"
   ]
  },
  {
   "cell_type": "code",
   "execution_count": 4,
   "metadata": {},
   "outputs": [
    {
     "name": "stdout",
     "output_type": "stream",
     "text": [
      "category.id         -0.338792\n",
      "deadline_yr         -0.189162\n",
      "created_at_yr       -0.188553\n",
      "launched_at_yr      -0.186114\n",
      "deadline-launched   -0.084613\n",
      "Name: state_num, dtype: float64\n",
      "spotlight        1.000000\n",
      "state_num        1.000000\n",
      "success          1.000000\n",
      "staff_pick       0.259855\n",
      "backers_count    0.110707\n",
      "Name: state_num, dtype: float64\n"
     ]
    }
   ],
   "source": [
    "corr_df=data.corr()\n",
    "cor_st=corr_df.loc['state_num']\n",
    "print(cor_st.nsmallest())\n",
    "print(cor_st.nlargest())"
   ]
  },
  {
   "cell_type": "markdown",
   "metadata": {},
   "source": [
    "# Cut edge"
   ]
  },
  {
   "cell_type": "code",
   "execution_count": 5,
   "metadata": {},
   "outputs": [],
   "source": [
    "numrical=[\n",
    " 'goal',\n",
    " 'usd_pledged',\n",
    " 'launched-created',\n",
    " 'deadline-launched',\n",
    " 'pledge_perc']\n"
   ]
  },
  {
   "cell_type": "code",
   "execution_count": 236,
   "metadata": {},
   "outputs": [
    {
     "data": {
      "text/plain": [
       "NormaltestResult(statistic=615829.7102101952, pvalue=0.0)"
      ]
     },
     "execution_count": 236,
     "metadata": {},
     "output_type": "execute_result"
    }
   ],
   "source": [
    "stats.normaltest(data['goal'])"
   ]
  },
  {
   "cell_type": "code",
   "execution_count": 34,
   "metadata": {},
   "outputs": [
    {
     "name": "stderr",
     "output_type": "stream",
     "text": [
      "C:\\anaconda\\lib\\site-packages\\matplotlib\\axes\\_axes.py:6462: UserWarning: The 'normed' kwarg is deprecated, and has been replaced by the 'density' kwarg.\n",
      "  warnings.warn(\"The 'normed' kwarg is deprecated, and has been \"\n"
     ]
    },
    {
     "data": {
      "text/plain": [
       "<matplotlib.axes._subplots.AxesSubplot at 0x1abd67b8710>"
      ]
     },
     "execution_count": 34,
     "metadata": {},
     "output_type": "execute_result"
    },
    {
     "data": {
      "image/png": "[encoded data removed]",
      "text/plain": [
       "<Figure size 432x288 with 1 Axes>"
      ]
     },
     "metadata": {},
     "output_type": "display_data"
    }
   ],
   "source": [
    "data['goal'].describe()\n",
    "sns.distplot(data[\"goal\"], fit=norm)"
   ]
  },
  {
   "cell_type": "code",
   "execution_count": 51,
   "metadata": {
    "scrolled": true
   },
   "outputs": [
    {
     "name": "stderr",
     "output_type": "stream",
     "text": [
      "C:\\anaconda\\lib\\site-packages\\matplotlib\\axes\\_axes.py:6462: UserWarning: The 'normed' kwarg is deprecated, and has been replaced by the 'density' kwarg.\n",
      "  warnings.warn(\"The 'normed' kwarg is deprecated, and has been \"\n"
     ]
    },
    {
     "data": {
      "text/plain": [
       "<matplotlib.axes._subplots.AxesSubplot at 0x1abd5c51a90>"
      ]
     },
     "execution_count": 51,
     "metadata": {},
     "output_type": "execute_result"
    },
    {
     "data": {
      "image/png": "[encoded data removed]",
      "text/plain": [
       "<Figure size 432x288 with 1 Axes>"
      ]
     },
     "metadata": {},
     "output_type": "display_data"
    }
   ],
   "source": [
    "#בהמשך נצטרך לפצל את המידע\n",
    "goal_highst = data[data[\"goal\"] > 4500] \n",
    "goal_lowsat = data[data[\"goal\"] <= 4500] \n",
    "log_goal = np.log(data[\"goal\"])\n",
    "sqrt_goal = np.sqrt(data[\"goal\"])\n",
    "#sns.distplot(df_highsat[[\"goal\"]], fit=norm)\n",
    "#sns.distplot(df_lowsat[[\"goal\"]], fit=norm)\n",
    "sns.distplot(log_goal, fit=norm)\n",
    "#sns.distplot(sqrt_goal, fit=norm)"
   ]
  },
  {
   "cell_type": "code",
   "execution_count": 85,
   "metadata": {},
   "outputs": [],
   "source": [
    "#log the goal\n",
    "data['goal']=np.log(data['goal'])"
   ]
  },
  {
   "cell_type": "code",
   "execution_count": 57,
   "metadata": {},
   "outputs": [
    {
     "name": "stderr",
     "output_type": "stream",
     "text": [
      "C:\\anaconda\\lib\\site-packages\\matplotlib\\axes\\_axes.py:6462: UserWarning: The 'normed' kwarg is deprecated, and has been replaced by the 'density' kwarg.\n",
      "  warnings.warn(\"The 'normed' kwarg is deprecated, and has been \"\n"
     ]
    },
    {
     "data": {
      "text/plain": [
       "count    171612.000000\n",
       "mean         40.745630\n",
       "std         109.153387\n",
       "min           0.000000\n",
       "25%           2.000000\n",
       "50%          10.000000\n",
       "75%          33.000000\n",
       "max        2593.000000\n",
       "Name: launched-created, dtype: float64"
      ]
     },
     "execution_count": 57,
     "metadata": {},
     "output_type": "execute_result"
    },
    {
     "data": {
      "image/png": "[encoded data removed]",
      "text/plain": [
       "<Figure size 432x288 with 1 Axes>"
      ]
     },
     "metadata": {},
     "output_type": "display_data"
    }
   ],
   "source": [
    "sns.distplot(data[\"launched-created\"], fit=norm)\n",
    "data[\"launched-created\"].describe()"
   ]
  },
  {
   "cell_type": "code",
   "execution_count": 74,
   "metadata": {},
   "outputs": [
    {
     "name": "stderr",
     "output_type": "stream",
     "text": [
      "C:\\anaconda\\lib\\site-packages\\ipykernel_launcher.py:3: RuntimeWarning: divide by zero encountered in log\n",
      "  This is separate from the ipykernel package so we can avoid doing imports until\n",
      "C:\\anaconda\\lib\\site-packages\\matplotlib\\axes\\_axes.py:6462: UserWarning: The 'normed' kwarg is deprecated, and has been replaced by the 'density' kwarg.\n",
      "  warnings.warn(\"The 'normed' kwarg is deprecated, and has been \"\n",
      "C:\\anaconda\\lib\\site-packages\\matplotlib\\axes\\_axes.py:6462: UserWarning: The 'normed' kwarg is deprecated, and has been replaced by the 'density' kwarg.\n",
      "  warnings.warn(\"The 'normed' kwarg is deprecated, and has been \"\n"
     ]
    },
    {
     "data": {
      "text/plain": [
       "<matplotlib.axes._subplots.AxesSubplot at 0x1abe00360b8>"
      ]
     },
     "execution_count": 74,
     "metadata": {},
     "output_type": "execute_result"
    },
    {
     "data": {
      "image/png": "[encoded data removed]",
      "text/plain": [
       "<Figure size 432x288 with 1 Axes>"
      ]
     },
     "metadata": {},
     "output_type": "display_data"
    }
   ],
   "source": [
    "#לחלק שונה בין דגימה של תיאטרון/קולנוע ולא\n",
    "lu_highst = data[data[\"launched-created\"] >40] \n",
    "lu_lowest = data[data[\"launched-created\"] <= 40] \n",
    "log_lu = np.log(data[\"launched-created\"])\n",
    "sqrt_lu = np.sqrt(data[\"launched-created\"])\n",
    "sns.distplot(lu_highst[[\"launched-created\"]], fit=norm, bins=50)\n",
    "sns.distplot(lu_lowest[[\"launched-created\"]], fit=norm, bins=50)\n",
    "#sns.distplot(log_lu, fit=norm)\n",
    "#sns.distplot(sqrt_lu, fit=norm)"
   ]
  },
  {
   "cell_type": "code",
   "execution_count": 75,
   "metadata": {},
   "outputs": [
    {
     "name": "stderr",
     "output_type": "stream",
     "text": [
      "C:\\anaconda\\lib\\site-packages\\matplotlib\\axes\\_axes.py:6462: UserWarning: The 'normed' kwarg is deprecated, and has been replaced by the 'density' kwarg.\n",
      "  warnings.warn(\"The 'normed' kwarg is deprecated, and has been \"\n"
     ]
    },
    {
     "data": {
      "text/plain": [
       "count    171612.000000\n",
       "mean         33.470124\n",
       "std          12.722949\n",
       "min           1.000000\n",
       "25%          29.000000\n",
       "50%          30.000000\n",
       "75%          35.000000\n",
       "max          91.000000\n",
       "Name: deadline-launched, dtype: float64"
      ]
     },
     "execution_count": 75,
     "metadata": {},
     "output_type": "execute_result"
    },
    {
     "data": {
      "image/png": "[encoded data removed]",
      "text/plain": [
       "<Figure size 432x288 with 1 Axes>"
      ]
     },
     "metadata": {},
     "output_type": "display_data"
    }
   ],
   "source": [
    "sns.distplot(data[\"deadline-launched\"], fit=norm)\n",
    "data[\"deadline-launched\"].describe()"
   ]
  },
  {
   "cell_type": "code",
   "execution_count": 84,
   "metadata": {},
   "outputs": [
    {
     "name": "stderr",
     "output_type": "stream",
     "text": [
      "C:\\anaconda\\lib\\site-packages\\matplotlib\\axes\\_axes.py:6462: UserWarning: The 'normed' kwarg is deprecated, and has been replaced by the 'density' kwarg.\n",
      "  warnings.warn(\"The 'normed' kwarg is deprecated, and has been \"\n"
     ]
    },
    {
     "data": {
      "text/plain": [
       "<matplotlib.axes._subplots.AxesSubplot at 0x1abe7c62518>"
      ]
     },
     "execution_count": 84,
     "metadata": {},
     "output_type": "execute_result"
    },
    {
     "data": {
      "image/png": "[encoded data removed]",
      "text/plain": [
       "<Figure size 432x288 with 1 Axes>"
      ]
     },
     "metadata": {},
     "output_type": "display_data"
    }
   ],
   "source": [
    "de_highst = data[data[\"deadline-launched\"] >50] \n",
    "de_lowest = data[data[\"deadline-launched\"] <= 50]\n",
    "#צריך בהמשך לעשות LOG על הגבוה והנמוך בנפרד\n",
    "log_de = np.log(data[\"deadline-launched\"])\n",
    "sqrt_de = np.sqrt(data[\"deadline-launched\"])\n",
    "#sns.distplot(de_highst[[\"deadline-launched\"]], fit=norm)\n",
    "#sns.distplot(de_lowest[[\"deadline-launched\"]], fit=norm)\n",
    "#sns.distplot(log_de, fit=norm)\n",
    "sns.distplot(sqrt_de, fit=norm) "
   ]
  },
  {
   "cell_type": "code",
   "execution_count": 86,
   "metadata": {},
   "outputs": [],
   "source": [
    "#בנתיים נעשה רק SQRT (צריך לבדוק יעילות)\n",
    "data[\"deadline-launched\"]=np.log(data[\"deadline-launched\"])"
   ]
  },
  {
   "cell_type": "markdown",
   "metadata": {},
   "source": [
    "## Data visualization"
   ]
  },
  {
   "cell_type": "code",
   "execution_count": null,
   "metadata": {},
   "outputs": [],
   "source": [
    "from seaborn import set\n",
    "plt.rcParams['figure.figsize']=(20,20)\n",
    "set(font_scale=2)\n",
    "b=sns.countplot(x='category.slug', hue='success',data=data)\n",
    "b.set_xlabel(\"Categories\",fontsize=18)\n",
    "b.set_ylabel(\"Count\",fontsize=18)\n",
    "b.tick_params(labelsize=14)"
   ]
  },
  {
   "cell_type": "code",
   "execution_count": null,
   "metadata": {},
   "outputs": [],
   "source": [
    "PP=np.clip(data['pledge_perc'], 0, 300)\n",
    "fig=PP.hist(bins = 200, figsize = (20,15),color='gold')\n",
    "fig.set_xlabel(\"% of Capital raised from initial goal\",fontsize=10,color='b')\n",
    "fig.set_ylabel(\"Count\",fontsize=18,color='b')\n"
   ]
  },
  {
   "cell_type": "code",
   "execution_count": null,
   "metadata": {},
   "outputs": [],
   "source": [
    "corr_matrix = data.corr()\n",
    "corr_matrix[\"success\"].sort_values()"
   ]
  },
  {
   "cell_type": "code",
   "execution_count": null,
   "metadata": {},
   "outputs": [],
   "source": [
    "sns.heatmap(corr_matrix[(corr_matrix<1) & ((corr_matrix >= 0.2) | (corr_matrix <= -0.2)) ] )"
   ]
  },
  {
   "cell_type": "code",
   "execution_count": null,
   "metadata": {},
   "outputs": [],
   "source": [
    "plt.scatter(x='category.slug', y='usd_pledged', data=data, alpha=0.5, color='r')\n",
    "plt.ylabel(\"USD Pledged\",fontsize=18)"
   ]
  },
  {
   "cell_type": "code",
   "execution_count": null,
   "metadata": {},
   "outputs": [],
   "source": [
    "sns.factorplot(x='category.slug', y='goal', hue='state_num', kind='bar', data=data, size=15)\n",
    "locs, labels = plt.xticks();\n",
    "plt.setp(labels, rotation=90);\n",
    "plt.title('Range of goal ($) among successful and failed projects')\n",
    "plt.gca().set_yscale(\"log\", nonposy='clip');\n",
    "#מראה את הצלחת הפרויקטים לפי סכום היעד לגיוס- רואים שבגדול פרויקטים שנכשלו ביקשו יותר מדי. מצד שני רואים (טבלה הבאה) שפרויקטים שהצליחו לרב יגייסו 150%\n",
    "#"
   ]
  },
  {
   "cell_type": "code",
   "execution_count": null,
   "metadata": {},
   "outputs": [],
   "source": [
    "df_suc=data.loc[data['success']==True]\n",
    "ax=sns.factorplot(x='category.slug', y='pledge_perc', kind='bar', data=data, size=15)\n",
    "locs, labels = plt.xticks();\n",
    "plt.setp(labels, rotation=90);\n",
    "plt.title('Pledge % (log) Among Successful Projects')\n",
    "plt.gca().set_yscale(\"log\", nonposy='clip');\n",
    "#מה אחוז הגיוס מתוך פריקטים שהצליחו. רואים שניתן לגייס ''פחות'' אבל בפועל יצא יותר"
   ]
  },
  {
   "cell_type": "code",
   "execution_count": null,
   "metadata": {},
   "outputs": [],
   "source": [
    "print('Average pledge % per category')\n",
    "df_suc.groupby('category.slug', as_index=False, sort=False)['pledge_perc'].mean()"
   ]
  },
  {
   "cell_type": "code",
   "execution_count": null,
   "metadata": {},
   "outputs": [],
   "source": [
    "sns.factorplot(x='category.slug', y='launched-created', hue='state_num', kind='bar', data=data, size=15)\n",
    "locs, labels = plt.xticks();\n",
    "plt.setp(labels, rotation=90);\n",
    "plt.title('Time difference between lunched and created [days]')\n",
    "plt.gca().set_yscale(\"linear\", nonposy='clip');\n",
    "#כמעט תמיד עדיף להשיק אחרי שהקמפייין ''מתבשל'' קצת. חריגים הם הקולנוע והתיאטרון"
   ]
  },
  {
   "cell_type": "code",
   "execution_count": null,
   "metadata": {},
   "outputs": [],
   "source": [
    "sns.factorplot(x='category.slug', y='deadline-launched', hue='state_num', kind='bar', data=data, size=7)\n",
    "locs, labels = plt.xticks();\n",
    "plt.setp(labels, rotation=90);\n",
    "plt.title('Deadline-launched [Days]')\n",
    "plt.gca().set_yscale(\"linear\", nonposy='clip');\n",
    "#נתון כנראה לא רלוונטי"
   ]
  },
  {
   "cell_type": "markdown",
   "metadata": {},
   "source": [
    "#  ML data set creation"
   ]
  },
  {
   "cell_type": "code",
   "execution_count": 96,
   "metadata": {},
   "outputs": [],
   "source": [
    "data=pd.read_csv('data/jointfile.csv',header=0)"
   ]
  },
  {
   "cell_type": "code",
   "execution_count": 78,
   "metadata": {},
   "outputs": [],
   "source": [
    "Dtree_Params=['goal','deadline-launched','launched-created','staff_pick','category.id']\n",
    "train_df, test_df= train_test_split (data, test_size = 0.2, random_state=6)\n",
    "Y_train = train_df[\"state_num\"]\n",
    "X_train = train_df[Dtree_Params]\n",
    "Y_test=test_df[\"state_num\"]\n",
    "X_test=test_df[Dtree_Params]"
   ]
  },
  {
   "cell_type": "code",
   "execution_count": 79,
   "metadata": {},
   "outputs": [
    {
     "data": {
      "text/plain": [
       "DecisionTreeClassifier(class_weight=None, criterion='gini', max_depth=8,\n",
       "            max_features=None, max_leaf_nodes=None,\n",
       "            min_impurity_decrease=0.0, min_impurity_split=None,\n",
       "            min_samples_leaf=1, min_samples_split=2,\n",
       "            min_weight_fraction_leaf=0.0, presort=False, random_state=None,\n",
       "            splitter='best')"
      ]
     },
     "execution_count": 79,
     "metadata": {},
     "output_type": "execute_result"
    }
   ],
   "source": [
    "# This code creates the decision tree for the training set.\n",
    "from sklearn.tree import DecisionTreeClassifier\n",
    "\n",
    "tree_clf = DecisionTreeClassifier (max_depth = 8)\n",
    "tree_clf.fit (X_train, Y_train)"
   ]
  },
  {
   "cell_type": "markdown",
   "metadata": {
    "scrolled": false
   },
   "source": [
    "# This code shows the decision tree for the training set.\n",
    "dot_data = export_graphviz(tree_clf, out_file = None, \n",
    "                           feature_names = Dtree_Params, \n",
    "                           class_names = [ 'Failed','Successful'],\n",
    "                           rounded = True, filled=True, special_characters=True)\n",
    "graph = graphviz.Source(dot_data ) \n",
    "graph"
   ]
  },
  {
   "cell_type": "code",
   "execution_count": 80,
   "metadata": {},
   "outputs": [],
   "source": [
    "# Run the test set through the decision tree\n",
    "Y2_test_Tree_predict = tree_clf.predict (X_test)  "
   ]
  },
  {
   "cell_type": "code",
   "execution_count": 81,
   "metadata": {},
   "outputs": [
    {
     "data": {
      "text/plain": [
       "array([[11176,  3564],\n",
       "       [ 4354, 15229]], dtype=int64)"
      ]
     },
     "execution_count": 81,
     "metadata": {},
     "output_type": "execute_result"
    }
   ],
   "source": [
    "#Test set conf matrix\n",
    "conf_matrix_Testdata = confusion_matrix(Y_test, Y2_test_Tree_predict) \n",
    "conf_matrix_Testdata"
   ]
  },
  {
   "cell_type": "code",
   "execution_count": 82,
   "metadata": {},
   "outputs": [
    {
     "data": {
      "text/plain": [
       "array([[45776, 13846],\n",
       "       [17244, 60423]], dtype=int64)"
      ]
     },
     "execution_count": 82,
     "metadata": {},
     "output_type": "execute_result"
    }
   ],
   "source": [
    "#Train set conf. matrix\n",
    "conf_matrix_Traindata = confusion_matrix(Y_train, tree_clf.predict (X_train)) \n",
    "conf_matrix_Traindata"
   ]
  },
  {
   "cell_type": "code",
   "execution_count": 83,
   "metadata": {},
   "outputs": [
    {
     "name": "stdout",
     "output_type": "stream",
     "text": [
      "The recall for the train set is  0.7779752018231681\n",
      "The recall for the test set tree is  0.7776643006689475\n",
      "The precision for the train set tree is  0.8135695916196529\n",
      "The precision for the test tree is  0.8103549193848774\n"
     ]
    }
   ],
   "source": [
    "from sklearn.metrics import precision_score, recall_score\n",
    "\n",
    "print(\"The recall for the train set is \",recall_score(Y_train, tree_clf.predict (X_train)))\n",
    "print(\"The recall for the test set tree is \",recall_score(Y_test, Y2_test_Tree_predict))\n",
    "print(\"The precision for the train set tree is \",precision_score(Y_train, tree_clf.predict (X_train)))\n",
    "print(\"The precision for the test tree is \",precision_score(Y_test, Y2_test_Tree_predict))"
   ]
  },
  {
   "cell_type": "markdown",
   "metadata": {},
   "source": [
    "# ML for mod1"
   ]
  },
  {
   "cell_type": "code",
   "execution_count": 97,
   "metadata": {},
   "outputs": [
    {
     "data": {
      "text/plain": [
       "['is_starred',\n",
       " 'goal',\n",
       " 'staff_pick',\n",
       " 'launched_at_hr',\n",
       " 'launched_at_day_in_week',\n",
       " 'launched_at_day_in_month',\n",
       " 'launched_at_mo',\n",
       " 'launched_at_yr',\n",
       " 'deadline_hr',\n",
       " 'deadline_day_in_week',\n",
       " 'deadline_day_in_month',\n",
       " 'deadline_mo',\n",
       " 'deadline_yr',\n",
       " 'created_at_hr',\n",
       " 'created_at_day_in_week',\n",
       " 'created_at_day_in_month',\n",
       " 'created_at_mo',\n",
       " 'created_at_yr',\n",
       " 'launched-created',\n",
       " 'deadline-launched',\n",
       " 'state_num',\n",
       " 'category.name_3D Printing',\n",
       " 'category.name_Academic',\n",
       " 'category.name_Accessories',\n",
       " 'category.name_Action',\n",
       " 'category.name_Animals',\n",
       " 'category.name_Animation',\n",
       " 'category.name_Anthologies',\n",
       " 'category.name_Apparel',\n",
       " 'category.name_Apps',\n",
       " 'category.name_Architecture',\n",
       " 'category.name_Art Books',\n",
       " 'category.name_Audio',\n",
       " 'category.name_Bacon',\n",
       " 'category.name_Blues',\n",
       " 'category.name_Calendars',\n",
       " 'category.name_Camera Equipment',\n",
       " 'category.name_Candles',\n",
       " 'category.name_Ceramics',\n",
       " \"category.name_Children's Books\",\n",
       " 'category.name_Childrenswear',\n",
       " 'category.name_Chiptune',\n",
       " 'category.name_Civic Design',\n",
       " 'category.name_Classical Music',\n",
       " 'category.name_Comedy',\n",
       " 'category.name_Comic Books',\n",
       " 'category.name_Community Gardens',\n",
       " 'category.name_Conceptual Art',\n",
       " 'category.name_Cookbooks',\n",
       " 'category.name_Country & Folk',\n",
       " 'category.name_Couture',\n",
       " 'category.name_Crochet',\n",
       " 'category.name_DIY',\n",
       " 'category.name_DIY Electronics',\n",
       " 'category.name_Digital Art',\n",
       " 'category.name_Documentary',\n",
       " 'category.name_Drama',\n",
       " 'category.name_Drinks',\n",
       " 'category.name_Electronic Music',\n",
       " 'category.name_Embroidery',\n",
       " 'category.name_Events',\n",
       " 'category.name_Experimental',\n",
       " 'category.name_Fabrication Tools',\n",
       " 'category.name_Faith',\n",
       " 'category.name_Family',\n",
       " 'category.name_Fantasy',\n",
       " \"category.name_Farmer's Markets\",\n",
       " 'category.name_Farms',\n",
       " 'category.name_Festivals',\n",
       " 'category.name_Fiction',\n",
       " 'category.name_Fine Art',\n",
       " 'category.name_Flight',\n",
       " 'category.name_Food Trucks',\n",
       " 'category.name_Footwear',\n",
       " 'category.name_Gadgets',\n",
       " 'category.name_Gaming Hardware',\n",
       " 'category.name_Glass',\n",
       " 'category.name_Graphic Design',\n",
       " 'category.name_Graphic Novels',\n",
       " 'category.name_Hardware',\n",
       " 'category.name_Hip-Hop',\n",
       " 'category.name_Horror',\n",
       " 'category.name_Illustration',\n",
       " 'category.name_Immersive',\n",
       " 'category.name_Indie Rock',\n",
       " 'category.name_Installations',\n",
       " 'category.name_Interactive Design',\n",
       " 'category.name_Jazz',\n",
       " 'category.name_Jewelry',\n",
       " 'category.name_Kids',\n",
       " 'category.name_Knitting',\n",
       " 'category.name_Latin',\n",
       " 'category.name_Letterpress',\n",
       " 'category.name_Literary Journals',\n",
       " 'category.name_Literary Spaces',\n",
       " 'category.name_Live Games',\n",
       " 'category.name_Makerspaces',\n",
       " 'category.name_Metal',\n",
       " 'category.name_Mixed Media',\n",
       " 'category.name_Mobile Games',\n",
       " 'category.name_Movie Theaters',\n",
       " 'category.name_Music Videos',\n",
       " 'category.name_Musical',\n",
       " 'category.name_Narrative Film',\n",
       " 'category.name_Nature',\n",
       " 'category.name_Nonfiction',\n",
       " 'category.name_Painting',\n",
       " 'category.name_People',\n",
       " 'category.name_Performance Art',\n",
       " 'category.name_Performances',\n",
       " 'category.name_Periodicals',\n",
       " 'category.name_Pet Fashion',\n",
       " 'category.name_Photo',\n",
       " 'category.name_Photobooks',\n",
       " 'category.name_Places',\n",
       " 'category.name_Playing Cards',\n",
       " 'category.name_Plays',\n",
       " 'category.name_Poetry',\n",
       " 'category.name_Pop',\n",
       " 'category.name_Pottery',\n",
       " 'category.name_Print',\n",
       " 'category.name_Printing',\n",
       " 'category.name_Product Design',\n",
       " 'category.name_Public Art',\n",
       " 'category.name_Punk',\n",
       " 'category.name_Puzzles',\n",
       " 'category.name_Quilts',\n",
       " 'category.name_R&B',\n",
       " 'category.name_Radio & Podcasts',\n",
       " 'category.name_Ready-to-wear',\n",
       " 'category.name_Residencies',\n",
       " 'category.name_Restaurants',\n",
       " 'category.name_Robots',\n",
       " 'category.name_Rock',\n",
       " 'category.name_Romance',\n",
       " 'category.name_Science Fiction',\n",
       " 'category.name_Sculpture',\n",
       " 'category.name_Shorts',\n",
       " 'category.name_Small Batch',\n",
       " 'category.name_Software',\n",
       " 'category.name_Sound',\n",
       " 'category.name_Space Exploration',\n",
       " 'category.name_Spaces',\n",
       " 'category.name_Stationery',\n",
       " 'category.name_Tabletop Games',\n",
       " 'category.name_Taxidermy',\n",
       " 'category.name_Television',\n",
       " 'category.name_Textiles',\n",
       " 'category.name_Thrillers',\n",
       " 'category.name_Translations',\n",
       " 'category.name_Typography',\n",
       " 'category.name_Vegan',\n",
       " 'category.name_Video',\n",
       " 'category.name_Video Art',\n",
       " 'category.name_Video Games',\n",
       " 'category.name_Wearables',\n",
       " 'category.name_Weaving',\n",
       " 'category.name_Web',\n",
       " 'category.name_Webcomics',\n",
       " 'category.name_Webseries',\n",
       " 'category.name_Woodworking',\n",
       " 'category.name_Workshops',\n",
       " 'category.name_World Music',\n",
       " 'category.name_Young Adult',\n",
       " 'category.name_Zines',\n",
       " 'category.slug_art',\n",
       " 'category.slug_comics',\n",
       " 'category.slug_crafts',\n",
       " 'category.slug_dance',\n",
       " 'category.slug_design',\n",
       " 'category.slug_fashion',\n",
       " 'category.slug_film & video',\n",
       " 'category.slug_food',\n",
       " 'category.slug_games',\n",
       " 'category.slug_journalism',\n",
       " 'category.slug_music',\n",
       " 'category.slug_photography',\n",
       " 'category.slug_publishing',\n",
       " 'category.slug_technology',\n",
       " 'category.slug_theater',\n",
       " 'country_AT',\n",
       " 'country_AU',\n",
       " 'country_BE',\n",
       " 'country_CA',\n",
       " 'country_CH',\n",
       " 'country_DE',\n",
       " 'country_DK',\n",
       " 'country_ES',\n",
       " 'country_FR',\n",
       " 'country_GB',\n",
       " 'country_HK',\n",
       " 'country_IE',\n",
       " 'country_IT',\n",
       " 'country_JP',\n",
       " 'country_LU',\n",
       " 'country_MX',\n",
       " 'country_NL',\n",
       " 'country_NO',\n",
       " 'country_NZ',\n",
       " 'country_SE',\n",
       " 'country_SG',\n",
       " 'country_US',\n",
       " 'currency_AUD',\n",
       " 'currency_CAD',\n",
       " 'currency_CHF',\n",
       " 'currency_DKK',\n",
       " 'currency_EUR',\n",
       " 'currency_GBP',\n",
       " 'currency_HKD',\n",
       " 'currency_JPY',\n",
       " 'currency_MXN',\n",
       " 'currency_NOK',\n",
       " 'currency_NZD',\n",
       " 'currency_SEK',\n",
       " 'currency_SGD',\n",
       " 'currency_USD']"
      ]
     },
     "execution_count": 97,
     "metadata": {},
     "output_type": "execute_result"
    }
   ],
   "source": [
    "\n",
    "mod1_columns=[ 'is_starred', 'category.name', 'category.slug',\n",
    "       'country', 'currency', 'goal', 'staff_pick', 'launched_at_hr',\n",
    "       'launched_at_day_in_week', 'launched_at_day_in_month', 'launched_at_mo',\n",
    "       'launched_at_yr', 'deadline_hr', 'deadline_day_in_week',\n",
    "       'deadline_day_in_month', 'deadline_mo', 'deadline_yr', 'created_at_hr',\n",
    "       'created_at_day_in_week', 'created_at_day_in_month', 'created_at_mo',\n",
    "       'created_at_yr', 'launched-created',\n",
    "       'deadline-launched','state_num']\n",
    "\n",
    "dummies=['category.name', 'category.slug','country', 'currency']\n",
    "\n",
    "mod1=data[mod1_columns]\n",
    "mod1 = pd.get_dummies(mod1, columns=dummies) #mod1 will be the first df for the pridiction with spcific columns (maybe afterwords we will wont to add columns)\n",
    "list(mod1.columns)"
   ]
  },
  {
   "cell_type": "code",
   "execution_count": 88,
   "metadata": {},
   "outputs": [
    {
     "name": "stdout",
     "output_type": "stream",
     "text": [
      "171612\n"
     ]
    }
   ],
   "source": [
    "print(len(mod1))\n",
    "corr_df=mod1.corr()\n",
    "#corr_df[corr_df['state_num']==1]\n",
    "#corr_df[(corr_df<1) & ((corr_df >= 0.3) | (corr_df <= -0.3)) ]\n",
    "\n"
   ]
  },
  {
   "cell_type": "code",
   "execution_count": 89,
   "metadata": {},
   "outputs": [
    {
     "name": "stdout",
     "output_type": "stream",
     "text": [
      "goal                 -0.226695\n",
      "deadline_yr          -0.189162\n",
      "created_at_yr        -0.188553\n",
      "launched_at_yr       -0.186114\n",
      "category.slug_food   -0.172964\n",
      "Name: state_num, dtype: float64\n",
      "state_num                       1.000000\n",
      "staff_pick                      0.259855\n",
      "category.name_Product Design    0.120824\n",
      "category.name_Shorts            0.119089\n",
      "category.name_Tabletop Games    0.115985\n",
      "Name: state_num, dtype: float64\n"
     ]
    }
   ],
   "source": [
    "cor_st=corr_df.loc['state_num']\n",
    "print(cor_st.nsmallest())\n",
    "print(cor_st.nlargest())\n"
   ]
  },
  {
   "cell_type": "code",
   "execution_count": 98,
   "metadata": {},
   "outputs": [
    {
     "data": {
      "text/plain": [
       "Index(['is_starred', 'goal', 'staff_pick', 'launched_at_hr',\n",
       "       'launched_at_day_in_week', 'launched_at_day_in_month', 'launched_at_mo',\n",
       "       'launched_at_yr', 'deadline_hr', 'deadline_day_in_week',\n",
       "       ...\n",
       "       'currency_EUR', 'currency_GBP', 'currency_HKD', 'currency_JPY',\n",
       "       'currency_MXN', 'currency_NOK', 'currency_NZD', 'currency_SEK',\n",
       "       'currency_SGD', 'currency_USD'],\n",
       "      dtype='object', length=215)"
      ]
     },
     "execution_count": 98,
     "metadata": {},
     "output_type": "execute_result"
    }
   ],
   "source": [
    "mod1_params= mod1.columns.drop('state_num')\n",
    "mod1_params\n"
   ]
  },
  {
   "cell_type": "code",
   "execution_count": 99,
   "metadata": {},
   "outputs": [
    {
     "data": {
      "text/plain": [
       "DecisionTreeClassifier(class_weight=None, criterion='gini', max_depth=30,\n",
       "            max_features=None, max_leaf_nodes=None,\n",
       "            min_impurity_decrease=0.0, min_impurity_split=None,\n",
       "            min_samples_leaf=1, min_samples_split=2,\n",
       "            min_weight_fraction_leaf=0.0, presort=False, random_state=None,\n",
       "            splitter='best')"
      ]
     },
     "execution_count": 99,
     "metadata": {},
     "output_type": "execute_result"
    }
   ],
   "source": [
    "Dtree_Params=mod1_params\n",
    "train_df, test_df= train_test_split (mod1, test_size = 0.2, random_state=6)\n",
    "Y_train = train_df[\"state_num\"]\n",
    "X_train = train_df[Dtree_Params]\n",
    "Y_test=test_df[\"state_num\"]\n",
    "X_test=test_df[Dtree_Params]\n",
    "tree_clf = DecisionTreeClassifier (max_depth = 30)\n",
    "tree_clf.fit (X_train, Y_train)"
   ]
  },
  {
   "cell_type": "code",
   "execution_count": 100,
   "metadata": {},
   "outputs": [
    {
     "data": {
      "text/plain": [
       "array([[11013,  3727],\n",
       "       [ 3894, 15689]], dtype=int64)"
      ]
     },
     "execution_count": 100,
     "metadata": {},
     "output_type": "execute_result"
    }
   ],
   "source": [
    "# Run the test set through the decision tree\n",
    "Y2_test_Tree_predict = tree_clf.predict (X_test)  \n",
    "\n",
    "#Test set conf matrix\n",
    "conf_matrix_Testdata = confusion_matrix(Y_test, Y2_test_Tree_predict) \n",
    "conf_matrix_Testdata"
   ]
  },
  {
   "cell_type": "code",
   "execution_count": 93,
   "metadata": {},
   "outputs": [
    {
     "data": {
      "text/plain": [
       "array([[54439,  5183],\n",
       "       [ 6936, 70731]], dtype=int64)"
      ]
     },
     "execution_count": 93,
     "metadata": {},
     "output_type": "execute_result"
    }
   ],
   "source": [
    "#Train set conf. matrix\n",
    "conf_matrix_Traindata = confusion_matrix(Y_train, tree_clf.predict (X_train)) \n",
    "conf_matrix_Traindata"
   ]
  },
  {
   "cell_type": "code",
   "execution_count": 101,
   "metadata": {},
   "outputs": [
    {
     "name": "stdout",
     "output_type": "stream",
     "text": [
      "The recall for the train set is  0.9110175492809044\n",
      "The recall for the test set tree is  0.8011540621968033\n",
      "The precision for the train set tree is  0.9311102630574674\n",
      "The precision for the test tree is  0.8080449114132674\n"
     ]
    }
   ],
   "source": [
    "from sklearn.metrics import precision_score, recall_score\n",
    "\n",
    "print(\"The recall for the train set is \",recall_score(Y_train, tree_clf.predict (X_train)))\n",
    "print(\"The recall for the test set tree is \",recall_score(Y_test, Y2_test_Tree_predict))\n",
    "print(\"The precision for the train set tree is \",precision_score(Y_train, tree_clf.predict (X_train)))\n",
    "print(\"The precision for the test tree is \",precision_score(Y_test, Y2_test_Tree_predict))"
   ]
  },
  {
   "cell_type": "code",
   "execution_count": null,
   "metadata": {},
   "outputs": [],
   "source": [
    "#small tree- not finished\n",
    "Dtree_Params=mod1_params\n",
    "train_df, test_df= train_test_split (mod1, test_size = 0.2, random_state=6)\n",
    "Y_train = train_df[\"state_num\"]\n",
    "X_train = train_df[Dtree_Params]\n",
    "Y_test=test_df[\"state_num\"]\n",
    "X_test=test_df[Dtree_Params]\n",
    "tree_clf = DecisionTreeClassifier (max_depth = 30)\n",
    "tree_clf.fit (X_train, Y_train)"
   ]
  }
 ],
 "metadata": {
  "kernelspec": {
   "display_name": "Python 3",
   "language": "python",
   "name": "python3"
  },
  "language_info": {
   "codemirror_mode": {
    "name": "ipython",
    "version": 3
   },
   "file_extension": ".py",
   "mimetype": "text/x-python",
   "name": "python",
   "nbconvert_exporter": "python",
   "pygments_lexer": "ipython3",
   "version": "3.6.5"
  }
 },
 "nbformat": 4,
 "nbformat_minor": 2
}
